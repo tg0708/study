{
 "cells": [
  {
   "cell_type": "markdown",
   "id": "a5e35aa8",
   "metadata": {},
   "source": [
    "# 시작하기(001 ~ 010)"
   ]
  },
  {
   "cell_type": "code",
   "execution_count": null,
   "id": "f82c2f3c",
   "metadata": {},
   "outputs": [],
   "source": [
    "# 001 print\n",
    "print('hello world')"
   ]
  },
  {
   "cell_type": "code",
   "execution_count": null,
   "id": "a74947c5",
   "metadata": {},
   "outputs": [],
   "source": [
    "# 002 print\n",
    "print(\"Mary's cosmetics\")"
   ]
  },
  {
   "cell_type": "code",
   "execution_count": null,
   "id": "e5425ee4",
   "metadata": {},
   "outputs": [],
   "source": [
    "# 003 print\n",
    "print('신씨가 소리질렀다. \"도둑이야\"')"
   ]
  },
  {
   "cell_type": "code",
   "execution_count": null,
   "id": "5490718d",
   "metadata": {},
   "outputs": [],
   "source": [
    "# 005 print - \\n, \\t\n",
    "print(\"안녕하세요.\\n만나서\\t\\t반갑습니다.\")\n",
    "# \\n은 줄바꿈, \\t는 탭"
   ]
  },
  {
   "cell_type": "code",
   "execution_count": null,
   "id": "deeca25b",
   "metadata": {},
   "outputs": [],
   "source": [
    "# 006 print - 여러 데이터 출력\n",
    "print(\"오늘은\",\"일요일\")\n"
   ]
  },
  {
   "cell_type": "code",
   "execution_count": null,
   "id": "2cf783d6",
   "metadata": {},
   "outputs": [],
   "source": [
    "# 007 print - sep\n",
    "print(\"naver\",\"kakao\",\"sk\",\"samsung\", sep=\" ; \")\n"
   ]
  },
  {
   "cell_type": "code",
   "execution_count": null,
   "id": "026266a2",
   "metadata": {},
   "outputs": [],
   "source": [
    "# 008 print - sep\n",
    "print(\"naver\",\"kakao\",\"sk\",\"samsung\", sep=\"/\")"
   ]
  },
  {
   "cell_type": "code",
   "execution_count": null,
   "id": "80138a0d",
   "metadata": {},
   "outputs": [],
   "source": [
    "# 009 print - end\n",
    "print(\"fist\", end=\"\"); print(\"second\")"
   ]
  },
  {
   "cell_type": "code",
   "execution_count": null,
   "id": "5636762b",
   "metadata": {},
   "outputs": [],
   "source": [
    "# 010 print - 연산\n",
    "print(5/3)"
   ]
  },
  {
   "cell_type": "markdown",
   "id": "56490c84",
   "metadata": {},
   "source": [
    "# 변수(011 ~ 020)"
   ]
  },
  {
   "cell_type": "code",
   "execution_count": null,
   "id": "2e7bc760",
   "metadata": {},
   "outputs": [],
   "source": [
    "# 011 변수 - 할당\n",
    "삼성전자 = 50000\n",
    "총평가금액 = 삼성전자 * 10\n",
    "print(총평가금액)"
   ]
  },
  {
   "cell_type": "code",
   "execution_count": null,
   "id": "89805b77",
   "metadata": {},
   "outputs": [],
   "source": [
    "# 012 변수 - 할당\n",
    "시가총액 = 298000000000000\n",
    "현재가 = 50000\n",
    "PER = 15.79\n",
    "print(시가총액, type(시가총액))\n",
    "print(현재가, type(현재가))\n",
    "print(PER, type(PER))"
   ]
  },
  {
   "cell_type": "code",
   "execution_count": null,
   "id": "c0b24fcf",
   "metadata": {},
   "outputs": [],
   "source": [
    "# 013 문자열 출력\n",
    "s = \"hello\"\n",
    "t = \"python\"\n",
    "print(s+\"!\", t)"
   ]
  },
  {
   "cell_type": "code",
   "execution_count": null,
   "id": "93dd6acb",
   "metadata": {},
   "outputs": [],
   "source": [
    "# 014 파이썬을 이용한 값 계산\n",
    "2+2*3"
   ]
  },
  {
   "cell_type": "code",
   "execution_count": null,
   "id": "bbde7560",
   "metadata": {},
   "outputs": [],
   "source": [
    "# 015 type 함수\n",
    "a = 128\n",
    "print(type(a))"
   ]
  },
  {
   "cell_type": "code",
   "execution_count": null,
   "id": "e5b09fb3",
   "metadata": {},
   "outputs": [],
   "source": [
    "# 016 문자열을 정수로 변환\n",
    "num_str = 720\n",
    "str(num_str)\n",
    "print(str(num_str), type(str(num_str)))"
   ]
  },
  {
   "cell_type": "code",
   "execution_count": null,
   "id": "29bbb05d",
   "metadata": {},
   "outputs": [],
   "source": [
    "# 017 정수를 문자열 100으로 변환\n",
    "num = 100\n",
    "str_num= str(num)\n",
    "print(str_num, type(str_num))"
   ]
  },
  {
   "cell_type": "code",
   "execution_count": null,
   "id": "c09ec2cd",
   "metadata": {},
   "outputs": [],
   "source": [
    "# 018 문자열을 실수로 변환\n",
    "num = \"15.79\"\n",
    "f_num = float(num)\n",
    "print(f_num, type(f_num))"
   ]
  },
  {
   "cell_type": "code",
   "execution_count": null,
   "id": "3fe58d6d",
   "metadata": {},
   "outputs": [],
   "source": [
    "# 019 문자열을 정수로 변환\n",
    "year = '2020'\n",
    "int_year = int(year) \n",
    "print(int_year)\n",
    "print(int_year +1)\n",
    "print(int_year +2)"
   ]
  },
  {
   "cell_type": "code",
   "execution_count": null,
   "id": "e1902d3f",
   "metadata": {
    "scrolled": true
   },
   "outputs": [],
   "source": [
    "# 020 파이썬 계산\n",
    "montly = 48584\n",
    "price = montly * 36\n",
    "print(price)"
   ]
  },
  {
   "cell_type": "markdown",
   "id": "ece35184",
   "metadata": {},
   "source": [
    "# 문자열(021 ~ 050)"
   ]
  },
  {
   "cell_type": "code",
   "execution_count": null,
   "id": "38ba4b08",
   "metadata": {},
   "outputs": [],
   "source": [
    "# 021 문자열 인덱싱\n",
    "letters = 'python'\n",
    "print(letters[0],letters[2])"
   ]
  },
  {
   "cell_type": "code",
   "execution_count": null,
   "id": "4a9a267c",
   "metadata": {},
   "outputs": [],
   "source": [
    "# 022 문자열 슬라이싱\n",
    "license_plate = \"24가 2210\"\n",
    "print(license_plate[-4:])"
   ]
  },
  {
   "cell_type": "code",
   "execution_count": null,
   "id": "46066257",
   "metadata": {},
   "outputs": [],
   "source": [
    "# 021 문자열 인덱싱 - 홀수번째\n",
    "\n",
    "# 시작인덱스:끝인덱스:오프셋(얼만큼떨어질거냐)\n",
    "string = \"홀짝홀짝홀짝\"\n",
    "print(string[::2])"
   ]
  },
  {
   "cell_type": "code",
   "execution_count": null,
   "id": "d1d63fb4",
   "metadata": {},
   "outputs": [],
   "source": [
    "# 024 문자열 슬라이싱 - 거꾸로\n",
    "string = 'PYTHON'\n",
    "print(string[::-1])"
   ]
  },
  {
   "cell_type": "code",
   "execution_count": null,
   "id": "fe447279",
   "metadata": {},
   "outputs": [],
   "source": [
    "# 025 문자열 치환\n",
    "phone_number = \"010-1111-2222\"\n",
    "print(phone_number.replace(\"-\",\" \"))"
   ]
  },
  {
   "cell_type": "code",
   "execution_count": null,
   "id": "919bddfe",
   "metadata": {},
   "outputs": [],
   "source": [
    "# 026 문자열 다루기\n",
    "phone_number = \"010-1111-2222\"\n",
    "print(phone_number.replace(\"-\",\"\"))"
   ]
  },
  {
   "cell_type": "code",
   "execution_count": null,
   "id": "caae85fa",
   "metadata": {},
   "outputs": [],
   "source": [
    "# 027 문자열 다루기\n",
    "url = \"http://sharebook.kr\"\n",
    "print(url[-2:]) # 슬라이싱 이용\n",
    "url_split = url.split(\".\")\n",
    "print(url_split[1]) # split 이용"
   ]
  },
  {
   "cell_type": "code",
   "execution_count": null,
   "id": "136542ed",
   "metadata": {},
   "outputs": [],
   "source": [
    "# 028 문자열은 immutable\n",
    "lang = 'python'\n",
    "lang[0] = 'p'\n",
    "print(lang)\n",
    "# 문자열은 할당매서드를 지원하지 않으므로 수정 할 수 없음."
   ]
  },
  {
   "cell_type": "code",
   "execution_count": null,
   "id": "920b1dfb",
   "metadata": {},
   "outputs": [],
   "source": [
    "# 029 replace 메서드\n",
    "string = 'abcdfe2a354a32a'\n",
    "\n",
    "print(string.replace(\"a\",\"A\"))"
   ]
  },
  {
   "cell_type": "code",
   "execution_count": null,
   "id": "8f73ba42",
   "metadata": {},
   "outputs": [],
   "source": [
    "# 030 replace 메서드\n",
    "string = 'abcd'\n",
    "string.replace('b','B')\n",
    "print(string)"
   ]
  },
  {
   "cell_type": "code",
   "execution_count": null,
   "id": "a7d71e49",
   "metadata": {},
   "outputs": [],
   "source": [
    "# 031 문자열 합치기\n",
    "a = \"3\"\n",
    "b = \"4\"\n",
    "print(a+b, type(a+b))"
   ]
  },
  {
   "cell_type": "code",
   "execution_count": null,
   "id": "895409cd",
   "metadata": {},
   "outputs": [],
   "source": [
    "# 032 문자열 곱하기\n",
    "print(\"Hi\"*3)"
   ]
  },
  {
   "cell_type": "code",
   "execution_count": null,
   "id": "b800027d",
   "metadata": {},
   "outputs": [],
   "source": [
    "# 033 문자열 곱하기\n",
    "print(\"-\" * 80)"
   ]
  },
  {
   "cell_type": "code",
   "execution_count": null,
   "id": "6a23e8c6",
   "metadata": {},
   "outputs": [],
   "source": [
    "# 034 문자열 곱하기\n",
    "t1 = 'python'\n",
    "t2 = 'java'\n",
    "print((\" \"+ t1 + \" \" + t2)*4)"
   ]
  },
  {
   "cell_type": "code",
   "execution_count": null,
   "id": "b3e795cb",
   "metadata": {},
   "outputs": [],
   "source": [
    "# 35 문자열 출력\n",
    "name1 = \"김민수\"\n",
    "age1 = 10\n",
    "name2 = \"이철희\"\n",
    "age2 = 13\n",
    "print(\"이름 : %s 나이 : %d\" % (name1, age1))\n",
    "print(\"이름 : %s 나이 : %d\" % (name2, age2))\n"
   ]
  },
  {
   "cell_type": "code",
   "execution_count": null,
   "id": "1fd806c2",
   "metadata": {},
   "outputs": [],
   "source": [
    "# 036 문자열 출력\n",
    "name1 = \"김민수\" \n",
    "age1 = 10\n",
    "name2 = \"이철희\"\n",
    "age2 = 13\n",
    "print('이름 : {} 나이 : {}'.format(name1,age1))\n",
    "print('이름 : {} 나이 : {}'.format(name2,age2))\n"
   ]
  },
  {
   "cell_type": "code",
   "execution_count": null,
   "id": "b406a3ef",
   "metadata": {},
   "outputs": [],
   "source": [
    "# 037 문자열 출력\n",
    "name1 = \"김민수\" \n",
    "age1 = 10\n",
    "name2 = \"이철희\"\n",
    "age2 = 13\n",
    "print(f'이름 : {name1} 나이 : {age1}')\n",
    "print(f'이름 : {name2} 나이 : {age2}')"
   ]
  },
  {
   "cell_type": "code",
   "execution_count": null,
   "id": "d7f7a782",
   "metadata": {},
   "outputs": [],
   "source": [
    "# 038 컴마 제거하기\n",
    "상장주식주 = \"5,969,782,550\"\n",
    "제거 = int(상장주식주.replace(\",\",\"\"))\n",
    "print(제거, type(제거))"
   ]
  },
  {
   "cell_type": "code",
   "execution_count": null,
   "id": "7fb7f6c6",
   "metadata": {},
   "outputs": [],
   "source": [
    "# 039 문자열 슬라이싱\n",
    "분기 = \"2020/03(E) (IFRS연결)\"\n",
    "print(분기[:7])"
   ]
  },
  {
   "cell_type": "code",
   "execution_count": null,
   "id": "677c9ed2",
   "metadata": {},
   "outputs": [],
   "source": [
    "# 040 strip 메서드\n",
    "data = \"   삼성전자   \"\n",
    "data2 = data.strip()\n",
    "print(data, len(data))\n",
    "print(data2, len(data2))"
   ]
  },
  {
   "cell_type": "code",
   "execution_count": null,
   "id": "91ff313b",
   "metadata": {},
   "outputs": [],
   "source": [
    "# 041 upper 메서드\n",
    "ticker = \"btc_krw\"\n",
    "print(ticker.upper())"
   ]
  },
  {
   "cell_type": "code",
   "execution_count": null,
   "id": "4edd5d48",
   "metadata": {},
   "outputs": [],
   "source": [
    "# 042 lower 메서드\n",
    "ticker = \"BTC_KRW\"\n",
    "print(ticker.lower())"
   ]
  },
  {
   "cell_type": "code",
   "execution_count": null,
   "id": "cacc0f31",
   "metadata": {},
   "outputs": [],
   "source": [
    "# 043 capitalize 메서드\n",
    "string  = \"hello\"\n",
    "print(string.capitalize())"
   ]
  },
  {
   "cell_type": "code",
   "execution_count": null,
   "id": "68f1ae55",
   "metadata": {},
   "outputs": [],
   "source": [
    "# 044 endswith 메서드\n",
    "file_name = \"보고서.xlsx\"\n",
    "file_name.endswith(\"xlsx\")"
   ]
  },
  {
   "cell_type": "code",
   "execution_count": null,
   "id": "b8c45d78",
   "metadata": {},
   "outputs": [],
   "source": [
    "# 045 endswith 메서드\n",
    "file_name = \"보고서.xlsx\"\n",
    "file_name.endswith((\"xlsx\",\"xls\")) # 끝자리가 xlsx 또는 xls로 끝나는지 확인"
   ]
  },
  {
   "cell_type": "code",
   "execution_count": null,
   "id": "7eb7d99f",
   "metadata": {},
   "outputs": [],
   "source": [
    "# 046 startswith 메서드\n",
    "file_name = \"2020_보고서.xlsx\"\n",
    "file_name.startswith(\"2020\")"
   ]
  },
  {
   "cell_type": "code",
   "execution_count": null,
   "id": "49216803",
   "metadata": {},
   "outputs": [],
   "source": [
    "# 047 split 메서드\n",
    "a = \"hello world\"\n",
    "a.split() # 공백을 기준으로 나누기"
   ]
  },
  {
   "cell_type": "code",
   "execution_count": null,
   "id": "8923a98e",
   "metadata": {},
   "outputs": [],
   "source": [
    "# 048 split 메서드\n",
    "ticker = \"btc_krw\"\n",
    "ticker.split(\"_\")"
   ]
  },
  {
   "cell_type": "code",
   "execution_count": null,
   "id": "7ae2a385",
   "metadata": {},
   "outputs": [],
   "source": [
    "# 049 split 메서드\n",
    "date = \"2020-05-01\"\n",
    "year = date.split(\"-\")[0]\n",
    "month = date.split(\"-\")[1]\n",
    "day = date.split(\"-\")[2]\n",
    "print(year, month, day)"
   ]
  },
  {
   "cell_type": "code",
   "execution_count": null,
   "id": "c3347101",
   "metadata": {},
   "outputs": [],
   "source": [
    "# 050 rstrip 메서드\n",
    "data = \"039490     \"\n",
    "data.rstrip()"
   ]
  },
  {
   "cell_type": "markdown",
   "id": "8985fad8",
   "metadata": {},
   "source": [
    "# 리스트(051 ~ 070)"
   ]
  },
  {
   "cell_type": "code",
   "execution_count": null,
   "id": "8fd5794a",
   "metadata": {},
   "outputs": [],
   "source": [
    "# 051 리스트 생성\n",
    "영화 = ['닥터 스트레인지', '스플릿', '럭키']\n",
    "영화"
   ]
  },
  {
   "cell_type": "code",
   "execution_count": null,
   "id": "f631a029",
   "metadata": {},
   "outputs": [],
   "source": [
    "# 052 리스트에 원소 추가\n",
    "영화.append('배트맨')\n",
    "영화"
   ]
  },
  {
   "cell_type": "code",
   "execution_count": null,
   "id": "19221480",
   "metadata": {},
   "outputs": [],
   "source": [
    "# 053 insert \n",
    "영화 = ['닥터 스트레인지', '스플릿', '럭키']\n",
    "영화.insert(1,\"슈퍼맨\")\n",
    "\n",
    "영화"
   ]
  },
  {
   "cell_type": "code",
   "execution_count": null,
   "id": "cc63b762",
   "metadata": {},
   "outputs": [],
   "source": [
    "# 054\n",
    "# 051 리스트 생성\n",
    "영화 = ['닥터 스트레인지', '스플릿', '럭키']\n",
    "영화.remove('럭키')\n",
    "영화"
   ]
  },
  {
   "cell_type": "code",
   "execution_count": null,
   "id": "5d0ac03c",
   "metadata": {},
   "outputs": [],
   "source": [
    "# 055\n",
    "영화 = ['닥터 스트레인지', '스플릿', '럭키']\n",
    "del 영화[1]\n",
    "영화"
   ]
  },
  {
   "cell_type": "code",
   "execution_count": null,
   "id": "98939b83",
   "metadata": {},
   "outputs": [],
   "source": [
    "# 056\n",
    "lang1 = [\"C\", \"C++\", \"JAVA\"]\n",
    "lang2 = [\"Python\", \"Go\", \"C#\"]\n",
    "langs = lang1 + lang2\n",
    "langs"
   ]
  },
  {
   "cell_type": "code",
   "execution_count": null,
   "id": "951bf07d",
   "metadata": {},
   "outputs": [],
   "source": [
    "# 057\n",
    "nums = [1,2,3,4,5,6,7]\n",
    "print(max(nums))\n",
    "print(min(nums))"
   ]
  },
  {
   "cell_type": "code",
   "execution_count": null,
   "id": "af988275",
   "metadata": {},
   "outputs": [],
   "source": [
    "# 058\n",
    "nums = [1,2,3,4,5]\n",
    "print(sum(nums))"
   ]
  },
  {
   "cell_type": "code",
   "execution_count": null,
   "id": "31934b4c",
   "metadata": {},
   "outputs": [],
   "source": [
    "# 059 리스트에 저장된 데이터 개수 구하기\n",
    "cook = [\"피자\", \"김밥\", \"만두\", \"양념치킨\", \"족발\", \n",
    "        \"피자\", \"김치만두\", \"쫄면\", \"소시지\", \"라면\",\n",
    "        \"팥빙수\", \"김치전\"]\n",
    "\n",
    "print(len(cook))"
   ]
  },
  {
   "cell_type": "code",
   "execution_count": null,
   "id": "122e4c84",
   "metadata": {},
   "outputs": [],
   "source": [
    "# 060 리스트의 평균\n",
    "nums = [1, 2, 3, 4, 5]\n",
    "average = sum(nums)/len(nums)\n",
    "print(average)"
   ]
  },
  {
   "cell_type": "code",
   "execution_count": null,
   "id": "40e16227",
   "metadata": {},
   "outputs": [],
   "source": [
    "# 061\n",
    "price = ['20180728', 100, 130, 140, 150, 160, 170]\n",
    "print(price[1:])"
   ]
  },
  {
   "cell_type": "code",
   "execution_count": null,
   "id": "d4e340ae",
   "metadata": {},
   "outputs": [],
   "source": [
    "# 062 홀수번째 출력\n",
    "nums = [1, 2, 3, 4, 5, 6, 7, 8, 9, 10]\n",
    "print(nums[::2])"
   ]
  },
  {
   "cell_type": "code",
   "execution_count": null,
   "id": "44b87c23",
   "metadata": {},
   "outputs": [],
   "source": [
    "# 063\n",
    "nums = [1, 2, 3, 4, 5, 6, 7, 8, 9, 10]\n",
    "print(nums[1::2])"
   ]
  },
  {
   "cell_type": "code",
   "execution_count": null,
   "id": "db988726",
   "metadata": {},
   "outputs": [],
   "source": [
    "# 064\n",
    "nums = [1, 2, 3, 4, 5]\n",
    "print(nums[::-1])"
   ]
  },
  {
   "cell_type": "code",
   "execution_count": null,
   "id": "00d835f1",
   "metadata": {},
   "outputs": [],
   "source": [
    "# 065\n",
    "interest = ['삼성전자', 'LG전자', 'Naver']\n",
    "print(interest[0],interest[2])"
   ]
  },
  {
   "cell_type": "code",
   "execution_count": null,
   "id": "cdea4956",
   "metadata": {},
   "outputs": [],
   "source": [
    "# 066 join 메서드\n",
    "interest = ['삼성전자', 'LG전자', 'Naver','SK하이닉스', '미래에셋대우']\n",
    "print(\" \".join(interest))"
   ]
  },
  {
   "cell_type": "code",
   "execution_count": null,
   "id": "03c1e159",
   "metadata": {},
   "outputs": [],
   "source": [
    "# 067 join 메서드\n",
    "interest = ['삼성전자', 'LG전자', 'Naver', 'SK하이닉스', '미래에셋대우']\n",
    "print(\"/\".join(interest))"
   ]
  },
  {
   "cell_type": "code",
   "execution_count": null,
   "id": "a27def46",
   "metadata": {},
   "outputs": [],
   "source": [
    "# 068 join 메서드\n",
    "interest = ['삼성전자', 'LG전자', 'Naver', 'SK하이닉스', '미래에셋대우']\n",
    "print(\"\\n\".join(interest))"
   ]
  },
  {
   "cell_type": "code",
   "execution_count": null,
   "id": "39d702e3",
   "metadata": {},
   "outputs": [],
   "source": [
    "# 069 문자열 split 메서드\n",
    "string = \"삼성전자/LG전자/Naver\"\n",
    "interest = string.split(\"/\")\n",
    "print(interest)"
   ]
  },
  {
   "cell_type": "code",
   "execution_count": null,
   "id": "8dbb2db6",
   "metadata": {},
   "outputs": [],
   "source": [
    "# 070 리스트 정렬\n",
    "data = [2, 4, 3, 1, 5, 10, 9]\n",
    "data.sort()\n",
    "print(data)"
   ]
  },
  {
   "cell_type": "markdown",
   "id": "8f041020",
   "metadata": {},
   "source": [
    "# 튜플(071 ~ 080)"
   ]
  },
  {
   "cell_type": "code",
   "execution_count": null,
   "id": "d65fc831",
   "metadata": {},
   "outputs": [],
   "source": [
    "# 071 튜플만들기\n",
    "my_variable = ()\n",
    "print(my_variable, type(my_variable))"
   ]
  },
  {
   "cell_type": "code",
   "execution_count": null,
   "id": "70867a6c",
   "metadata": {},
   "outputs": [],
   "source": [
    "# 072\n",
    "move_name = ('닥터 스트레인지','스플릿','럭키')\n",
    "print(move_name, type(move_name))"
   ]
  },
  {
   "cell_type": "code",
   "execution_count": null,
   "id": "d3254533",
   "metadata": {},
   "outputs": [],
   "source": [
    "# 073\n",
    "num = (1,)\n",
    "string = (\"가\",)\n",
    "print(num, type(num)) # 하나의 데이터가 저장되는 경우 , 입력해야 tuple로 인식\n",
    "print(string, type(string))"
   ]
  },
  {
   "cell_type": "code",
   "execution_count": null,
   "id": "9675fc37",
   "metadata": {},
   "outputs": [],
   "source": [
    "# 074 튜플은 원소값을 변경할 수 없다.\n",
    "t = (1, 2, 3)\n",
    "t[0] = 'a'"
   ]
  },
  {
   "cell_type": "code",
   "execution_count": null,
   "id": "a55ce85a",
   "metadata": {},
   "outputs": [],
   "source": [
    "# 075 데이터를 그냥 저장하면 일반적으로 튜플로 인식\n",
    "t = 1, 2, 3, 4\n",
    "print(type(t))"
   ]
  },
  {
   "cell_type": "code",
   "execution_count": null,
   "id": "a4057f8f",
   "metadata": {},
   "outputs": [],
   "source": [
    "# 076 튜플은 값을 변경 불가 -> 새로 생성\n",
    "t = ('a', 'b', 'c')\n",
    "t = ('A','b','c')"
   ]
  },
  {
   "cell_type": "code",
   "execution_count": null,
   "id": "3f7183c0",
   "metadata": {},
   "outputs": [],
   "source": [
    "# 077 튜플을 리스트로 변경\n",
    "interest = ('삼성전자', 'LG전자', 'SK Hynix')\n",
    "data = list(interest)\n",
    "print(data, type(data))"
   ]
  },
  {
   "cell_type": "code",
   "execution_count": null,
   "id": "38f47ad4",
   "metadata": {},
   "outputs": [],
   "source": [
    "# 078\n",
    "interest = ['삼성전자', 'LG전자', 'SK Hynix']\n",
    "data = tuple(interest)\n",
    "print(data, type(data))"
   ]
  },
  {
   "cell_type": "code",
   "execution_count": null,
   "id": "b7c4240d",
   "metadata": {},
   "outputs": [],
   "source": [
    "# 079 튜플 언팩킹\n",
    "temp = ('apple', 'banana', 'cake')\n",
    "a, b, c = temp # 값과 변수의 개수가 맞아야 한다.\n",
    "print(a, b, c)"
   ]
  },
  {
   "cell_type": "code",
   "execution_count": null,
   "id": "1961101e",
   "metadata": {
    "scrolled": true
   },
   "outputs": [],
   "source": [
    "# 080 range 함수\n",
    "data = tuple(range(2, 100,2))\n",
    "print(data)"
   ]
  },
  {
   "cell_type": "markdown",
   "id": "e1fd4572",
   "metadata": {},
   "source": [
    "# 딕셔너리(081 ~ 100)"
   ]
  },
  {
   "cell_type": "code",
   "execution_count": null,
   "id": "7271792b",
   "metadata": {},
   "outputs": [],
   "source": [
    "# 081 별 표현식 / 변수의 개수에 맞춰서 값이 할당됨\n",
    "a, b, *c = (0, 1, 2, 3, 4, 5)\n",
    "print(a)\n",
    "print(b)\n",
    "print(c)"
   ]
  },
  {
   "cell_type": "code",
   "execution_count": null,
   "id": "cafdbd10",
   "metadata": {},
   "outputs": [],
   "source": [
    "# 082 별 표현식\n",
    "scores = [8.8, 8.9, 8.7, 9.2, 9.3, 9.7,\n",
    "          9.9, 9.5, 7.8, 9.4]\n",
    "a, b, *valid_score = scores\n",
    "\n",
    "print(a)\n",
    "print(b)\n",
    "print(valid_score)\n"
   ]
  },
  {
   "cell_type": "code",
   "execution_count": null,
   "id": "1d793237",
   "metadata": {},
   "outputs": [],
   "source": [
    "# 083\n",
    "scores = [8.8, 8.9, 8.7, 9.2, 9.3,\n",
    "          9.7, 9.9, 9.5, 7.8, 9.4]\n",
    "\n",
    "a, *valid_score, c = scores\n",
    "print(a)\n",
    "print(valid_score)\n",
    "print(c)\n"
   ]
  },
  {
   "cell_type": "code",
   "execution_count": null,
   "id": "2769e7f5",
   "metadata": {},
   "outputs": [],
   "source": [
    "# 084 딕셔너리 생성\n",
    "temp = {}\n",
    "print(type(temp))"
   ]
  },
  {
   "cell_type": "code",
   "execution_count": null,
   "id": "a0866acb",
   "metadata": {},
   "outputs": [],
   "source": [
    "# 085 딕셔너리 만들기\n",
    "ice = {'메로나':1000,'폴라포':1200, '빵빠레':1800}\n",
    "print(ice)"
   ]
  },
  {
   "cell_type": "code",
   "execution_count": null,
   "id": "e3dcf0b1",
   "metadata": {},
   "outputs": [],
   "source": [
    "# 086 딕셔너리에 값 추가하기\n",
    "ice['조스바'] = 1200\n",
    "ice['월드콘'] = 1500\n",
    "print(ice)"
   ]
  },
  {
   "cell_type": "code",
   "execution_count": null,
   "id": "cd5e578a",
   "metadata": {},
   "outputs": [],
   "source": [
    "# 087 딕셔너리 출력하기\n",
    "ice = {'메로나': 1000,\n",
    "       '폴로포': 1200,\n",
    "       '빵빠레': 1800,\n",
    "       '죠스바': 1200,\n",
    "       '월드콘': 1500}\n",
    "\n",
    "print('메로나 가격 : ',ice['메로나'])"
   ]
  },
  {
   "cell_type": "code",
   "execution_count": null,
   "id": "41dad43b",
   "metadata": {},
   "outputs": [],
   "source": [
    "# 088\n",
    "ice = {'메로나': 1000,\n",
    "       '폴로포': 1200,\n",
    "       '빵빠레': 1800,\n",
    "       '죠스바': 1200,\n",
    "       '월드콘': 1500}\n",
    "\n",
    "ice['메로나'] = 1300 # 메로나 가격 수정\n",
    "print(ice)"
   ]
  },
  {
   "cell_type": "code",
   "execution_count": null,
   "id": "e6e598e7",
   "metadata": {},
   "outputs": [],
   "source": [
    "# 089\n",
    "ice = {'메로나': 1000,\n",
    "       '폴로포': 1200,\n",
    "       '빵빠레': 1800,\n",
    "       '죠스바': 1200,\n",
    "       '월드콘': 1500}\n",
    "\n",
    "del ice['메로나'] # 메로나 삭제\n",
    "print(ice)"
   ]
  },
  {
   "cell_type": "code",
   "execution_count": null,
   "id": "a738f443",
   "metadata": {},
   "outputs": [],
   "source": [
    "# 090 에러가 나는 유형\n",
    ">> icecream = {'폴라포': 1200, '빵빠레': 1800, '월드콘': 1500, '메로나': 1000}\n",
    ">> icecream['누가바'] # 없는 키를 이용하여 인덱싱 했기 때문\n"
   ]
  },
  {
   "cell_type": "code",
   "execution_count": null,
   "id": "1524551b",
   "metadata": {},
   "outputs": [],
   "source": [
    "# 091 딕셔너리 생성 with 리스트\n",
    "ice = {'메로나':[300,200], '비비빅':[400,3], '죠스바':[250,100]}\n",
    "print(ice)"
   ]
  },
  {
   "cell_type": "code",
   "execution_count": null,
   "id": "5c38af1f",
   "metadata": {},
   "outputs": [],
   "source": [
    "# 092 딕셔너리 인덱싱\n",
    "inventory = {\"메로나\": [300, 20],\n",
    "              \"비비빅\": [400, 3],\n",
    "              \"죠스바\": [250, 100]}\n",
    "\n",
    "print(inventory['메로나'][0])"
   ]
  },
  {
   "cell_type": "code",
   "execution_count": null,
   "id": "4bfb8c10",
   "metadata": {},
   "outputs": [],
   "source": [
    "# 093 딕셔너리 인덱싱\n",
    "inventory = {\"메로나\": [300, 20],\n",
    "              \"비비빅\": [400, 3],\n",
    "              \"죠스바\": [250, 100]}\n",
    "print(inventory['메로나'][1])"
   ]
  },
  {
   "cell_type": "code",
   "execution_count": null,
   "id": "8f7e42cb",
   "metadata": {},
   "outputs": [],
   "source": [
    "# 094 딕셔너리 추가\n",
    "inventory = {\"메로나\": [300, 20],\n",
    "              \"비비빅\": [400, 3],\n",
    "              \"죠스바\": [250, 100]}\n",
    "inventory['월드콘'] = [500,70]\n",
    "inventory"
   ]
  },
  {
   "cell_type": "code",
   "execution_count": null,
   "id": "4cd0b869",
   "metadata": {},
   "outputs": [],
   "source": [
    "# 095 딕셔너리 keys() 메서드\n",
    "icecream = {'탱크보이': 1200, '폴라포': 1200, '빵빠레': 1800, '월드콘': 1500, '메로나': 1000}\n",
    "\n",
    "ice_list = list(icecream.keys())\n",
    "ice_list"
   ]
  },
  {
   "cell_type": "code",
   "execution_count": null,
   "id": "4aed1c5e",
   "metadata": {},
   "outputs": [],
   "source": [
    "# 096 딕셔너리 values() 메서드\n",
    "icecream = {'탱크보이': 1200, '폴라포': 1200, '빵빠레': 1800, '월드콘': 1500, '메로나': 1000}\n",
    "ice_list = list(icecream.values())\n",
    "ice_list"
   ]
  },
  {
   "cell_type": "code",
   "execution_count": null,
   "id": "5dfafeb2",
   "metadata": {},
   "outputs": [],
   "source": [
    "# 097 딕셔너리 values() 메서드\n",
    "icecream = {'탱크보이': 1200, '폴라포': 1200, '빵빠레': 1800, '월드콘': 1500, '메로나': 1000}\n",
    "ice_sum = sum(icecream.values())\n",
    "ice_sum"
   ]
  },
  {
   "cell_type": "code",
   "execution_count": null,
   "id": "30fb8c66",
   "metadata": {},
   "outputs": [],
   "source": [
    "# 098 딕셔너리 update 메서드\n",
    "icecream = {'탱크보이': 1200, '폴라포': 1200, '빵빠레': 1800, '월드콘': 1500, '메로나': 1000}\n",
    "new_product = {'팥빙수':2700, '아맛나':1000}\n",
    "\n",
    "icecream.update(new_product)\n",
    "icecream\n"
   ]
  },
  {
   "cell_type": "code",
   "execution_count": null,
   "id": "e13ab23c",
   "metadata": {},
   "outputs": [],
   "source": [
    "# 099 zip과 dict \n",
    "keys = (\"apple\", \"pear\", \"peach\")\n",
    "vals = (300, 250, 400)\n",
    "result = dict(zip(keys,vals))\n",
    "result"
   ]
  },
  {
   "cell_type": "code",
   "execution_count": null,
   "id": "a4225691",
   "metadata": {},
   "outputs": [],
   "source": [
    "# 100 zip과 dict2\n",
    "date = ['09/05', '09/06', '09/07', '09/08', '09/09']\n",
    "close_price = [10500, 10300, 10100, 10800, 11000]\n",
    "result = dict(zip(date,close_price))\n",
    "result"
   ]
  },
  {
   "cell_type": "markdown",
   "id": "1ddcc9b2",
   "metadata": {},
   "source": [
    "# 분기문(101 ~ 130)"
   ]
  },
  {
   "cell_type": "code",
   "execution_count": null,
   "id": "2d141f58",
   "metadata": {},
   "outputs": [],
   "source": [
    "# 101\n",
    "# 파이썬에서 True 혹은 False를 갖는 데이터 타입은 무엇인가?\n",
    "# bool 타입"
   ]
  },
  {
   "cell_type": "code",
   "execution_count": null,
   "id": "78e5946b",
   "metadata": {},
   "outputs": [],
   "source": [
    "# 102 아래 코드의 출력 결과를 예상하라\n",
    "print(3 == 5)"
   ]
  },
  {
   "cell_type": "code",
   "execution_count": null,
   "id": "02b73879",
   "metadata": {},
   "outputs": [],
   "source": [
    "# 103 아래 코드의 출력 결과를 예상하라\n",
    "print(3 < 5)"
   ]
  },
  {
   "cell_type": "code",
   "execution_count": null,
   "id": "dd2a3cd0",
   "metadata": {},
   "outputs": [],
   "source": [
    "# 104 아래 코드의 결과를 예상하라\n",
    "x = 4\n",
    "print(1 < x < 5)"
   ]
  },
  {
   "cell_type": "code",
   "execution_count": null,
   "id": "03d518ef",
   "metadata": {},
   "outputs": [],
   "source": [
    "# 105 아래 코드의 결과를 예상하라.\n",
    "print ((3 == 3) and (4 != 3))"
   ]
  },
  {
   "cell_type": "code",
   "execution_count": null,
   "id": "bf1f92e3",
   "metadata": {},
   "outputs": [],
   "source": [
    "# 106 아래 코드에서 에러가 발생하는 원인에 대해 설명하라.\n",
    "print(3 => 4)\n",
    "# 문법이 잘못 되어서 print(3 >= 4)"
   ]
  },
  {
   "cell_type": "code",
   "execution_count": null,
   "id": "0d75ce22",
   "metadata": {},
   "outputs": [],
   "source": [
    "# 107 아래 코드의 출력 결과를 예상하라\n",
    "if 4 < 3:\n",
    "    print(\"Hello World\")"
   ]
  },
  {
   "cell_type": "code",
   "execution_count": null,
   "id": "d1bf0581",
   "metadata": {},
   "outputs": [],
   "source": [
    "# 108 아래 코드의 출력 결과를 예상하라\n",
    "if 4 < 3:\n",
    "    print(\"Hello World.\")\n",
    "else:\n",
    "    print(\"Hi, there.\")"
   ]
  },
  {
   "cell_type": "code",
   "execution_count": null,
   "id": "b1ec243c",
   "metadata": {},
   "outputs": [],
   "source": [
    "# 109 아래 코드의 출력 결과를 예상하라\n",
    "if True :\n",
    "    print (\"1\")\n",
    "    print (\"2\")\n",
    "else :\n",
    "    print(\"3\")\n",
    "print(\"4\")"
   ]
  },
  {
   "cell_type": "code",
   "execution_count": null,
   "id": "ec2ed4ee",
   "metadata": {},
   "outputs": [],
   "source": [
    "# 110 아래 코드의 출력 결과를 예상하라\n",
    "if True :\n",
    "    if False:\n",
    "        print(\"1\")\n",
    "        print(\"2\")\n",
    "    else:\n",
    "        print(\"3\")\n",
    "else :\n",
    "    print(\"4\")\n",
    "print(\"5\")"
   ]
  },
  {
   "cell_type": "code",
   "execution_count": null,
   "id": "e4b917a0",
   "metadata": {},
   "outputs": [],
   "source": [
    "# 111  사용자로부터 문자를 입력받고, 입력 받은 문자를 두번 출력하라.\n",
    "print(input()*2)"
   ]
  },
  {
   "cell_type": "code",
   "execution_count": null,
   "id": "1083aec6",
   "metadata": {},
   "outputs": [],
   "source": [
    "# 112 사용자로부터 하나의 숫자를 입력받고, 입력 받은 숫자에 10을 더해 출력하라.\n",
    "user_input = int(input(\"숫자를 입력하세요 : \"))\n",
    "print(user_input + 10)"
   ]
  },
  {
   "cell_type": "code",
   "execution_count": null,
   "id": "9e715ee0",
   "metadata": {},
   "outputs": [],
   "source": [
    "# 113\n",
    "user_input = int(input())\n",
    "if user_input % 2 == 0:\n",
    "    print(\"짝수\")\n",
    "else:\n",
    "    print(\"홀수\")\n"
   ]
  },
  {
   "cell_type": "code",
   "execution_count": null,
   "id": "cdc04e93",
   "metadata": {},
   "outputs": [],
   "source": [
    "# 114\n",
    "user_input = int(input(\"입력값 : \"))\n",
    "if user_input > 255:\n",
    "    print(255)\n",
    "else:\n",
    "    print(user_input+20)"
   ]
  },
  {
   "cell_type": "code",
   "execution_count": null,
   "id": "d0dcbdf9",
   "metadata": {},
   "outputs": [],
   "source": [
    "# 115\n",
    "user_input = int(input(\"입력값 : \"))\n",
    "if user_input > 255:\n",
    "    print(255)\n",
    "elif user_input < 0:\n",
    "    print(0)    \n",
    "else:\n",
    "    print(user_input-20)\n"
   ]
  },
  {
   "cell_type": "code",
   "execution_count": null,
   "id": "b37a33c2",
   "metadata": {},
   "outputs": [],
   "source": [
    "# 116\n",
    "time = input('현재시간 : ')\n",
    "if time[-2:] != \"00\":\n",
    "    print('정각이 아닙니다.')\n",
    "else:\n",
    "    print('정각 입니다.')\n"
   ]
  },
  {
   "cell_type": "code",
   "execution_count": null,
   "id": "2c9ea813",
   "metadata": {},
   "outputs": [],
   "source": [
    "# 117\n",
    "fruit = ['사과', '포도','홍시']\n",
    "user_input = input('좋아하는 과일은?')\n",
    "\n",
    "if user_input in fruit:\n",
    "    print('정답입니다.')\n",
    "else:\n",
    "    print('땡입니다.')\n",
    "  \n",
    "\n"
   ]
  },
  {
   "cell_type": "code",
   "execution_count": null,
   "id": "8d121e03",
   "metadata": {},
   "outputs": [],
   "source": [
    "# 118\n",
    "warn_investment_list = [\"Microsoft\", \"Google\", \"Naver\", \"Kakao\", \"SAMSUNG\", \"LG\"]\n",
    "investment = input(\"종목명\")\n",
    "if investment in warn_investment_list:\n",
    "    print(\"투자 경고 종목입니다.\")\n",
    "else:\n",
    "    print(\"투자 경고 종목이 아닙니다.\")"
   ]
  },
  {
   "cell_type": "code",
   "execution_count": null,
   "id": "f201e209",
   "metadata": {},
   "outputs": [],
   "source": [
    "# 119 키값이 포함된 경우\n",
    "fruit = {\"봄\" : \"딸기\", \"여름\" : \"토마토\", \"가을\" : \"사과\"}\n",
    "user_input = input(\"입력하세요\")\n",
    "if user_input in fruit.keys():\n",
    "    print('정답입니다.')\n",
    "else :\n",
    "    print('땡')\n"
   ]
  },
  {
   "cell_type": "code",
   "execution_count": null,
   "id": "2f9b3c0b",
   "metadata": {},
   "outputs": [],
   "source": [
    "# 120 value값이 포함된 경우\n",
    "fruit = {\"봄\" : \"딸기\", \"여름\" : \"토마토\", \"가을\" : \"사과\"}\n",
    "user_input = input(\"좋아하는 과일은?\")\n",
    "if user_input in fruit.values():\n",
    "    print('정답입니다.')\n",
    "else :\n",
    "    print('땡')\n"
   ]
  },
  {
   "cell_type": "code",
   "execution_count": null,
   "id": "5dd3fbf5",
   "metadata": {},
   "outputs": [],
   "source": [
    "# 121 islower\n",
    "user_input = input('문자 한개를 입력하세요')\n",
    "if user_input.islower():\n",
    "    print(user_input.upper())\n",
    "else:\n",
    "    print(user_input.lower())\n"
   ]
  },
  {
   "cell_type": "code",
   "execution_count": null,
   "id": "06cffc74",
   "metadata": {},
   "outputs": [],
   "source": [
    "# 122\n",
    "user_input = int(input('점수를 입력하세요'))\n",
    "if 81 <= user_input <= 100:\n",
    "    print(\"A\")\n",
    "elif 61 <= user_input <= 80:\n",
    "    print(\"B\")\n",
    "elif 41 <= user_input <= 60:\n",
    "    print(\"C\")\n",
    "elif 21 <= user_input <= 40:\n",
    "    print(\"D\")\n",
    "elif 0 <= user_input <= 20:\n",
    "    print(\"E\")\n",
    "    \n",
    "else:\n",
    "    print('재시험입니다.')"
   ]
  },
  {
   "cell_type": "code",
   "execution_count": null,
   "id": "887acd86",
   "metadata": {},
   "outputs": [],
   "source": [
    "# 123 \n",
    "환율 = {'달러':1167,'앤':1.096,'유로':1268,'위안':171}\n",
    "user_input = input('입력 : ')\n",
    "cur, num = user_input.split()\n",
    "\n",
    "print(int(num)*환율[cur],\"원\")"
   ]
  },
  {
   "cell_type": "code",
   "execution_count": null,
   "id": "57412649",
   "metadata": {},
   "outputs": [],
   "source": [
    "# 124 세 개의 숫자 입력받아 가장 큰수 출력\n",
    "user_num1 = int(input('숫자입력하세요'))\n",
    "user_num2 = int(input('숫자입력하세요'))\n",
    "user_num3 = int(input('숫자입력하세요'))\n",
    "print(max(user_num1,user_num2,user_num3))"
   ]
  },
  {
   "cell_type": "code",
   "execution_count": null,
   "id": "e69afed7",
   "metadata": {},
   "outputs": [],
   "source": [
    "# 125\n",
    "data = {'011':'SKT','016':'KT','019':'LGU','010':\"알수없음\"}\n",
    "user_input = input()\n",
    "front, middle, end = user_input.split(\"-\")\n",
    "print(data[front])\n"
   ]
  },
  {
   "cell_type": "code",
   "execution_count": null,
   "id": "968d67a7",
   "metadata": {},
   "outputs": [],
   "source": [
    "# 126\n",
    "우편번호 = input(\"우편번호: \")\n",
    "우편번호 = 우편번호[:3]\n",
    "if 우편번호 in [\"010\", \"011\", \"012\"]:\n",
    "    print(\"강북구\")\n",
    "elif 우편번호 in [\"014\", \"015\", \"016\"]:\n",
    "    print(\"도봉구\")\n",
    "else:\n",
    "    print(\"노원구\")\n",
    "\n"
   ]
  },
  {
   "cell_type": "code",
   "execution_count": null,
   "id": "4d02df52",
   "metadata": {},
   "outputs": [],
   "source": [
    "# 127\n",
    "user_input = input(\"주민등록번호 : \")\n",
    "gender = user_input.split(\"-\")[1]\n",
    "if gender[0] == \"1\":\n",
    "    print('남자')\n",
    "else:\n",
    "    print('여자')"
   ]
  },
  {
   "cell_type": "code",
   "execution_count": null,
   "id": "238e5541",
   "metadata": {},
   "outputs": [],
   "source": [
    "# 128 \n",
    "user_input = input(\"주민등록번호 : \")\n",
    "locode = user_input.split(\"-\")[1]\n",
    "if 0 <= int(locode[1:3]) <= 8:\n",
    "    print('서울입니다.')\n",
    "else:\n",
    "    print('서울이 아닙니다.')\n",
    "            \n"
   ]
  },
  {
   "cell_type": "code",
   "execution_count": null,
   "id": "da634420",
   "metadata": {},
   "outputs": [],
   "source": [
    "# 129 주민등록번호 검증 프로그램\n",
    "\n",
    "user_input_data = input('주민등록번호 : ')\n",
    "user_input = user_input_data.replace(\"-\",\"\")\n",
    "user_sum = int(user_input[0])*2 + int(user_input[1])*3 + int(user_input[2])*4 + int(user_input[3])*5 + \\\n",
    "int(user_input[4])*6 + int(user_input[5])*7 + int(user_input[6])*8 + int(user_input[7])*9 + \\\n",
    "int(user_input[8])*2 + int(user_input[9])*3 + int(user_input[10])*4 + int(user_input[11])*5\n",
    "check = 11- (user_sum % 11)\n",
    "\n",
    "if check == int(user_input_data[-1]):\n",
    "    print(\"유효한 주민등록번호입니다.\")\n",
    "else:\n",
    "    print(\"유효하지 않은 주민등록번호입니다.\")\n"
   ]
  },
  {
   "cell_type": "code",
   "execution_count": null,
   "id": "16bf0ead",
   "metadata": {},
   "outputs": [],
   "source": [
    "# 130\n",
    "import requests\n",
    "btc = requests.get(\"https://api.bithumb.com/public/ticker/\").json()['data']\n",
    "변동폭 = int(btc['max_price']) - int(btc['min_price'])\n",
    "시가 = int(btc['opening_price'])\n",
    "if 시가 + 변동폭 > int(btc['max_price']):\n",
    "    print('상승장')\n",
    "else:\n",
    "    print('하락장')"
   ]
  },
  {
   "cell_type": "markdown",
   "id": "ddd4a634",
   "metadata": {},
   "source": [
    "# 반복문(131 ~ 200)"
   ]
  },
  {
   "cell_type": "code",
   "execution_count": null,
   "id": "bf84a7a2",
   "metadata": {
    "scrolled": true
   },
   "outputs": [],
   "source": [
    "# 131 for문의 실행결과를 예측하라.\n",
    "과일 = [\"사과\", \"귤\", \"수박\"]\n",
    "for 변수 in 과일:\n",
    "    print(변수)"
   ]
  },
  {
   "cell_type": "code",
   "execution_count": null,
   "id": "a3285d4b",
   "metadata": {},
   "outputs": [],
   "source": [
    "# 132 for문의 실행결과를 예측하라.\n",
    "과일 = [\"사과\", \"귤\", \"수박\"]\n",
    "for 변수 in 과일:\n",
    "    print(\"#####\")\n"
   ]
  },
  {
   "cell_type": "code",
   "execution_count": null,
   "id": "d254b70f",
   "metadata": {},
   "outputs": [],
   "source": [
    "# 133\n",
    "data = [\"A\",\"B\",\"C\"]\n",
    "print(data[0])\n",
    "print(data[1])\n",
    "print(data[2])"
   ]
  },
  {
   "cell_type": "code",
   "execution_count": null,
   "id": "0a7767d0",
   "metadata": {},
   "outputs": [],
   "source": [
    "# 134\n",
    "data = [\"A\",\"B\",\"C\"]\n",
    "print(\"츨력:\", data[0])\n",
    "print(\"츨력:\", data[1])\n",
    "print(\"츨력:\", data[2])"
   ]
  },
  {
   "cell_type": "code",
   "execution_count": null,
   "id": "6d63e2b5",
   "metadata": {},
   "outputs": [],
   "source": [
    "# 135\n",
    "data = [\"A\",\"B\",\"C\"]\n",
    "print(\"츨력:\", data[0].lower())\n",
    "print(\"츨력:\", data[1].lower())\n",
    "print(\"츨력:\", data[2].lower())\n"
   ]
  },
  {
   "cell_type": "code",
   "execution_count": null,
   "id": "c533a71a",
   "metadata": {},
   "outputs": [],
   "source": [
    "# 136\n",
    "data = 10,20,30\n",
    "for _ in data:\n",
    "    print(_)\n",
    "\n"
   ]
  },
  {
   "cell_type": "code",
   "execution_count": null,
   "id": "7e2746b8",
   "metadata": {},
   "outputs": [],
   "source": [
    "# 137\n",
    "for _ in 10,20,30:\n",
    "    print(_)"
   ]
  },
  {
   "cell_type": "code",
   "execution_count": null,
   "id": "ba9e27c3",
   "metadata": {},
   "outputs": [],
   "source": [
    "# 138\n",
    "for _ in 10,20,30:\n",
    "    print(_)\n",
    "    print(\"------\")"
   ]
  },
  {
   "cell_type": "code",
   "execution_count": null,
   "id": "c6aa4cb8",
   "metadata": {},
   "outputs": [],
   "source": [
    "# 139\n",
    "print(\"++++\")\n",
    "for _ in 10,20,30:    \n",
    "    print(_)"
   ]
  },
  {
   "cell_type": "code",
   "execution_count": null,
   "id": "60bab3ec",
   "metadata": {},
   "outputs": [],
   "source": [
    "# 140\n",
    "for _ in range(1,5):\n",
    "    print(\"-------\")"
   ]
  },
  {
   "cell_type": "code",
   "execution_count": null,
   "id": "8bb13a65",
   "metadata": {},
   "outputs": [],
   "source": [
    "# 141\n",
    "리스트 = [100,200,300]\n",
    "for _ in 리스트:\n",
    "    print(_ + 10)"
   ]
  },
  {
   "cell_type": "code",
   "execution_count": null,
   "id": "85201ac0",
   "metadata": {},
   "outputs": [],
   "source": [
    "# 142\n",
    "리스트 = [\"김밥\", \"라면\", \"튀김\"]\n",
    "for _ in 리스트:\n",
    "    print(\"오늘의 메뉴 : \",_)"
   ]
  },
  {
   "cell_type": "code",
   "execution_count": null,
   "id": "49b5387d",
   "metadata": {},
   "outputs": [],
   "source": [
    "# 143\n",
    "리스트 = [\"SK하이닉스\", \"삼성전자\", \"LG전자\"]\n",
    "for _ in 리스트:\n",
    "    print(len(_))"
   ]
  },
  {
   "cell_type": "code",
   "execution_count": null,
   "id": "4c5259ee",
   "metadata": {},
   "outputs": [],
   "source": [
    "# 144\n",
    "리스트 = ['dog', 'cat', 'parrot']\n",
    "for _ in 리스트:\n",
    "    print(_, len(_))"
   ]
  },
  {
   "cell_type": "code",
   "execution_count": null,
   "id": "e5da0acb",
   "metadata": {},
   "outputs": [],
   "source": [
    "# 145\n",
    "리스트 = ['dog', 'cat', 'parrot']\n",
    "for _ in 리스트:\n",
    "    print(_[0])"
   ]
  },
  {
   "cell_type": "code",
   "execution_count": null,
   "id": "f660b46f",
   "metadata": {},
   "outputs": [],
   "source": [
    "# 146\n",
    "리스트 = [1, 2, 3]\n",
    "for _ in 리스트:\n",
    "    print(\"3 x\",str(_))"
   ]
  },
  {
   "cell_type": "code",
   "execution_count": null,
   "id": "4cde4117",
   "metadata": {},
   "outputs": [],
   "source": [
    "# 147\n",
    "리스트 = [1, 2, 3]\n",
    "for _ in 리스트:\n",
    "    print(\"3 x {} = {}\".format(_, 3*_))"
   ]
  },
  {
   "cell_type": "code",
   "execution_count": null,
   "id": "1a68b8b1",
   "metadata": {},
   "outputs": [],
   "source": [
    "# 148\n",
    "리스트 = [\"가\",\"나\",\"다\",\"라\"]\n",
    "for _ in 리스트[1:]:\n",
    "    print(_)"
   ]
  },
  {
   "cell_type": "code",
   "execution_count": null,
   "id": "9a11e451",
   "metadata": {},
   "outputs": [],
   "source": [
    "# 149\n",
    "리스트 = [\"가\",\"나\",\"다\",\"라\"]\n",
    "for _ in 리스트[::2]:\n",
    "    print(_)"
   ]
  },
  {
   "cell_type": "code",
   "execution_count": null,
   "id": "5d23baa5",
   "metadata": {},
   "outputs": [],
   "source": [
    "# 150\n",
    "리스트 = [\"가\",\"나\",\"다\",\"라\"]\n",
    "for _ in 리스트[::-1]:\n",
    "    print(_)"
   ]
  },
  {
   "cell_type": "code",
   "execution_count": null,
   "id": "4ab9f11e",
   "metadata": {},
   "outputs": [],
   "source": [
    "# 132"
   ]
  },
  {
   "cell_type": "code",
   "execution_count": null,
   "id": "dbdf8320",
   "metadata": {},
   "outputs": [],
   "source": [
    "# 151\n",
    "리스트 = [3, -20, -3, 44]\n",
    "for _ in 리스트:\n",
    "    if _ < 0:\n",
    "        print(_)"
   ]
  },
  {
   "cell_type": "code",
   "execution_count": null,
   "id": "d62c3fa4",
   "metadata": {},
   "outputs": [],
   "source": [
    "# 152\n",
    "리스트 = [3,100,23,44]\n",
    "for _ in 리스트:\n",
    "    if _ % 3 == 0:\n",
    "        print(_)"
   ]
  },
  {
   "cell_type": "code",
   "execution_count": null,
   "id": "586bd61a",
   "metadata": {},
   "outputs": [],
   "source": [
    "# 153\n",
    "리스트 = [13, 21, 12, 14, 30, 18]\n",
    "for _ in 리스트:\n",
    "    if _ % 3 == 0 and _<20:\n",
    "        print(_)\n"
   ]
  },
  {
   "cell_type": "code",
   "execution_count": null,
   "id": "d0d086cb",
   "metadata": {},
   "outputs": [],
   "source": [
    "# 154\n",
    "리스트 = [\"I\", \"study\", \"python\", \"language\", \"!\"]\n",
    "for _ in 리스트:\n",
    "    if len(_) >= 3:\n",
    "        print(_)"
   ]
  },
  {
   "cell_type": "code",
   "execution_count": null,
   "id": "1419b533",
   "metadata": {},
   "outputs": [],
   "source": [
    "# 155\n",
    "리스트 = [\"A\", \"b\", \"c\", \"D\"]\n",
    "for _ in 리스트:\n",
    "    if _.isupper():\n",
    "        print(_)"
   ]
  },
  {
   "cell_type": "code",
   "execution_count": null,
   "id": "9e83d17d",
   "metadata": {
    "scrolled": false
   },
   "outputs": [],
   "source": [
    "# 156\n",
    "리스트 = [\"A\", \"b\", \"c\", \"D\"]\n",
    "for _ in 리스트:\n",
    "    if _.islower():\n",
    "        print(_)"
   ]
  },
  {
   "cell_type": "code",
   "execution_count": null,
   "id": "bff362a3",
   "metadata": {},
   "outputs": [],
   "source": [
    "# 157\n",
    "리스트 = ['dog', 'cat', 'parrot']\n",
    "for _ in 리스트:\n",
    "    print(_.capitalize())\n"
   ]
  },
  {
   "cell_type": "code",
   "execution_count": null,
   "id": "79091eaa",
   "metadata": {},
   "outputs": [],
   "source": [
    "# 158\n",
    "리스트 = ['hello.py', 'ex01.py', 'intro.hwp']\n",
    "for _ in 리스트:\n",
    "    print(_.split(\".\")[0])\n"
   ]
  },
  {
   "cell_type": "code",
   "execution_count": null,
   "id": "1e014d73",
   "metadata": {},
   "outputs": [],
   "source": [
    "# 159\n",
    "리스트 = ['intra.h', 'intra.c', 'define.h', 'run.py']\n",
    "for _ in 리스트:\n",
    "    if _.split(\".\")[1] == \"h\":\n",
    "        print(_)"
   ]
  },
  {
   "cell_type": "code",
   "execution_count": null,
   "id": "c8849020",
   "metadata": {},
   "outputs": [],
   "source": [
    "# 160\n",
    "리스트 = ['intra.h', 'intra.c', 'define.h', 'run.py']\n",
    "for _ in 리스트:\n",
    "    if _.split(\".\")[1] == \"h\" or _.split(\".\")[1] == \"c\":\n",
    "        print(_)"
   ]
  },
  {
   "cell_type": "code",
   "execution_count": null,
   "id": "3043d707",
   "metadata": {},
   "outputs": [],
   "source": [
    "# 161\n",
    "for _ in range(100):\n",
    "    print(_)"
   ]
  },
  {
   "cell_type": "code",
   "execution_count": null,
   "id": "0f05f77e",
   "metadata": {},
   "outputs": [],
   "source": [
    "# 162\n",
    "# for _ in range(2002,2051)[::4]:\n",
    "for _ in range(2002,2051,4):\n",
    "    print(_)\n",
    "    "
   ]
  },
  {
   "cell_type": "code",
   "execution_count": null,
   "id": "dd0f5ed8",
   "metadata": {},
   "outputs": [],
   "source": [
    "# 163\n",
    "for _ in range(1,31):\n",
    "    if _ % 3 == 0:\n",
    "        print(_)"
   ]
  },
  {
   "cell_type": "code",
   "execution_count": null,
   "id": "385a2a1f",
   "metadata": {},
   "outputs": [],
   "source": [
    "# 164\n",
    "# for _ in range(0,100)[::-1]:\n",
    "for _ in range(100):\n",
    "    print(99-_)"
   ]
  },
  {
   "cell_type": "code",
   "execution_count": null,
   "id": "f4d27a5b",
   "metadata": {},
   "outputs": [],
   "source": [
    "# 165\n",
    "for _ in range(1,10):\n",
    "    print(_/10)"
   ]
  },
  {
   "cell_type": "code",
   "execution_count": null,
   "id": "d098cd4e",
   "metadata": {},
   "outputs": [],
   "source": [
    "# 166\n",
    "for _ in range(1,10):\n",
    "    print(\"3x{} = {}\".format(_,_*3))"
   ]
  },
  {
   "cell_type": "code",
   "execution_count": null,
   "id": "97303e54",
   "metadata": {},
   "outputs": [],
   "source": [
    "# 167\n",
    "for _ in range(1,10,2):\n",
    "    print(\"3x{} = {}\".format(_,_*3))"
   ]
  },
  {
   "cell_type": "code",
   "execution_count": null,
   "id": "68e0be47",
   "metadata": {},
   "outputs": [],
   "source": [
    "# 168\n",
    "num = 0\n",
    "for _ in range(1,11):\n",
    "    num += _\n",
    "print(\"합:\",num)"
   ]
  },
  {
   "cell_type": "code",
   "execution_count": null,
   "id": "609cb3e3",
   "metadata": {},
   "outputs": [],
   "source": [
    "# 169\n",
    "num = 0\n",
    "for _ in range(1,11,2):\n",
    "    num += _\n",
    "print(\"합:\",num)\n",
    "\n",
    "    "
   ]
  },
  {
   "cell_type": "code",
   "execution_count": null,
   "id": "fd248c81",
   "metadata": {},
   "outputs": [],
   "source": [
    "# 170\n",
    "num = 1\n",
    "for _ in range(1,11):\n",
    "    num *= _\n",
    "print(num)"
   ]
  },
  {
   "cell_type": "code",
   "execution_count": null,
   "id": "881ea482",
   "metadata": {},
   "outputs": [],
   "source": [
    "# 171\n",
    "price_list = [32100, 32150, 32000, 32500]\n",
    "for _ in price_list:\n",
    "    print(_)"
   ]
  },
  {
   "cell_type": "code",
   "execution_count": null,
   "id": "2a50f784",
   "metadata": {},
   "outputs": [],
   "source": [
    "# 172\n",
    "price_list = [32100, 32150, 32000, 32500]\n",
    "for i, _ in enumerate(price_list):\n",
    "    print(i, _)"
   ]
  },
  {
   "cell_type": "code",
   "execution_count": null,
   "id": "f21ae168",
   "metadata": {},
   "outputs": [],
   "source": [
    "# 173\n",
    "price_list = [32100, 32150, 32000, 32500]\n",
    "for i,_ in enumerate(price_list):\n",
    "    print((len(price_list)-1)-i, _)\n",
    "    "
   ]
  },
  {
   "cell_type": "code",
   "execution_count": null,
   "id": "2caf55f9",
   "metadata": {},
   "outputs": [],
   "source": [
    "# 174\n",
    "price_list = [32100, 32150, 32000, 32500]\n",
    "for i in range(1,4):\n",
    "    print(90 + 10*i, price_list[i])"
   ]
  },
  {
   "cell_type": "code",
   "execution_count": null,
   "id": "f8c126fb",
   "metadata": {},
   "outputs": [],
   "source": [
    "# 175\n",
    "my_list = [\"가\", \"나\", \"다\", \"라\"]\n",
    "for i in range(len(my_list)-1):\n",
    "    print(my_list[i], my_list[i+1])\n"
   ]
  },
  {
   "cell_type": "code",
   "execution_count": null,
   "id": "e8a647cc",
   "metadata": {},
   "outputs": [],
   "source": [
    "# 176\n",
    "my_list = [\"가\", \"나\", \"다\", \"라\", \"마\"]\n",
    "for i in range(len(my_list)-2):\n",
    "    print(my_list[i], my_list[i+1],my_list[i+2])"
   ]
  },
  {
   "cell_type": "code",
   "execution_count": null,
   "id": "bb8b752b",
   "metadata": {},
   "outputs": [],
   "source": [
    "# 177\n",
    "my_list = [\"가\", \"나\", \"다\", \"라\"]\n",
    "for i in range(1,len(my_list)):\n",
    "    print(my_list[(len(my_list)-i)],my_list[(len(my_list)-i-1)])"
   ]
  },
  {
   "cell_type": "code",
   "execution_count": null,
   "id": "5be00ea0",
   "metadata": {},
   "outputs": [],
   "source": [
    "# 178 abs 절대값 함수\n",
    "my_list = [100, 200, 400, 800]\n",
    "for i in range(len(my_list)-1):\n",
    "    print(abs(my_list[i+1]-my_list[i]))\n",
    "    \n",
    "    "
   ]
  },
  {
   "cell_type": "code",
   "execution_count": null,
   "id": "f6dcea6f",
   "metadata": {},
   "outputs": [],
   "source": [
    "# 179\n",
    "my_list = [100, 200, 400, 800, 1000, 1300]\n",
    "for i in range(len(my_list)-2):\n",
    "    print((my_list[i]+my_list[i+1]+my_list[i+2])/3)"
   ]
  },
  {
   "cell_type": "code",
   "execution_count": null,
   "id": "f781e8b2",
   "metadata": {},
   "outputs": [],
   "source": [
    "# 180\n",
    "volatility = []\n",
    "low_prices  = [100, 200, 400, 800, 1000]\n",
    "high_prices = [150, 300, 430, 880, 1000]\n",
    "for i in range(0,5):\n",
    "    volatility.append(high_prices[i]-low_prices[i])\n",
    "volatility    "
   ]
  },
  {
   "cell_type": "code",
   "execution_count": null,
   "id": "2867ed3c",
   "metadata": {},
   "outputs": [],
   "source": [
    "# 181\n",
    "f_fl = ['101호','102호']\n",
    "s_fl = ['201호','202호']\n",
    "t_fl = ['301호','302호']\n",
    "apart = [f_fl,s_fl,t_fl]\n",
    "print(apart,type(apart))"
   ]
  },
  {
   "cell_type": "code",
   "execution_count": null,
   "id": "8e53e746",
   "metadata": {},
   "outputs": [],
   "source": [
    "# 182\n",
    "시가 = [100,200,300]\n",
    "종가 = [80,210,330]\n",
    "stock = [시가,종가]\n",
    "stock"
   ]
  },
  {
   "cell_type": "code",
   "execution_count": null,
   "id": "ef184816",
   "metadata": {},
   "outputs": [],
   "source": [
    "# 183\n",
    "stock = {\"시가\":[100,200,300], \"종가\":[80,210,330]}\n",
    "stock"
   ]
  },
  {
   "cell_type": "code",
   "execution_count": null,
   "id": "a7792efe",
   "metadata": {},
   "outputs": [],
   "source": [
    "# 184\n",
    "stock = {'10/10':[80,110,70,90],'10/11':[210,230,190,200]}\n",
    "stock"
   ]
  },
  {
   "cell_type": "code",
   "execution_count": null,
   "id": "9908424e",
   "metadata": {},
   "outputs": [],
   "source": [
    "# 185 2중 for문\n",
    "apart = [ [101, 102], [201, 202], [301, 302] ]\n",
    "for row in apart:\n",
    "    for col in row:\n",
    "        print(col, \"호\")\n"
   ]
  },
  {
   "cell_type": "code",
   "execution_count": null,
   "id": "7bce0afc",
   "metadata": {},
   "outputs": [],
   "source": [
    "# 186\n",
    "apart = [ [101, 102], [201, 202], [301, 302] ]\n",
    "for row in apart[::-1]:\n",
    "    for col in row:\n",
    "        print(col,\"호\")\n"
   ]
  },
  {
   "cell_type": "code",
   "execution_count": null,
   "id": "303020aa",
   "metadata": {},
   "outputs": [],
   "source": [
    "# 187\n",
    "apart = [ [101, 102], [201, 202], [301, 302] ]\n",
    "for row in apart[::-1]:\n",
    "    for col in row[::-1]:\n",
    "        print(col,\"호\")\n",
    "    "
   ]
  },
  {
   "cell_type": "code",
   "execution_count": null,
   "id": "ee94f910",
   "metadata": {},
   "outputs": [],
   "source": [
    "# 188\n",
    "apart = [ [101, 102], [201, 202], [301, 302] ]\n",
    "for row in apart:\n",
    "    for col in row:\n",
    "        print(col,\"호\")\n",
    "        print(\"------\")"
   ]
  },
  {
   "cell_type": "code",
   "execution_count": null,
   "id": "4f255876",
   "metadata": {},
   "outputs": [],
   "source": [
    "# 189\n",
    "apart = [ [101, 102], [201, 202], [301, 302] ]\n",
    "for row in apart:\n",
    "    for col in row:    \n",
    "        print(col, \"호\")\n",
    "    print(\"------\")"
   ]
  },
  {
   "cell_type": "code",
   "execution_count": null,
   "id": "251d0bf6",
   "metadata": {},
   "outputs": [],
   "source": [
    "# 190\n",
    "apart = [ [101, 102], [201, 202], [301, 302] ]\n",
    "for row in apart:\n",
    "    for col in row: \n",
    "        print(col,\"호\")\n",
    "print(\"-----\")"
   ]
  },
  {
   "cell_type": "code",
   "execution_count": null,
   "id": "2ba6a6c4",
   "metadata": {},
   "outputs": [],
   "source": [
    "# 191\n",
    "#open/high/low/close\n",
    "data = [\n",
    "    [ 2000,  3050,  2050,  1980],\n",
    "    [ 7500,  2050,  2050,  1980],\n",
    "    [15450, 15050, 15550, 14900]\n",
    "]\n",
    "for row in data:\n",
    "    for col in row:\n",
    "        print(col*1.00014)"
   ]
  },
  {
   "cell_type": "code",
   "execution_count": null,
   "id": "06785df9",
   "metadata": {},
   "outputs": [],
   "source": [
    "# 192\n",
    "#open/high/low/close\n",
    "data = [\n",
    "    [ 2000,  3050,  2050,  1980],\n",
    "    [ 7500,  2050,  2050,  1980],\n",
    "    [15450, 15050, 15550, 14900]\n",
    "]\n",
    "for row in data:\n",
    "    for col in row:\n",
    "        print(col*1.00014)\n",
    "    print(\"----\")"
   ]
  },
  {
   "cell_type": "code",
   "execution_count": null,
   "id": "831d8ac8",
   "metadata": {},
   "outputs": [],
   "source": [
    "# 193\n",
    "#open/high/low/close\n",
    "data = [\n",
    "    [ 2000,  3050,  2050,  1980],\n",
    "    [ 7500,  2050,  2050,  1980],\n",
    "    [15450, 15050, 15550, 14900]\n",
    "]\n",
    "\n",
    "result = []\n",
    "for row in data:\n",
    "    for col in row:\n",
    "        result.append(col*1.00014)\n",
    "result"
   ]
  },
  {
   "cell_type": "code",
   "execution_count": null,
   "id": "9cbedd9e",
   "metadata": {},
   "outputs": [],
   "source": [
    "# 194\n",
    "#open/high/low/close\n",
    "data = [\n",
    "    [ 2000,  3050,  2050,  1980],\n",
    "    [ 7500,  2050,  2050,  1980],\n",
    "    [15450, 15050, 15550, 14900]\n",
    "]\n",
    "\n",
    "result = []\n",
    "for row in data:\n",
    "    sub = [] # 다시 초기화 시켜줌 \n",
    "    for col in row:\n",
    "        sub.append(col*1.00014)   \n",
    "    result.append(sub)\n",
    "print(result)\n"
   ]
  },
  {
   "cell_type": "code",
   "execution_count": null,
   "id": "225bae77",
   "metadata": {},
   "outputs": [],
   "source": [
    "# 195\n",
    "# 종가 데이터만 출력\n",
    "ohlc = [[\"open\", \"high\", \"low\", \"close\"],\n",
    "        [100, 110, 70, 100],\n",
    "        [200, 210, 180, 190],\n",
    "        [300, 310, 300, 310]]\n",
    "for row in ohlc[1:]:    \n",
    "    print(row[3])"
   ]
  },
  {
   "cell_type": "code",
   "execution_count": null,
   "id": "d1bac605",
   "metadata": {},
   "outputs": [],
   "source": [
    "# 196 종가가 150보다 큰경우만 출력\n",
    "ohlc = [[\"open\", \"high\", \"low\", \"close\"],\n",
    "        [100, 110, 70, 100],\n",
    "        [200, 210, 180, 190],\n",
    "        [300, 310, 300, 310]]\n",
    "for row in ohlc[1:]:    \n",
    "    if row[3] > 150:\n",
    "        print(row[3])"
   ]
  },
  {
   "cell_type": "code",
   "execution_count": null,
   "id": "90bdebc7",
   "metadata": {},
   "outputs": [],
   "source": [
    "# 197 종가가 시가보다 크거나 같은 경우에만 종가 출력\n",
    "ohlc = [[\"open\", \"high\", \"low\", \"close\"],\n",
    "        [100, 110, 70, 100],\n",
    "        [200, 210, 180, 190],\n",
    "        [300, 310, 300, 310]]\n",
    "for row in ohlc[1:]:    \n",
    "    if row[3] >= row[0]:\n",
    "        print(row[3])"
   ]
  },
  {
   "cell_type": "code",
   "execution_count": null,
   "id": "04b4dbab",
   "metadata": {},
   "outputs": [],
   "source": [
    "# 198 고가와 저가의 차이를 변동폭이라 할 때, 변동폭을 리스트에 저장하라\n",
    "ohlc = [[\"open\", \"high\", \"low\", \"close\"],\n",
    "        [100, 110, 70, 100],\n",
    "        [200, 210, 180, 190],\n",
    "        [300, 310, 300, 310]]\n",
    "volatility = []\n",
    "for row in ohlc[1:]:    \n",
    "    volatility.append(row[1] - row[2])\n",
    "volatility  \n",
    "        "
   ]
  },
  {
   "cell_type": "code",
   "execution_count": null,
   "id": "594c3da2",
   "metadata": {},
   "outputs": [],
   "source": [
    "# 199 종가가 시가보다 높은날의 변동성을 출력하라\n",
    "ohlc = [[\"open\", \"high\", \"low\", \"close\"],\n",
    "        [100, 110, 70, 100],\n",
    "        [200, 210, 180, 190],\n",
    "        [300, 310, 300, 310]]\n",
    "for row in ohlc[1:]:   \n",
    "    if row[3] > row[0]:\n",
    "        print(row[1]-row[2])"
   ]
  },
  {
   "cell_type": "code",
   "execution_count": null,
   "id": "2361470c",
   "metadata": {},
   "outputs": [],
   "source": [
    "# 200\n",
    "ohlc = [[\"open\", \"high\", \"low\", \"close\"],\n",
    "        [100, 110, 70, 100],\n",
    "        [200, 210, 180, 190],\n",
    "        [300, 310, 300, 310]]\n",
    "# 수익금 = close - open\n",
    "profit = 0\n",
    "for row in ohlc[1:]:\n",
    "    profit += (row[0]-row[3])\n",
    "profit\n"
   ]
  },
  {
   "cell_type": "markdown",
   "id": "08191181",
   "metadata": {},
   "source": [
    "# 함수(201 ~ 240)"
   ]
  },
  {
   "cell_type": "code",
   "execution_count": null,
   "id": "39743a23",
   "metadata": {},
   "outputs": [],
   "source": [
    "# 201\n",
    "#\"비트코인\" 문자열을 화면에 출력하는 print_coin() 함수를 정의하라.\n",
    "def print_coin():\n",
    "    print('비트코인')\n"
   ]
  },
  {
   "cell_type": "code",
   "execution_count": null,
   "id": "7a0ce884",
   "metadata": {},
   "outputs": [],
   "source": [
    "# 202 201번에서 정의한 함수를 호출하라.\n",
    "print_coin()"
   ]
  },
  {
   "cell_type": "code",
   "execution_count": null,
   "id": "79b705f5",
   "metadata": {},
   "outputs": [],
   "source": [
    "# 203\n",
    "for i in range(100):\n",
    "    print_coin()"
   ]
  },
  {
   "cell_type": "code",
   "execution_count": null,
   "id": "3cae0eaa",
   "metadata": {},
   "outputs": [],
   "source": [
    "# 204 \"비트코인\" 문자열을 100번 화면에 출력하는 print_coins() 함수를 정의하라.\n",
    "def print_coins():\n",
    "    for i in range(100):\n",
    "        print('비트코인')\n",
    "print_coins()"
   ]
  },
  {
   "cell_type": "code",
   "execution_count": null,
   "id": "b2210f52",
   "metadata": {},
   "outputs": [],
   "source": [
    "# 205 아래의 에러가 발생하는 이유에 대해 설명하라.\n",
    "hello()\n",
    "def hello():\n",
    "    print(\"Hi\n",
    "# 함수가 정의되기 전에 호출되어서"
   ]
  },
  {
   "cell_type": "code",
   "execution_count": null,
   "id": "d77514dc",
   "metadata": {},
   "outputs": [],
   "source": [
    "# 206 아래 코드의 실행 결과를 예측하라.\n",
    "def message() :\n",
    "    print(\"A\")\n",
    "    print(\"B\")\n",
    "\n",
    "message()\n",
    "print(\"C\")\n",
    "message()"
   ]
  },
  {
   "cell_type": "code",
   "execution_count": null,
   "id": "0ed81fd2",
   "metadata": {},
   "outputs": [],
   "source": [
    "# 207 아래 코드의 실행 결과를 예측하라. (읽기 어려운 코드의 예입니다.)\n",
    "print(\"A\")\n",
    "\n",
    "def message() :\n",
    "    print(\"B\")\n",
    "\n",
    "print(\"C\")\n",
    "message()"
   ]
  },
  {
   "cell_type": "code",
   "execution_count": null,
   "id": "5102a022",
   "metadata": {},
   "outputs": [],
   "source": [
    "# 208 아래 코드의 실행 결과를 예측하라. (읽기 어려운 코드의 예입니다.)\n",
    "print(\"A\")\n",
    "def message1() :\n",
    "    print(\"B\")\n",
    "print(\"C\")\n",
    "def message2() :\n",
    "    print(\"D\")\n",
    "message1()\n",
    "print(\"E\")\n",
    "message2()"
   ]
  },
  {
   "cell_type": "code",
   "execution_count": null,
   "id": "f56a38e7",
   "metadata": {},
   "outputs": [],
   "source": [
    "# 209 아래 코드의 실행 결과를 예측하라.\n",
    "def message1():\n",
    "    print(\"A\")\n",
    "\n",
    "def message2():\n",
    "    print(\"B\")\n",
    "    message1()\n",
    "\n",
    "message2()"
   ]
  },
  {
   "cell_type": "code",
   "execution_count": null,
   "id": "463063f0",
   "metadata": {},
   "outputs": [],
   "source": [
    "# 210 아래 코드의 실행 결과를 예측하라.\n",
    "def message1():\n",
    "    print(\"A\")\n",
    "\n",
    "def message2():\n",
    "    print(\"B\")\n",
    "\n",
    "def message3():\n",
    "    for i in range (3) :\n",
    "        message2()\n",
    "        print(\"C\")\n",
    "    message1()\n",
    "\n",
    "message3()\n"
   ]
  },
  {
   "cell_type": "code",
   "execution_count": null,
   "id": "96732f20",
   "metadata": {},
   "outputs": [],
   "source": [
    "# 211 함수의 호출 결과를 예측하라.\n",
    "def 함수(문자열) :\n",
    "    print(문자열)\n",
    "\n",
    "함수(\"안녕\")\n",
    "함수(\"Hi\")"
   ]
  },
  {
   "cell_type": "code",
   "execution_count": null,
   "id": "aac59265",
   "metadata": {},
   "outputs": [],
   "source": [
    "# 212 함수의 호출 결과를 예측하라.\n",
    "def 함수(a, b) :\n",
    "    print(a + b)\n",
    "\n",
    "함수(3, 4)\n",
    "함수(7, 8)"
   ]
  },
  {
   "cell_type": "code",
   "execution_count": null,
   "id": "4990d452",
   "metadata": {},
   "outputs": [],
   "source": [
    "# 213 아래와 같은 에러가 발생하는 원인을 설명하라.\n",
    "def 함수(문자열) :\n",
    "    print(문자열)\n",
    "함수()\n",
    "# 함수에 정의와 다르게 함수를 호출하고 있다.\n",
    "#함수를 호출할 때 하나의 파라미터를 입력해야한다."
   ]
  },
  {
   "cell_type": "code",
   "execution_count": null,
   "id": "957f72e9",
   "metadata": {},
   "outputs": [],
   "source": [
    "# 214 아래와 같은 에러가 발생하는 원인을 설명하라.\n",
    "def 함수(a, b) :\n",
    "    print(a + b)\n",
    "\n",
    "함수(\"안녕\", 3)\n",
    "# 정의된 함수는 같은 타입의 두 개의 값을 입력 받아 덧셈 연산을 적용하려는 의도로 설계됐습니다.\n",
    "# 하지만 함수를 호출 할때 문자열과 숫자를 입력해서 문자열과 숫자는 더할 수 없다는 에러가 발생합니다.\n",
    "\n"
   ]
  },
  {
   "cell_type": "code",
   "execution_count": null,
   "id": "20836011",
   "metadata": {},
   "outputs": [],
   "source": [
    "# 215 하나의 문자를 입력받아 문자열 끝에 \":D\" 스마일 문자열을 \n",
    "# 이어 붙여 출력하는 print_with_smile 함수를 정의하라.\n",
    "\n",
    "def print_with_smile(변수):\n",
    "    print(변수 + \":D\")\n",
    "\n",
    "print_with_smile(\"바보\")\n"
   ]
  },
  {
   "cell_type": "code",
   "execution_count": null,
   "id": "9a1a738e",
   "metadata": {},
   "outputs": [],
   "source": [
    "# 216 - 215에서 정의한 함수를 호출하라. 파라미터는 \"안녕하세요\"로 입력하라.\n",
    "print_with_smile(\"안녕하세요\")"
   ]
  },
  {
   "cell_type": "code",
   "execution_count": null,
   "id": "f91976c5",
   "metadata": {},
   "outputs": [],
   "source": [
    "# 217 현재 가격을 입력 받아 상한가 (30%)를 출력하는 print_upper_price 함수를 정의하라.\n",
    "def print_upper_price(현재가격):\n",
    "    print(현재가격*1.3)\n",
    "print_upper_price(3000)"
   ]
  },
  {
   "cell_type": "code",
   "execution_count": null,
   "id": "d23c5fa3",
   "metadata": {
    "scrolled": true
   },
   "outputs": [],
   "source": [
    "# 218 두 개의 숫자를 입력받아 두 수의 합을 출력하는 print_sum 함수를 정의하라.\n",
    "def print_sum(a,b):\n",
    "    print(a+b)\n",
    "print_sum(1,5)\n"
   ]
  },
  {
   "cell_type": "code",
   "execution_count": null,
   "id": "91111a98",
   "metadata": {},
   "outputs": [],
   "source": [
    "# 219 두 개의 숫자를 입력받아 합/차/곱/나눗셈을 출력하는 print_arithmetic_operation 함수를 작성하라\n",
    "def print_arithmetic_operation(a,b):\n",
    "    print(f'a+b = {a+b}')\n",
    "    print(f'a-b = {a-b}')\n",
    "    print(f'a*b = {a*b}')\n",
    "    print(f'a/b = {a/b}')\n",
    "print_arithmetic_operation(12,4)\n",
    "    \n"
   ]
  },
  {
   "cell_type": "code",
   "execution_count": null,
   "id": "b1446f7a",
   "metadata": {},
   "outputs": [],
   "source": [
    "# 220 세 개의 숫자를 입력받아 가장 큰수를 출력하는 print_max 함수를 정의하라. 단 if 문을 사용해서 수를 비교하라.\n",
    "def print_max(a,b,c):\n",
    "    max_val = 0\n",
    "    if a > max_val :\n",
    "        max_val = a\n",
    "    if b > max_val :\n",
    "        max_val = b\n",
    "    if c > max_val :\n",
    "        max_val = c\n",
    "    print(max_val)\n",
    "         \n",
    "print_max(1,2,5)         "
   ]
  },
  {
   "cell_type": "code",
   "execution_count": null,
   "id": "d09fe83e",
   "metadata": {},
   "outputs": [],
   "source": [
    "# 221 입력된 문자열을 역순으로 출력하는 print_reverse 함수를 정의하라.\n",
    "def print_reverse(string):\n",
    "    print(string[::-1])\n",
    "print_reverse(\"python\")"
   ]
  },
  {
   "cell_type": "code",
   "execution_count": null,
   "id": "2789a9b8",
   "metadata": {},
   "outputs": [],
   "source": [
    "# 222 성적 리스트를 입력 받아 평균을 출력하는 print_score 함수를 정의하라.\n",
    "def print_score(score_list):\n",
    "    print(sum(score_list)/len(score_list))\n",
    "print_score([1,2,3,4,5])"
   ]
  },
  {
   "cell_type": "code",
   "execution_count": null,
   "id": "8f855241",
   "metadata": {},
   "outputs": [],
   "source": [
    "# 223 하나의 리스트를 입력받아 짝수만 화면에 출력하는 print_even 함수를 정의하라.\n",
    "def print_even(even):\n",
    "    for i in even:\n",
    "        if i % 2 == 0:\n",
    "            \n",
    "            \n",
    "            print(i)\n",
    "print_even([1,2,3,4,5,6,7])"
   ]
  },
  {
   "cell_type": "code",
   "execution_count": null,
   "id": "c6086055",
   "metadata": {},
   "outputs": [],
   "source": [
    "# 224 하나의 딕셔너리를 입력받아 딕셔너리의 key 값을 화면에 출력하는 print_keys 함수를 정의하라\n",
    "def print_keys(a):\n",
    "    for i in a.keys():\n",
    "        print(i)\n",
    "        \n",
    "print_keys({\"이름\":\"김말똥\",\"나이\":20,\"성별\":0}) \n",
    "    "
   ]
  },
  {
   "cell_type": "code",
   "execution_count": null,
   "id": "b2f72a3d",
   "metadata": {},
   "outputs": [],
   "source": [
    "# 225\n",
    "my_dict = {\"10/26\" : [100, 130, 100, 100],\n",
    "           \"10/27\" : [10, 12, 10, 11]}\n",
    "\n",
    "def print_value_by_key(dict_data, date):\n",
    "    print(dict_data[date])\n",
    "    \n",
    "print_value_by_key(my_dict,\"10/27\")\n"
   ]
  },
  {
   "cell_type": "code",
   "execution_count": null,
   "id": "4618152b",
   "metadata": {},
   "outputs": [],
   "source": [
    "# 226\n",
    "def print_5xn(line):\n",
    "    chunk_num = int(len(line) / 5)\n",
    "    for x in range(chunk_num + 1) :\n",
    "        print(line[x * 5: x * 5 + 5])\n",
    "           \n",
    "print_5xn('가나다라마바사아자타카타파하나님') \n",
    "    "
   ]
  },
  {
   "cell_type": "code",
   "execution_count": null,
   "id": "a1d24cdf",
   "metadata": {},
   "outputs": [],
   "source": [
    "# 227\n",
    "def print_mxn(string, num):\n",
    "    line_count = int(len(string)/num)+1\n",
    "    for x in range(line_count):\n",
    "        print(string[x*num:x*num+num])\n",
    "\n",
    "print_mxn(\"가나다라마바사\", 6)\n"
   ]
  },
  {
   "cell_type": "code",
   "execution_count": null,
   "id": "b072bf58",
   "metadata": {},
   "outputs": [],
   "source": [
    "# 228\n",
    "def calc_monthly_salary(annual_salary):\n",
    "    monthly_pay = int(annual_salary/12)\n",
    "    print(monthly_pay)\n",
    "\n",
    "calc_monthly_salary(32005230)\n",
    "    "
   ]
  },
  {
   "cell_type": "code",
   "execution_count": null,
   "id": "5253922d",
   "metadata": {},
   "outputs": [],
   "source": [
    "# 229 아래 코드의 실행 결과를 예측하라\n",
    "def my_print (a, b) :\n",
    "    print(\"왼쪽:\", a)\n",
    "    print(\"오른쪽:\", b)\n",
    "\n",
    "my_print(a=100, b=200)\n",
    "# my_print(100, 200)"
   ]
  },
  {
   "cell_type": "code",
   "execution_count": null,
   "id": "4e3c3c74",
   "metadata": {},
   "outputs": [],
   "source": [
    "# 230 아래 코드의 실행 결과를 예측하라.\n",
    "def my_print (a, b) :\n",
    "    print(\"왼쪽:\", a)\n",
    "    print(\"오른쪽:\", b)\n",
    "\n",
    "my_print(b=100, a=200)"
   ]
  },
  {
   "cell_type": "code",
   "execution_count": null,
   "id": "44251641",
   "metadata": {},
   "outputs": [],
   "source": [
    "# 231 아래 코드를 실행한 결과를 예상하라.\n",
    "def n_plus_1 (n) :\n",
    "    result = n + 1\n",
    "\n",
    "n_plus_1(3)\n",
    "print (result)\n",
    "# 함수 내부에서 사용한 변수는 함수 밖에서는 접근이 불가능합니다.\n",
    "#(문법이 그래요) 함수 내부에서 계산한 값을 전달하기 위해서는 return을 사용해야 합니다."
   ]
  },
  {
   "cell_type": "code",
   "execution_count": null,
   "id": "7c75247d",
   "metadata": {},
   "outputs": [],
   "source": [
    "# 232 문자열 하나를 입력받아 인터넷 주소를 반환하는 make_url 함수를 정의하라.\n",
    "def make_url (url):\n",
    "    print(f\"www.{url}.com\")\n",
    "make_url(\"daum\")"
   ]
  },
  {
   "cell_type": "code",
   "execution_count": null,
   "id": "6e251f97",
   "metadata": {},
   "outputs": [],
   "source": [
    "# 233 문자열을 입력받아 각 문자들로 구성된 리스트로 반환하는 make_list 함수를 정의하라.\n",
    "def make_list(string):\n",
    "    return list(string)\n",
    "#     print(list(string))\n",
    "make_list(\"addfe\")        \n"
   ]
  },
  {
   "cell_type": "code",
   "execution_count": null,
   "id": "04ab20cd",
   "metadata": {},
   "outputs": [],
   "source": [
    "# 234 숫자로 구성된 하나의 리스트를 입력받아, 짝수들을 추출하여 리스트로 반환하는 pickup_even 함수를 구현하라\n",
    "def pickup_even(items):\n",
    "    result = []\n",
    "    for item in items:\n",
    "        if item % 2 == 0:\n",
    "            result.append(item)\n",
    "    return result\n",
    "pickup_even([3, 4, 5, 6, 7, 8])"
   ]
  },
  {
   "cell_type": "code",
   "execution_count": null,
   "id": "751f6264",
   "metadata": {},
   "outputs": [],
   "source": [
    "# 235 콤마가 포함된 문자열 숫자를 입력받아 정수로 변환하는 convert_int 함수를 정의하라.\n",
    "def conert_int(num):\n",
    "    num = num.replace(\",\",\"\")\n",
    "    print(int(num))\n",
    "    \n",
    "conert_int(\"1,234,567\")"
   ]
  },
  {
   "cell_type": "code",
   "execution_count": null,
   "id": "fa5d209a",
   "metadata": {},
   "outputs": [],
   "source": [
    "# 236 아래 코드의 실행 결과를 예측하라.\n",
    "def 함수(num) :\n",
    "    return num + 4\n",
    "\n",
    "a = 함수(10) # 14\n",
    "b = 함수(a) # 18\n",
    "c = 함수(b) # 22\n",
    "print(c) # 22\n"
   ]
  },
  {
   "cell_type": "code",
   "execution_count": null,
   "id": "e19ab1b3",
   "metadata": {},
   "outputs": [],
   "source": [
    "# 237 아래 코드의 실행 결과를 예측하라.\n",
    "def 함수(num) :\n",
    "    return num + 4\n",
    "\n",
    "c = 함수(함수(함수(10)))\n",
    "print(c)"
   ]
  },
  {
   "cell_type": "code",
   "execution_count": null,
   "id": "d054e5f0",
   "metadata": {},
   "outputs": [],
   "source": [
    "# 238 아래 코드의 실행 결과를 예측하라.\n",
    "def 함수1(num) :\n",
    "    return num + 4\n",
    "\n",
    "def 함수2(num) :\n",
    "    return num * 10\n",
    "\n",
    "a = 함수1(10)\n",
    "c = 함수2(a)\n",
    "print(c)\n"
   ]
  },
  {
   "cell_type": "code",
   "execution_count": null,
   "id": "4397716d",
   "metadata": {},
   "outputs": [],
   "source": [
    "# 239 아래 코드의 실행 결과를 예측하라.\n",
    "def 함수1(num) :\n",
    "    return num + 4\n",
    "\n",
    "def 함수2(num) :\n",
    "    num = num + 2\n",
    "    return 함수1(num)\n",
    "\n",
    "c = 함수2(10)\n",
    "print(c)"
   ]
  },
  {
   "cell_type": "code",
   "execution_count": null,
   "id": "f4aa343f",
   "metadata": {},
   "outputs": [],
   "source": [
    "# 240 아래 코드의 실행 결과를 예측하라.\n",
    "def 함수0(num) :\n",
    "    return num * 2\n",
    "\n",
    "def 함수1(num) :\n",
    "    return 함수0(num + 2)\n",
    "\n",
    "def 함수2(num) :\n",
    "    num = num + 10\n",
    "    return 함수1(num)\n",
    "\n",
    "c = 함수2(2)\n",
    "print(c)"
   ]
  },
  {
   "cell_type": "markdown",
   "id": "6809074e",
   "metadata": {},
   "source": [
    "# 모듈(241 ~ 250)"
   ]
  },
  {
   "cell_type": "code",
   "execution_count": null,
   "id": "f98e8ea7",
   "metadata": {},
   "outputs": [],
   "source": [
    "# 241 현재시간\n",
    "import datetime\n",
    "print(datetime.datetime.now())\n"
   ]
  },
  {
   "cell_type": "code",
   "execution_count": null,
   "id": "ab47a9f5",
   "metadata": {},
   "outputs": [],
   "source": [
    "# 242 현재시간의 타입 - datetime 모듈의 now 함수의 리턴 값의 타입을 화면에 출력해보세요\n",
    "import datetime\n",
    "print(type(datetime.datetime.now()))"
   ]
  },
  {
   "cell_type": "code",
   "execution_count": null,
   "id": "87bfc06e",
   "metadata": {},
   "outputs": [],
   "source": [
    "# 243 timedelta - # x일 전의 날짜 구하기\n",
    "import datetime\n",
    "# delta = datetime.timedelta(days=4) # 4일에 대한 값 리턴 날짜는 숫자로 계산할 수 없기에 그에 맞는 형식으로 \n",
    "now = datetime.datetime.now()\n",
    "\n",
    "for day in range(5,0,-1):\n",
    "    delta = datetime.timedelta(days=day)\n",
    "    date = now - delta\n",
    "    print(date)\n"
   ]
  },
  {
   "cell_type": "code",
   "execution_count": null,
   "id": "80624e05",
   "metadata": {},
   "outputs": [],
   "source": [
    "# 244 strftime - 시간을 특정 포맷으로 변경\n",
    "import datetime\n",
    "now = datetime.datetime.now()\n",
    "print(now.strftime(\"%H:%M:%S\")) # 12:51:21 와 같이 시간, 분, 초 형식만 가져옴"
   ]
  },
  {
   "cell_type": "code",
   "execution_count": null,
   "id": "318b730d",
   "metadata": {},
   "outputs": [],
   "source": [
    "# 245 strptime\n",
    "import datetime\n",
    "day = \"2020-05-04\"\n",
    "time = datetime.datetime.strptime(day,\"%Y-%m-%d\" ) # %Y-%m-%d <-- 대 소문자 유의!\n",
    "print(time)"
   ]
  },
  {
   "cell_type": "code",
   "execution_count": null,
   "id": "fa1dad2c",
   "metadata": {},
   "outputs": [],
   "source": [
    "# 246 sleep 함수 - 1초에 한 번 현재 시간을 출력하는 코드를 작성하라\n",
    "import time\n",
    "import datetime\n",
    "\n",
    "while True:\n",
    "    time.sleep(1)\n",
    "    now = datetime.datetime.now()\n",
    "    print(now)"
   ]
  },
  {
   "cell_type": "code",
   "execution_count": null,
   "id": "6da5cfc8",
   "metadata": {},
   "outputs": [],
   "source": [
    "# 247 모듈 임포트 - 모듈을 임포트하는 4가지 방식을 설명하시오\n"
   ]
  },
  {
   "cell_type": "code",
   "execution_count": null,
   "id": "84a692e7",
   "metadata": {},
   "outputs": [],
   "source": [
    "# 248 OS 모듈(getcwd)함수를 호출하여 현재 디렉터리의 경로를 화면에 출력해보자\n",
    "import os\n",
    "ret = os.getcwd()\n",
    "print(ret, type(ret))"
   ]
  },
  {
   "cell_type": "code",
   "execution_count": null,
   "id": "251f48f0",
   "metadata": {},
   "outputs": [],
   "source": [
    "# 249 OS - 모듈(rename) - 바탕화면에 텍스트 파일을 하나 생성한 후 os 모듈의 rename 함수를 호출하여 해당 파일의 이름을 변경해보세요.\n",
    "import os\n",
    "os.rename(r\"C:\\Users\\tgkang\\Desktop/before.txt\", r\"C:\\Users\\tgkang\\Desktop/after.txt\")\n",
    "# r(raw string)은 문자그대로 받아 들여달라는 의미"
   ]
  },
  {
   "cell_type": "code",
   "execution_count": null,
   "id": "db8d4d6f",
   "metadata": {
    "scrolled": true
   },
   "outputs": [],
   "source": [
    "# 250 \n",
    "import numpy\n",
    "for i in numpy.arange(0,5,0.1): # 일반적 range는 정수값씩만 증감 가능하다.\n",
    "    print(i, len(str(i))) #왜 값이 저렇게 나올까?"
   ]
  },
  {
   "cell_type": "markdown",
   "id": "926428f4",
   "metadata": {},
   "source": [
    "# 클래스(251 ~ 290)"
   ]
  },
  {
   "cell_type": "code",
   "execution_count": null,
   "id": "92cffcfc",
   "metadata": {},
   "outputs": [],
   "source": [
    "# 251 클래스, 객체, 인스턴스에 대해 설명해보자.\n",
    "# 클래스\n",
    "# 클래스란 : 붕어빵의 틀과 같은 것\n",
    "# ex(string, dict, list 등과 같은 타입을 만들어 내는것)\n",
    "# 타입을 가져다 씀으로써 여러가지 기능들을 쉽게 가져다가 쓸 수 있다.\n",
    "# 타입에 대해서 프로그래밍을 쉽게 할 수 있또록\n",
    "\n",
    "# 객체(object)\n",
    "# 그 클래스에 의해 만들어진 실제 메모리에 할당 되는놈을 \"객체\"라고 한다.\n",
    "# ex) 붕어빵 자체\n",
    "\n",
    "# 인스턴스\n",
    "# A라는 클래스의 객체야 라고 할때는 \"인스턴스야\" 강조하고 싶을때,\n",
    "# 보통 객체와 같은 용어긴함\n"
   ]
  },
  {
   "cell_type": "code",
   "execution_count": null,
   "id": "7089a8c8",
   "metadata": {},
   "outputs": [],
   "source": [
    "# 252 클래스 정의\n",
    "class Human: # 사용자가 만든 클래스들은 보통 대문자를 쓰는게 관례이다.\n",
    "    pass\n"
   ]
  },
  {
   "cell_type": "code",
   "execution_count": null,
   "id": "ca9d99c2",
   "metadata": {},
   "outputs": [],
   "source": [
    "# 253 인스턴스 생성\n",
    "class Human:\n",
    "    pass\n",
    "areum = Human()"
   ]
  },
  {
   "cell_type": "code",
   "execution_count": null,
   "id": "068edf8d",
   "metadata": {},
   "outputs": [],
   "source": [
    "# 254 클래스 생성자 - 1\n",
    "class Human:\n",
    "    def __init__(self):\n",
    "        print(\"응애응애\")\n",
    "areum = Human()\n",
    "print(areum)"
   ]
  },
  {
   "cell_type": "code",
   "execution_count": null,
   "id": "ac138793",
   "metadata": {},
   "outputs": [],
   "source": [
    "# 255 클래스 생성자 - 2\n",
    "class Human:\n",
    "    def __init__(self, name, age, sex):\n",
    "        self.name = name\n",
    "        self.age = age\n",
    "        self.sex = sex\n",
    "areum = Human(\"아름\",25,\"여자\")\n",
    "\n",
    "print(areum.age)"
   ]
  },
  {
   "cell_type": "code",
   "execution_count": null,
   "id": "38510fd3",
   "metadata": {},
   "outputs": [],
   "source": [
    "# 256 인스턴스 속성에 접근\n",
    "class Human:\n",
    "    def __init__(self, name, age, sex):\n",
    "        self.name = name\n",
    "        self.age = age\n",
    "        self.sex = sex\n",
    "areum = Human(\"조아름\",25,\"성별\")\n",
    "areum.age"
   ]
  },
  {
   "cell_type": "code",
   "execution_count": null,
   "id": "2f08d3c7",
   "metadata": {},
   "outputs": [],
   "source": [
    "# 257 클래스 메소드 - 1\n",
    "# class Human:\n",
    "#     def __init__ (self, name, age, sex):\n",
    "#         self.name = name\n",
    "#         self.age = age\n",
    "#         self.sex = sex\n",
    "#         self.who = [name, age, sex]\n",
    "# areum = Human(\"조아름\",25,\"여자\")\n",
    "# areum.who\n",
    "\n",
    "# 257 \n",
    "class Human:\n",
    "    def __init__ (self, name, age, sex):\n",
    "        self.name = name\n",
    "        self.age = age\n",
    "        self.sex = sex\n",
    "    \n",
    "    def who(self):\n",
    "        print(\"이름:{}, 나이:{}, 성별:{}\".format(self.name, self.age, self.sex))\n",
    "\n",
    "areum = Human(\"조아름\",25,\"여자\")\n",
    "areum.who()\n"
   ]
  },
  {
   "cell_type": "code",
   "execution_count": null,
   "id": "cdf83cd6",
   "metadata": {},
   "outputs": [],
   "source": [
    "# 258 클래스 메소드 - 2\n",
    "# areum = Human(\"조아름\",25,\"성별\")\n",
    "class Human:\n",
    "    def __init__ (self, name, age, sex):\n",
    "        self.name = name\n",
    "        self.age = age\n",
    "        self.sex = sex\n",
    "    \n",
    "    def who(self):\n",
    "        print(\"이름:{}, 나이:{}, 성별:{}\".format(self.name, self.age, self.sex))\n",
    "        \n",
    "    def setinfo(self, name, age, sex):\n",
    "        self.name = name\n",
    "        self.age = age\n",
    "        self.sex = sex        \n",
    "\n",
    "areum = Human(\"불명\",\"미상\",\"모름\")\n",
    "areum.who()\n",
    "\n",
    "areum.setinfo(\"아름\",25,\"여자\")\n",
    "areum.who()\n"
   ]
  },
  {
   "cell_type": "code",
   "execution_count": null,
   "id": "25b0ba91",
   "metadata": {},
   "outputs": [],
   "source": [
    "# 259 클래스 소멸자\n",
    "\n",
    "class Human:\n",
    "    def __init__ (self, name, age, sex):\n",
    "        self.name = name\n",
    "        self.age = age\n",
    "        self.sex = sex\n",
    "    def __del__ (self):\n",
    "        print(\"나의 죽음을 알리지말라\")\n",
    "    \n",
    "    def who(self):\n",
    "        print(\"이름:{}, 나이:{}, 성별:{}\".format(self.name, self.age, self.sex))\n",
    "        \n",
    "    def setinfo(self, name, age, sex):\n",
    "        self.name = name\n",
    "        self.age = age\n",
    "        self.sex = sex\n",
    "        \n",
    "areum = Human(\"불명\",\"미상\",\"모름\")\n",
    "del(areum)"
   ]
  },
  {
   "cell_type": "code",
   "execution_count": null,
   "id": "e5c59329",
   "metadata": {},
   "outputs": [],
   "source": [
    "# 260 에러의 원인 - 아래와 같은 에러가 발생한 원인에 대해 설명하세요\n",
    "\n",
    "class OMG : \n",
    "    def print() :\n",
    "        print(\"Oh my god\")\n",
    "\n",
    "myStock = OMG()\n",
    "myStock.print() # <-- 컴퓨터는 우측의 순서로 이해한다. OMH.print(myStock) \n",
    "# print라는 객체를 만들긴 했지만 인자가 없음\n",
    "# self를 넘겨주면 해결됨\n",
    "\n",
    "\n",
    "# >>> >>> myStock = OMG()\n",
    "# >>> myStock.print()\n",
    "# TypeError Traceback (most recent call last)\n",
    "# <ipython-input-233-c85c04535b22> in <module>()\n",
    "# ----> myStock.print()\n",
    "\n",
    "# TypeError: print() takes 0 positional arguments but 1 was given"
   ]
  },
  {
   "cell_type": "code",
   "execution_count": null,
   "id": "675e1910",
   "metadata": {},
   "outputs": [],
   "source": [
    "# 261 Stock 클래스 생성\n",
    "# 주식 종목에 대한 정보를 저장하는 Stock 클래스를 정의해보세요. 클래스는 속성과 메서드를 갖고 있지 않습니다.\n",
    "# 보통 클래스에는 클래스의 타입과 관련된 함수들 즉, 메소드 들이 위치하게 되는데 아무것도 없다.\n",
    "# 클래스안에 아무것도 없는 객체가 생성된다. -> 즉 객체가 없다?\n",
    "class Stock:\n",
    "    pass\n",
    "#     def __init__ (myStockData):\n",
    "\n",
    "Stock()"
   ]
  },
  {
   "cell_type": "code",
   "execution_count": null,
   "id": "1c8b0629",
   "metadata": {},
   "outputs": [],
   "source": [
    "# 262 생성자\n",
    "class Stock:\n",
    "    def __init__(self, stockName, stockCode):\n",
    "        self.주식 = stockName\n",
    "        self.코드 = stockCode\n",
    "      \n",
    "삼성 = Stock(\"삼성전자\", \"005930\")\n",
    "print(삼성.코드)\n",
    "print(삼성.주식)\n"
   ]
  },
  {
   "cell_type": "code",
   "execution_count": null,
   "id": "a243745c",
   "metadata": {},
   "outputs": [],
   "source": [
    "# 263\n",
    "class Stock:\n",
    "    def __init__ (self, name, code):\n",
    "        self.name = name\n",
    "        self.code = code\n",
    "    \n",
    "    def set_name(self, name):\n",
    "        self.name = name\n",
    "        \n",
    "        \n",
    "a = Stock(None, None)\n",
    "# Stock.set_name(a,\"삼성전자\")\n",
    "a.set_name(\"삼성전자\") \n",
    "print(a.name)"
   ]
  },
  {
   "cell_type": "code",
   "execution_count": null,
   "id": "9adedf4d",
   "metadata": {},
   "outputs": [],
   "source": [
    "# 264\n",
    "class Stock:\n",
    "    def __init__(self, name, code):\n",
    "        self.name = name\n",
    "        self.code = code\n",
    "    def set_code(self,code):\n",
    "        self.code2 = code\n",
    "        print(self.code2)\n",
    "a = Stock(None, None)\n",
    "a.set_code(\"005930\")   \n"
   ]
  },
  {
   "cell_type": "code",
   "execution_count": null,
   "id": "1fded532",
   "metadata": {},
   "outputs": [],
   "source": [
    "# 265\n",
    "class Stock:\n",
    "    def __init__(self, name, code):\n",
    "        self.name = name\n",
    "        self.code = code\n",
    "    def get_name(self, name):\n",
    "        self.name = name\n",
    "        print(self.name)\n",
    "    def get_code(self, code):\n",
    "        self.code = code\n",
    "        print(self.code)\n",
    "삼성 = Stock(\"삼성전자\",\"005930\")\n",
    "삼성.get_name(\"삼성전자\")\n",
    "삼성.get_code(\"20665\")\n",
    "\n"
   ]
  },
  {
   "cell_type": "code",
   "execution_count": null,
   "id": "5eb60fbf",
   "metadata": {},
   "outputs": [],
   "source": [
    "# 266\n",
    "class Stock:\n",
    "    def __init__(self, name, code, PER, PBR, 배당수익률):\n",
    "        self.name = name\n",
    "        self.code = code\n",
    "        self.PER = float(PER)\n",
    "        self.PBR = float(PBR)\n",
    "        self.배당수익률 = float(배당수익률)\n",
    "        \n",
    "    def set_name(self, name):\n",
    "        self.name = name\n",
    "        return self.name\n",
    "    \n",
    "    def set_code(self, code):\n",
    "        self.code = code\n",
    "        return self.code\n",
    "    \n",
    "    def get_name(self):\n",
    "        return self.name\n",
    "    \n",
    "a = Stock(\"삼성전자\", 20613,1,2,3)\n"
   ]
  },
  {
   "cell_type": "code",
   "execution_count": null,
   "id": "b9c38624",
   "metadata": {},
   "outputs": [],
   "source": [
    "# 267 객체생성 - 266번에서 정의한 생성자를 통해 다음 정보를 갖는 객체를 생성해보세요\n",
    "class Stock:\n",
    "    def __init__(self, name, code, PER, PBR, 배당수익률):\n",
    "        self.name = name\n",
    "        self.code = code\n",
    "        self.PER = float(PER)\n",
    "        self.PBR = float(PBR)\n",
    "        self.배당수익률 = float(배당수익률)\n",
    "        \n",
    "    def set_name(self, name):\n",
    "        self.name = name\n",
    "        return self.name\n",
    "    \n",
    "    def set_code(self, code):\n",
    "        self.code = code\n",
    "        return self.code\n",
    "    \n",
    "    def get_name(self):\n",
    "        return self.name\n",
    "\n",
    "삼성 = Stock(\"삼성전자\", \"005930\", 15.79, 1.33, 2.83)\n",
    "print(삼성.배당수익률)"
   ]
  },
  {
   "cell_type": "code",
   "execution_count": null,
   "id": "6ca8fa6e",
   "metadata": {},
   "outputs": [],
   "source": [
    "# 268 객체의 속성수정\n",
    "class Stock:\n",
    "    def __init__(self, name, code, PER, PBR, dividend):\n",
    "        self.name = name\n",
    "        self.code = code\n",
    "        self.PER = float(PER)\n",
    "        self.PBR = float(PBR)\n",
    "        self.dividend = dividend\n",
    "        \n",
    "    def set_name(self, name):\n",
    "        self.name = name\n",
    "        return self.name\n",
    "    \n",
    "    def set_code(self, code):\n",
    "        self.code = code\n",
    "        return self.code\n",
    "    \n",
    "    def get_name(self):\n",
    "        return self.name\n",
    "    \n",
    "    def set_per(self, PER):\n",
    "        self.PER = PER\n",
    "    \n",
    "    def set_pbr(self, PBR):\n",
    "        self.PBR = PBR\n",
    "        \n",
    "    def set_dividend(self, dividend):\n",
    "        self.dividend = dividend\n",
    "        \n",
    "        \n",
    "삼성 = Stock(\"삼성전자\", \"005930\", 15.79, 1.33, \"2.83\")\n",
    "print(삼성.set_dividend(\"22\"))\n",
    "\n",
    "\n"
   ]
  },
  {
   "cell_type": "code",
   "execution_count": null,
   "id": "51c376c8",
   "metadata": {},
   "outputs": [],
   "source": [
    "# 269\n",
    "class Stock:\n",
    "    def __init__(self, name, code, PER, PBR, 배당수익률):\n",
    "        self.name = name\n",
    "        self.code = code\n",
    "        self.PER = float(PER)\n",
    "        self.PBR = float(PBR)\n",
    "        self.배당수익률 = float(배당수익률)\n",
    "        \n",
    "    def set_name(self, name):\n",
    "        self.name = name\n",
    "        return self.name\n",
    "    \n",
    "    def set_code(self, code):\n",
    "        self.code = code\n",
    "        return self.code\n",
    "    \n",
    "    def set_per(self, PER):\n",
    "        self.PER = PER\n",
    "        return self.PER\n",
    "\n",
    "삼성 = Stock(\"삼성전자\", \"005930\", 15.79, 1.33, 2.83)\n",
    "\n",
    "삼성.set_per(12.5)\n"
   ]
  },
  {
   "cell_type": "code",
   "execution_count": null,
   "id": "0c934643",
   "metadata": {},
   "outputs": [],
   "source": [
    "# 270\n",
    "class Stock:\n",
    "    def __init__(self, name, code, PER, PBR, 배당수익률):\n",
    "        self.name = name\n",
    "        self.code = code\n",
    "        self.PER = float(PER)\n",
    "        self.PBR = float(PBR)\n",
    "        self.배당수익률 = float(배당수익률)\n",
    "        \n",
    "    def set_name(self, name):\n",
    "        self.name = name\n",
    "        return self.name\n",
    "    \n",
    "    def set_code(self, code):\n",
    "        self.code = code\n",
    "        return self.code\n",
    "    \n",
    "    def set_per(self, PER):\n",
    "        self.PER = PER\n",
    "        return self.PER\n",
    "\n",
    "종목 = []\n",
    "삼성전자 = Stock(\"삼성전자\", \"005930\", 15.79, 1.33, 2.83)\n",
    "현대차 = Stock(\"현대차\",\"005380\",8.70,0.35,4.27)\n",
    "LG전자 = Stock(\"LG전자\",\"066570\",317.34,0.69,1.37)\n",
    "\n",
    "# for i in ['삼성전자','현대차','LG전자']:\n",
    "#     print(i.name, i.code)\n",
    "\n",
    "###############################################################################################\n",
    "# 해설\n",
    "\n",
    "종목.append(삼성)   \n",
    "종목.append(현대차)\n",
    "종목.append(LG전자)\n",
    "\n",
    "for i in 종목:  \n",
    "    print(i.code, i.name, type(i)) ### 클래스를 리스트에 담을 수가 있구나\n",
    "\n",
    "\n",
    "\n"
   ]
  },
  {
   "cell_type": "code",
   "execution_count": null,
   "id": "df1ac063",
   "metadata": {},
   "outputs": [],
   "source": [
    "# 271 Account 클래스\n",
    "class Account:\n",
    "    def __init__(self, name, f_charge):\n",
    "        self.name = name\n",
    "        self.f_charge = f_charge\n",
    "        self.bkname = \"SC은행\"\n",
    "        \n",
    "#     def bkName(self):\n",
    "#         print(\"SC은행\")     # <--------이미 고정된 값이므로 생성자에 추가해도 됨\n",
    "    def bkNo(self):\n",
    "        import random\n",
    "        first = random.randint(100,999)\n",
    "        second = random.randint(10,99)\n",
    "        third = random.randint(100000,999999)\n",
    "        print(f\"계좌번호 : {first}-{second}-{third}\")\n",
    "        \n",
    "        \n",
    "a = Account(\"태규\", 12000)\n",
    "a.bkNo()\n",
    "print(a.bkname)\n",
    "print(a.name)\n",
    "print(a.f_charge)"
   ]
  },
  {
   "cell_type": "code",
   "execution_count": null,
   "id": "8c42943b",
   "metadata": {},
   "outputs": [],
   "source": [
    "# 272 클래스 변수 출력 - Account 클래스로부터 생성된 계좌 객체의 개수 저장\n",
    "import random\n",
    "\n",
    "class Account:\n",
    "    \n",
    "    account_count = 0 # 개수세팅\n",
    "    \n",
    "    def __init__(self, name, f_charge):\n",
    "        self.name = name\n",
    "        self.f_charge = f_charge\n",
    "        self.bkname = \"SC은행\"\n",
    "        \n",
    "        first = random.randint(0,999)\n",
    "        second = random.randint(0,99)\n",
    "        third = random.randint(0,999999)\n",
    "        \n",
    "        first = str(first).zfill(3) # 자리수 채워주는 함수\n",
    "        second = str(second).zfill(2)\n",
    "        third = str(third).zfill(6)\n",
    "        self.account_number = first + \"-\" + second + \"-\" + third\n",
    "        \n",
    "        Account.account_count += 1 # Account 클래스 내 변수 카운트\n",
    "        \n",
    "a = Account(\"태규\", 12000)\n",
    "print(Account.account_count)\n",
    "b = Account(\"재호\", 1000)\n",
    "print(Account.account_count)\n",
    "\n",
    "\n",
    "print(a.name)\n",
    "print(a.account_number)\n",
    "print(a.f_charge)\n"
   ]
  },
  {
   "cell_type": "code",
   "execution_count": null,
   "id": "23cbe750",
   "metadata": {},
   "outputs": [],
   "source": [
    "# 273 Account 클래스로부터 생성된 계좌의 개수를 출력하는 get_account_num() 메서드를 추가하세요.\n",
    "import random\n",
    "\n",
    "class Account:\n",
    "    \n",
    "    account_count = 0 # 개수세팅\n",
    "    \n",
    "    def __init__(self, name, f_charge):\n",
    "        self.name = name\n",
    "        self.f_charge = f_charge\n",
    "        self.bkname = \"SC은행\"\n",
    "        \n",
    "        first = random.randint(0,999)\n",
    "        second = random.randint(0,99)\n",
    "        third = random.randint(0,999999)\n",
    "        \n",
    "        first = str(first).zfill(3) # 자리수 채워주는 함수\n",
    "        second = str(second).zfill(2)\n",
    "        third = str(third).zfill(6)\n",
    "        self.account_number = first + \"-\" + second + \"-\" + third\n",
    "        \n",
    "        Account.account_count += 1 # Account 클래스 내 변수 카운트\n",
    "        \n",
    "#     def get_account_num():\n",
    "#         print(Account.account_count)\n",
    "    def get_account_num(cls): # 객체에 접근할 필요없는 클래스 메소드라고함\n",
    "       print(cls.account_count)\n",
    "        \n",
    "a = Account(\"태규\", 12000)\n",
    "b = Account(\"재호\", 1000)\n",
    "\n",
    "\n",
    "# Account.get_account_num() # 보통이렇게 출력 안함(객체에 접근할 필요없는 메소드)\n",
    "# a.get_account_numt() <- Account.get_account_num(a) 인자가 없는데 넘어가게됨 에러 발생!\n",
    "a.get_account_num() # <--- 이 자리에 객체가 넘어오는게 아니라 클래스가 넘어감\n",
    "b.get_account_num()\n",
    "print(a.name)\n",
    "print(a.account_number)\n",
    "print(a.f_charge)"
   ]
  },
  {
   "cell_type": "code",
   "execution_count": null,
   "id": "ab9f7e58",
   "metadata": {},
   "outputs": [],
   "source": [
    "# 274 입금 메서드\n",
    "#Account 클래스에 입금을 위한 deposit 메서드를 추가하세요. 입금은 최소 1원 이상만 가능합니다.\n",
    "import random\n",
    "class Account:\n",
    "    \n",
    "    account_count = 0 # 계좌개수 초기세팅\n",
    "    \n",
    "    def __init__(self, name, balance):\n",
    "        self.name = name\n",
    "        self.balance = balance\n",
    "        self.bank = \"SC은행\"\n",
    "        \n",
    "        num1 = random.randint(0,999)\n",
    "        num2 = random.randint(0,99)\n",
    "        num3 = random.randint(0,999999)\n",
    "        \n",
    "        num1 = str(num1).zfill(3)    #  zfill(n) n자리수 0으로 채워주는 함수\n",
    "        num2 = str(num2).zfill(2)\n",
    "        num3 = str(num3).zfill(6)\n",
    "        self.account_number = num1 + \"-\" + num2 + \"-\" + num3\n",
    "        \n",
    "        Account.account_count += 1   # Account 개수 카운팅\n",
    "\n",
    "    @classmethod\n",
    "    def get_account_num(cls): # 객체에 접근할 필요없는 클래스 메소드라고함\n",
    "       print(cls.account_count)\n",
    "    \n",
    "    def get_deposit(self, amount):\n",
    "        if amount >= 1: # 입금은 최소 1원 이상\n",
    "            self.balance += amount # 입금시 잔고 누적\n",
    "            print(f\"deposit:{amount}, balance : {self.balance}\")\n",
    "\n",
    "        \n",
    "Kang = Account(\"태규\", 12000)\n",
    "Park = Account(\"재호\", 10000)\n",
    "\n",
    "Kang.get_deposit(3000)\n",
    "Park.get_deposit(5000)"
   ]
  },
  {
   "cell_type": "code",
   "execution_count": null,
   "id": "94186784",
   "metadata": {},
   "outputs": [],
   "source": [
    "# 275 출금 메서드\n",
    "#Account 클래스에 출금을 위한 withdraw 메서드를 추가하세요. 출금은 계좌의 잔고 이상으로 출금할 수 는 없습니다.\n",
    "import random\n",
    "class Account:\n",
    "    \n",
    "    account_count = 0 # 계좌개수 초기세팅\n",
    "    \n",
    "    def __init__(self, name, balance):\n",
    "        self.name = name\n",
    "        self.balance = balance\n",
    "        self.bank = \"SC은행\"\n",
    "        \n",
    "        num1 = random.randint(0,999)\n",
    "        num2 = random.randint(0,99)\n",
    "        num3 = random.randint(0,999999)\n",
    "        \n",
    "        num1 = str(num1).zfill(3)    #  zfill(n) n자리수 0으로 채워주는 함수\n",
    "        num2 = str(num2).zfill(2)\n",
    "        num3 = str(num3).zfill(6)\n",
    "        self.account_number = num1 + \"-\" + num2 + \"-\" + num3\n",
    "        \n",
    "        Account.account_count += 1   # Account 개수 카운팅\n",
    "\n",
    "    @classmethod\n",
    "    def get_account_num(cls): # 객체에 접근할 필요없는 클래스 메소드라고함\n",
    "       print(cls.account_count)\n",
    "    \n",
    "    def get_deposit(self, amount):\n",
    "        if amount >= 1: # 입금은 최소 1원 이상\n",
    "            self.balance += amount # 입금 시 잔고 누적\n",
    "            print(f\"deposit:{amount}, balance : {self.balance}\")\n",
    "            \n",
    "    def withdraw(self, amount):\n",
    "        if self.balance > amount:\n",
    "            self.balance -= amount # 출금 시 잔고 누적\n",
    "            print(f\"withdraw:{amount}, balance : {self.balance}\")\n",
    "            \n",
    "        \n",
    "Kang = Account(\"태규\", 12000)\n",
    "Park = Account(\"재호\", 10000)\n",
    "\n",
    "\n",
    "Kang.withdraw(2000) # 2000원 출금\n",
    "Park.withdraw(5000)"
   ]
  },
  {
   "cell_type": "code",
   "execution_count": null,
   "id": "a84594bf",
   "metadata": {},
   "outputs": [],
   "source": [
    "# 276 정보 출력 메서드 - Account 인스턴스에 저장된 정보를 출력하는 display_info()메서드를 추가하세요.\n",
    "# 잔고는 세자리마다 쉼표를 출력하세요.\n",
    "\n",
    "import random\n",
    "class Account:\n",
    "    \n",
    "    account_count = 0 # 계좌개수 초기세팅\n",
    "    \n",
    "    def __init__(self, name, balance):\n",
    "        self.name = name\n",
    "        self.balance = balance\n",
    "        self.bank = \"SC은행\"\n",
    "        \n",
    "        num1 = random.randint(0,999)\n",
    "        num2 = random.randint(0,99)\n",
    "        num3 = random.randint(0,999999)\n",
    "        \n",
    "        num1 = str(num1).zfill(3)    #  zfill(n) n자리수 0으로 채워주는 함수\n",
    "        num2 = str(num2).zfill(2)\n",
    "        num3 = str(num3).zfill(6)\n",
    "        self.account_number = num1 + \"-\" + num2 + \"-\" + num3\n",
    "        \n",
    "        Account.account_count += 1   # Account 개수 카운팅\n",
    "\n",
    "    @classmethod\n",
    "    def get_account_num(cls): # 객체에 접근할 필요없는 클래스 메소드라고함\n",
    "       print(cls.account_count)\n",
    "    \n",
    "    def get_deposit(self, amount):\n",
    "        if amount >= 1: # 입금은 최소 1원 이상\n",
    "            self.balance += amount # 입금 시 잔고 누적\n",
    "            print(f\"deposit:{amount}, balance : {self.balance}\")\n",
    "            \n",
    "    def withdraw(self, amount):\n",
    "        if self.balance > amount:\n",
    "            self.balance -= amount # 출금 시 잔고 누적\n",
    "            print(f\"withdraw:{amount}, balance : {self.balance}\")\n",
    "    \n",
    "  \n",
    "    def display_info(self):\n",
    "        print(\"은행이름:\", self.bank)\n",
    "        print(\"예금주:\", self.name)\n",
    "        print(\"계좌번호:\",self.account_number)\n",
    "        print(\"잔고:\", self.balance)\n",
    "    \n",
    "        \n",
    "Kang = Account(\"태규\", 12000)\n",
    "Park = Account(\"재호\", 10000)\n",
    "\n",
    "\n",
    "Kang.display_info()\n",
    "Park.display_info()"
   ]
  },
  {
   "cell_type": "code",
   "execution_count": null,
   "id": "d4ec0d65",
   "metadata": {},
   "outputs": [],
   "source": [
    "# 277 이자 지급하기 - 입금 횟수가 5회가 될 때 잔고를 기준으로 1%의 이자가 잔고에서 추가되도록 코드를 변경해보세요.\n",
    "\n",
    "import random\n",
    "class Account:\n",
    "    \n",
    "    account_count = 0 # 계좌개수 초기세팅\n",
    "        \n",
    "    def __init__(self, name, balance):\n",
    "        self.deposit_count = 0  # 예는 왜 들여써서 카운팅할까? 같은 위치에 없고\n",
    "        \n",
    "        self.name = name\n",
    "        self.balance = balance\n",
    "        self.bank = \"SC은행\"\n",
    "        \n",
    "        num1 = random.randint(0,999)\n",
    "        num2 = random.randint(0,99)\n",
    "        num3 = random.randint(0,999999)\n",
    "        \n",
    "        num1 = str(num1).zfill(3)    #  zfill(n) n자리수 0으로 채워주는 함수\n",
    "        num2 = str(num2).zfill(2)\n",
    "        num3 = str(num3).zfill(6)\n",
    "        self.account_number = num1 + \"-\" + num2 + \"-\" + num3\n",
    "        \n",
    "        Account.account_count += 1   # Account 개수 카운팅\n",
    "\n",
    "        \n",
    "    @classmethod\n",
    "    def get_account_num(cls): # 객체에 접근할 필요없는 클래스 메소드라고함\n",
    "       print(cls.account_count)\n",
    "    \n",
    "    def get_deposit(self, amount):\n",
    "        if amount >= 1: # 입금은 최소 1원 이상  \n",
    "            \n",
    "            \n",
    "            self.balance += amount # 입금 시 잔고 누적\n",
    "            self.deposit_count += 1\n",
    "            if self.deposit_count == 5: # 5번 입금시\n",
    "                # 이자 지급\n",
    "                self.balance *= 1.01   \n",
    "            print(f\"deposit:{amount}, balance : {self.balance}\")\n",
    "\n",
    "  \n",
    "    def withdraw(self, amount):\n",
    "        if self.balance > amount:\n",
    "            self.balance -= amount # 출금 시 잔고 누적\n",
    "            print(f\"withdraw:{amount}, balance : {self.balance}\")\n",
    "    \n",
    "    def display_info(self):\n",
    "        print(\"은행이름:\", self.bank)\n",
    "        print(\"예금주:\", self.name)\n",
    "        print(\"계좌번호:\",self.account_number)\n",
    "        print(\"잔고:\", self.balance)\n",
    "    \n",
    "        \n",
    "Kang = Account(\"태규\", 12000)\n",
    "Park = Account(\"재호\", 10000)\n",
    "Kang.get_deposit(1000)\n",
    "Kang.get_deposit(1000)\n",
    "Kang.get_deposit(1000)\n",
    "Kang.get_deposit(1000)\n",
    "Kang.get_deposit(1000)\n",
    "\n"
   ]
  },
  {
   "cell_type": "code",
   "execution_count": null,
   "id": "68268c09",
   "metadata": {},
   "outputs": [],
   "source": [
    "# 278 여러 객체 생성 - Account 클래스로부터 3개 이상 인스턴스를 생성하고 생성된 인스턴스를 리스트에 저장하라.\n",
    "import random\n",
    "class Account:\n",
    "    \n",
    "    account_count = 0 # 계좌개수 초기세팅\n",
    "        \n",
    "    def __init__(self, name, balance):\n",
    "        self.deposit_count = 0  # 예는 왜 들여써서 카운팅할까? 같은 위치에 없고\n",
    "        \n",
    "        self.name = name\n",
    "        self.balance = balance\n",
    "        self.bank = \"SC은행\"\n",
    "        \n",
    "        num1 = random.randint(0,999)\n",
    "        num2 = random.randint(0,99)\n",
    "        num3 = random.randint(0,999999)\n",
    "        \n",
    "        num1 = str(num1).zfill(3)    #  zfill(n) n자리수 0으로 채워주는 함수\n",
    "        num2 = str(num2).zfill(2)\n",
    "        num3 = str(num3).zfill(6)\n",
    "        self.account_number = num1 + \"-\" + num2 + \"-\" + num3\n",
    "        \n",
    "        Account.account_count += 1   # Account 개수 카운팅\n",
    "\n",
    "        \n",
    "    @classmethod\n",
    "    def get_account_num(cls): # 객체에 접근할 필요없는 클래스 메소드라고함\n",
    "       print(cls.account_count)\n",
    "    \n",
    "    def get_deposit(self, amount):\n",
    "        if amount >= 1: # 입금은 최소 1원 이상  \n",
    "            \n",
    "            \n",
    "            self.balance += amount # 입금 시 잔고 누적\n",
    "            self.deposit_count += 1\n",
    "            if self.deposit_count == 5: # 5번 입금시\n",
    "                # 이자 지급\n",
    "                self.balance *= 1.01   \n",
    "            print(f\"deposit:{amount}, balance : {self.balance}\")\n",
    "\n",
    "  \n",
    "    def withdraw(self, amount):\n",
    "        if self.balance > amount:\n",
    "            self.balance -= amount # 출금 시 잔고 누적\n",
    "            print(f\"withdraw:{amount}, balance : {self.balance}\")\n",
    "    \n",
    "    def display_info(self):\n",
    "        print(\"은행이름:\", self.bank)\n",
    "        print(\"예금주:\", self.name)\n",
    "        print(\"계좌번호:\",self.account_number)\n",
    "        print(\"잔고:\", self.balance)\n",
    "    \n",
    "\n",
    "data = []\n",
    "Kang = Account(\"Kang\", 12000)\n",
    "Park = Account(\"Park\", 10000)\n",
    "Lee = Account(\"Lee\", 14000)\n",
    "\n",
    "data.append(Kang) # 리스트에 인스턴스를 하나씩 추가\n",
    "data.append(Park)\n",
    "data.append(Lee)\n",
    "\n",
    "print(data)\n"
   ]
  },
  {
   "cell_type": "code",
   "execution_count": null,
   "id": "a1dc4a15",
   "metadata": {},
   "outputs": [],
   "source": [
    "# 279 객체 순회 - 반복문을 통해 리스트에 있는 객체를 순회하면서 잔고가 100만원 이상인 고객의 정보만 출력하라.\n",
    "import random\n",
    "class Account:\n",
    "    \n",
    "    account_count = 0 # 계좌개수 초기세팅\n",
    "        \n",
    "    def __init__(self, name, balance):\n",
    "        self.deposit_count = 0  # 예는 왜 들여써서 카운팅할까? 같은 위치에 없고\n",
    "        \n",
    "        self.name = name\n",
    "        self.balance = balance\n",
    "        self.bank = \"SC은행\"\n",
    "        \n",
    "        num1 = random.randint(0,999)\n",
    "        num2 = random.randint(0,99)\n",
    "        num3 = random.randint(0,999999)\n",
    "        \n",
    "        num1 = str(num1).zfill(3)    #  zfill(n) n자리수 0으로 채워주는 함수\n",
    "        num2 = str(num2).zfill(2)\n",
    "        num3 = str(num3).zfill(6)\n",
    "        self.account_number = num1 + \"-\" + num2 + \"-\" + num3\n",
    "        \n",
    "        Account.account_count += 1   # Account 개수 카운팅\n",
    "        \n",
    "    @classmethod\n",
    "    def get_account_num(cls): # 객체에 접근할 필요없는 클래스 메소드라고함\n",
    "       print(cls.account_count)\n",
    "    \n",
    "    def get_deposit(self, amount):\n",
    "        if amount >= 1: # 입금은 최소 1원 이상  \n",
    "            \n",
    "            \n",
    "            self.balance += amount # 입금 시 잔고 누적\n",
    "            self.deposit_count += 1\n",
    "            if self.deposit_count == 5: # 5번 입금시\n",
    "                # 이자 지급\n",
    "                self.balance *= 1.01   \n",
    "            print(f\"deposit:{amount}, balance : {self.balance}\")\n",
    "\n",
    "  \n",
    "    def withdraw(self, amount):\n",
    "        if self.balance > amount:\n",
    "            self.balance -= amount # 출금 시 잔고 누적\n",
    "            print(f\"withdraw:{amount}, balance : {self.balance}\")\n",
    "    \n",
    "    def display_info(self):\n",
    "        print(\"은행이름:\", self.bank)\n",
    "        print(\"예금주:\", self.name)\n",
    "        print(\"계좌번호:\",self.account_number)\n",
    "        print(\"잔고:\", self.balance)\n",
    "    \n",
    "\n",
    "data = []\n",
    "Kang = Account(\"Kang\", 1200000)\n",
    "Park = Account(\"Park\", 2000000)\n",
    "Lee = Account(\"Lee\", 140000)\n",
    "\n",
    "data.append(Kang) # 리스트에 인스턴스를 하나씩 추가\n",
    "data.append(Park)\n",
    "data.append(Lee)\n",
    "\n",
    "for i in data:\n",
    "    if i.balance >= 1000000: # 잔곤가 100만원  이상\n",
    "        i.display_info()\n",
    "\n"
   ]
  },
  {
   "cell_type": "code",
   "execution_count": null,
   "id": "7610539d",
   "metadata": {},
   "outputs": [],
   "source": [
    "# 280 입출금 내역 - 입금과 출금 내역이 기록되도록 코드를 업데이트 하세요. 입금 내역과 출금 내역을 출력하는 \n",
    "# deposit_history와 withdraw_history 메서드를 추가하세요.\n",
    "\n",
    "import random\n",
    "class Account:\n",
    "    \n",
    "    account_count = 0 # 계좌개수 초기세팅\n",
    "        \n",
    "    def __init__(self, name, balance):\n",
    "        self.deposit_count = 0  # 예는 왜 들여써서 카운팅할까? 같은 위치에 없고\n",
    "        self.deposit_log = [] # deposit log 리스트 생성\n",
    "        self.withdraw_log = [] # withdraw log 리스트 생성\n",
    "        \n",
    "        \n",
    "        self.name = name\n",
    "        self.balance = balance\n",
    "        self.bank = \"SC은행\"\n",
    "        \n",
    "        num1 = random.randint(0,999)\n",
    "        num2 = random.randint(0,99)\n",
    "        num3 = random.randint(0,999999)\n",
    "        \n",
    "        num1 = str(num1).zfill(3)    #  zfill(n) n자리수 0으로 채워주는 함수\n",
    "        num2 = str(num2).zfill(2)\n",
    "        num3 = str(num3).zfill(6)\n",
    "        self.account_number = num1 + \"-\" + num2 + \"-\" + num3\n",
    "        \n",
    "        Account.account_count += 1   # Account 개수 카운팅\n",
    "        \n",
    "    @classmethod\n",
    "    def get_account_num(cls): # 객체에 접근할 필요없는 클래스 메소드라고함\n",
    "       print(cls.account_count)\n",
    "    \n",
    "    def get_deposit(self, amount):\n",
    "        if amount >= 1: # 입금은 최소 1원 이상\n",
    "            self.deposit_log.append(amount) # deposit_log 리스트에 입력한 amount 담기\n",
    "            self.balance += amount # 입금 시 잔고 누적\n",
    "            self.deposit_count += 1\n",
    "            if self.deposit_count == 5: # 5번 입금시\n",
    "                # 이자 지급\n",
    "                self.balance *= 1.01   \n",
    "            print(f\"deposit:{amount}, balance : {self.balance}\")\n",
    "\n",
    "  \n",
    "    def withdraw(self, amount):\n",
    "        if self.balance > amount:\n",
    "            self.withdraw_log.append(amount) # withdraw_log 리스트에 입력한 amount 담기\n",
    "            self.balance -= amount # 출금 시 잔고 누적\n",
    "            print(f\"withdraw:{amount}, balance : {self.balance}\")\n",
    "    \n",
    "    def display_info(self):\n",
    "        print(\"은행이름:\", self.bank)\n",
    "        print(\"예금주:\", self.name)\n",
    "        print(\"계좌번호:\",self.account_number)\n",
    "        print(\"잔고:\", self.balance)\n",
    "    \n",
    "    def withdraw_history(self):   # withdraw_history 메서드 생성\n",
    "        for amount in self.withdraw_log:      # withdraw_history 리스트 내 로그 값들 출력\n",
    "            print(amount)    \n",
    "    \n",
    "    \n",
    "    def deposit_history(self):\n",
    "        for amount in self.deposit_log:\n",
    "            print(amount)\n",
    "            \n",
    "\n",
    "\n",
    "Kang = Account(\"Kang\", 12000)\n",
    "Kang.get_deposit(2000)\n",
    "Kang.get_deposit(2300)\n",
    "Kang.get_deposit(2000)\n",
    "Kang.get_deposit(2000)\n",
    "Kang.withdraw(3000)\n",
    "Kang.withdraw(1200)\n",
    "Kang.withdraw(1000)\n",
    "\n",
    "Kang.deposit_history()\n",
    "Kang.withdraw_history()\n",
    "\n"
   ]
  },
  {
   "cell_type": "code",
   "execution_count": null,
   "id": "55b29eb8",
   "metadata": {},
   "outputs": [],
   "source": [
    "# 281 클래스 정의 - 다음 코드가 동작하도록 차 클래스를 정의하세요.(본인)\n",
    "class 차:\n",
    "    def __init__(self, wheel, price):\n",
    "        self.wheel = wheel\n",
    "        self.price = price    \n",
    "        \n",
    "    def 바퀴(self,wheel):\n",
    "        self.바퀴 = wheel\n",
    "        print(self.바퀴)\n",
    "        \n",
    "    def 가격(self, price):\n",
    "        self.가격 = price\n",
    "        print(self.가격)\n",
    "\n",
    "car = 차(2,100)\n",
    "##########################################################################\n",
    "\n",
    "\n",
    "\n"
   ]
  },
  {
   "cell_type": "code",
   "execution_count": null,
   "id": "f39a32c0",
   "metadata": {},
   "outputs": [],
   "source": [
    "# 281 클래스 정의 - 다음 코드가 동작하도록 차 클래스를 정의하세요.(답안)\n",
    "class 차:\n",
    "    def __init__(self, 바퀴, 가격):\n",
    "        self.바퀴 = 바퀴\n",
    "        self.가격 = 가격\n",
    "\n",
    "\n",
    "car = 차(2, 1000)\n",
    "print(car.바퀴)\n",
    "print(car.가격)"
   ]
  },
  {
   "cell_type": "code",
   "execution_count": null,
   "id": "e696cbf9",
   "metadata": {},
   "outputs": [],
   "source": [
    "# 282 클래스 상속 - 차 클래스를 상속받은 자전차 클래스를 정의하세요\n",
    "class 차:\n",
    "    def __init__(self, 바퀴, 가격):\n",
    "        self.바퀴 = 바퀴\n",
    "        self.가격 = 가격\n",
    "\n",
    "\n",
    "car = 차(2, 1000)\n",
    "# print(car.바퀴)\n",
    "# print(car.가격)\n",
    "\n",
    "\n",
    "class 자전차(차):  # 클래스 상속~\n",
    "    pass\n",
    "car2 = 자전차(2,100)\n",
    "car2.가격\n",
    "car2.바퀴"
   ]
  },
  {
   "cell_type": "code",
   "execution_count": null,
   "id": "2d1fb533",
   "metadata": {},
   "outputs": [],
   "source": [
    "# 283 클래스 상속 - 다음 코드가 동작하도록 자전차 클래스를 정의하세요. 단 자전차 클래스는 차 클래스를 상속받습니다.\n",
    "class 차:\n",
    "    def __init__(self, 바퀴, 가격):\n",
    "        self.바퀴 = 바퀴\n",
    "        self.가격 = 가격\n",
    "\n",
    "\n",
    "class 자전차(차):\n",
    "    def __init__(self, 바퀴, 가격):\n",
    "        self.바퀴 = 바퀴\n",
    "        self.가격 = 가격\n",
    "        \n",
    "bicycle = 자전차(2,100)\n",
    "bicycle.가격\n",
    "\n"
   ]
  },
  {
   "cell_type": "code",
   "execution_count": null,
   "id": "17f09724",
   "metadata": {},
   "outputs": [],
   "source": [
    "# 284. 클래스 상속(방법1) - 다음 코드가 동작하도록 자전차 클래스를 정의하세요. 단 자전차 클래스는 차클래스를 상속받습니다.\n",
    "class 차:\n",
    "    def __init__(self, 바퀴, 가격):\n",
    "        self.바퀴 = 바퀴\n",
    "        self.가격 = 가격\n",
    "\n",
    "\n",
    "class 자전차(차):\n",
    "    def __init__(self, 바퀴, 가격, 구동계):\n",
    "        self.바퀴 = 바퀴 # super()???\n",
    "        self.가격 = 가격\n",
    "        self.구동계 = 구동계\n",
    "        \n",
    "        \n",
    "bicycle = 자전차(2,100,\"시마노\")\n",
    "print(bicycle.구동계)\n",
    "print(bicycle.바퀴)"
   ]
  },
  {
   "cell_type": "code",
   "execution_count": 3,
   "id": "98357075",
   "metadata": {},
   "outputs": [
    {
     "name": "stdout",
     "output_type": "stream",
     "text": [
      "시마노\n",
      "2\n"
     ]
    }
   ],
   "source": [
    "# 284. 클래스 상속 - 다음 코드가 동작하도록 자전차 클래스를 정의하세요. 단 자전차 클래스는 차클래스를 상속받습니다.\n",
    "class 차:\n",
    "    def __init__(self, 바퀴, 가격):\n",
    "        self.바퀴 = 바퀴\n",
    "        self.가격 = 가격\n",
    "\n",
    "\n",
    "class 자전차(차):\n",
    "    def __init__(self, 바퀴, 가격, 구동계):\n",
    "#         차.__init__(self,바퀴, 가격) # 동일한 표현\n",
    "        super().__init__(바퀴, 가격)  # super() \"차\" 클래스의 바퀴, 가격을 넘겨받음\n",
    "        self.구동계 = 구동계\n",
    "        \n",
    "car = 차(1,200)\n",
    "\n",
    "bicycle = 자전차(2,100,\"시마노\")\n",
    "print(bicycle.구동계)\n",
    "print(bicycle.바퀴)"
   ]
  },
  {
   "cell_type": "code",
   "execution_count": null,
   "id": "c437d1f0",
   "metadata": {},
   "outputs": [],
   "source": [
    "# 285 클래스 상속 -  다음 코드가 동작하도록 차 클래스를 상속받는 자동차 클래스를 정의하세요.\n",
    "\n",
    "class 차:\n",
    "    def __init__(self, 바퀴, 가격):\n",
    "        self.바퀴 = 바퀴\n",
    "        self.가격 = 가격\n",
    "\n",
    "\n",
    "class 자동차(차):\n",
    "    def __init__(self, 바퀴, 가격):\n",
    "        super().__init__(바퀴, 가격)\n",
    "\n",
    "    def 정보(self):\n",
    "        print(\"바퀴수 \", self.바퀴)\n",
    "        print(\"가격 \", self.가격)\n",
    "\n",
    "\n",
    "car = 자동차(4, 1000)\n",
    "car.정보()\n"
   ]
  },
  {
   "cell_type": "code",
   "execution_count": null,
   "id": "f4ac65d3",
   "metadata": {},
   "outputs": [],
   "source": [
    "# 286 부모 클래스 생성자 호출\n",
    "class 차:\n",
    "    def __init__(self, 바퀴, 가격):\n",
    "        self.바퀴 = 바퀴\n",
    "        self.가격 = 가격\n",
    "\n",
    "    def 정보(self):\n",
    "        print(\"바퀴수 \", self.바퀴)\n",
    "        print(\"가격 \", self.가격)\n",
    "\n",
    "class 자동차(차):\n",
    "    def __init__(self, 바퀴, 가격):\n",
    "        super().__init__(바퀴, 가격)\n",
    "\n",
    "class 자전차(차):\n",
    "    def __init__(self, 바퀴, 가격, 구동계):\n",
    "        super().__init__(바퀴, 가격)\n",
    "        self.구동계 = 구동계\n",
    "\n",
    "bicycle = 자전차(2, 100, \"시마노\")\n",
    "bicycle.정보()"
   ]
  },
  {
   "cell_type": "code",
   "execution_count": 6,
   "id": "4dd6932f",
   "metadata": {},
   "outputs": [
    {
     "name": "stdout",
     "output_type": "stream",
     "text": [
      "바퀴수  2\n",
      "가격  100\n",
      "구동계  시마노\n"
     ]
    }
   ],
   "source": [
    "# 287 부모 클래스 메서드 호출\n",
    "class 차:\n",
    "    def __init__(self, 바퀴, 가격):\n",
    "        self.바퀴 = 바퀴\n",
    "        self.가격 = 가격\n",
    "\n",
    "    def 정보(self):\n",
    "        print(\"바퀴수 \", self.바퀴)\n",
    "        print(\"가격 \", self.가격)\n",
    "\n",
    "class 자동차(차):\n",
    "    def __init__(self, 바퀴, 가격):\n",
    "        super().__init__(바퀴, 가격)\n",
    "\n",
    "class 자전차(차):\n",
    "    def __init__(self, 바퀴, 가격, 구동계):\n",
    "        super().__init__(바퀴, 가격)\n",
    "        self.구동계 = 구동계\n",
    "\n",
    "    def 정보(self):\n",
    "        super().정보()\n",
    "        print(\"구동계 \", self.구동계)\n",
    "\n",
    "bicycle = 자전차(2, 100, \"시마노\")\n",
    "bicycle.정보()"
   ]
  },
  {
   "cell_type": "code",
   "execution_count": 4,
   "id": "f5db9074",
   "metadata": {},
   "outputs": [
    {
     "name": "stdout",
     "output_type": "stream",
     "text": [
      "자식호출\n"
     ]
    }
   ],
   "source": [
    "# 288 메서드 오버라이딩\n",
    "class 부모:\n",
    "    def 호출(self):\n",
    "        print(\"부모호출\")\n",
    "\n",
    "class 자식(부모):\n",
    "    def 호출(self):\n",
    "        print(\"자식호출\")\n",
    "\n",
    "\n",
    "나 = 자식()\n",
    "나.호출()\n"
   ]
  },
  {
   "cell_type": "code",
   "execution_count": null,
   "id": "e509dcdc",
   "metadata": {},
   "outputs": [],
   "source": [
    "# 289 생성자\n",
    "class 부모:\n",
    "    def __init__(self):\n",
    "        print(\"부모생성\")\n",
    "\n",
    "class 자식(부모):\n",
    "    def __init__(self):\n",
    "        print(\"자식생성\")\n",
    "\n",
    "나 = 자식()\n"
   ]
  },
  {
   "cell_type": "code",
   "execution_count": 5,
   "id": "3b61d71f",
   "metadata": {},
   "outputs": [
    {
     "name": "stdout",
     "output_type": "stream",
     "text": [
      "자식생성\n",
      "부모생성\n"
     ]
    }
   ],
   "source": [
    "# 290 부모클래스 생성자 호출\n",
    "class 부모:\n",
    "    def __init__(self):\n",
    "        print(\"부모생성\")\n",
    "\n",
    "class 자식(부모):\n",
    "    def __init__(self):\n",
    "        print(\"자식생성\")\n",
    "        super().__init__()\n",
    "\n",
    "나 = 자식()"
   ]
  },
  {
   "cell_type": "markdown",
   "id": "c063876a",
   "metadata": {},
   "source": [
    "# 입출력과 예외처리(291 ~ 300)"
   ]
  },
  {
   "cell_type": "code",
   "execution_count": 9,
   "id": "032408ea",
   "metadata": {},
   "outputs": [],
   "source": [
    "# 291 파일 쓰기\n",
    "f = open(r\"C:\\Users\\tgkang\\Desktop\\매수종목1.txt\", mode=\"wt\", encoding=\"utf-8\")\n",
    "f.write(\"005930\\n\")\n",
    "f.write(\"005380\\n\")\n",
    "f.write(\"003542\\n\")\n",
    "f.close()"
   ]
  },
  {
   "cell_type": "code",
   "execution_count": 45,
   "id": "f21339e5",
   "metadata": {},
   "outputs": [],
   "source": [
    "# 292 파일 쓰기\n",
    "f = open(r\"C:\\Users\\tgkang\\Desktop\\매수종목2.txt\", mode=\"wt\", encoding=\"utf-8\")\n",
    "f.write(\"005930 삼성전자\\n\")\n",
    "f.write(\"005380 현대차\\n\")\n",
    "f.write(\"003542 NAVER\\n\")\n",
    "f.close()"
   ]
  },
  {
   "cell_type": "code",
   "execution_count": 12,
   "id": "5132e59e",
   "metadata": {},
   "outputs": [],
   "source": [
    "# 293 csv 파일 쓰기\n",
    "f = open(r\"C:\\Users\\tgkang\\Desktop\\매수종목3.csv\", mode=\"wt\", encoding=\"cp949\")\n",
    "f.write(\"종목명, 종목코드, PER\\n\")\n",
    "f.write(\"삼성전자, 005930, 15.79\\n\")\n",
    "f.write(\"NAVER, 003542, 55.82\\n\")\n",
    "f.close()"
   ]
  },
  {
   "cell_type": "code",
   "execution_count": 19,
   "id": "1c7cfa5c",
   "metadata": {},
   "outputs": [],
   "source": [
    "# 293 csv 파일 쓰기(방법2) - import csv 활용\n",
    "import csv\n",
    "f = open(r\"C:\\Users\\tgkang\\Desktop\\매수종목5.csv\", mode=\"wt\", encoding=\"cp949\", newline =\"\")\n",
    "# newline = 라인마다 띄어 쓰기 방지\n",
    "writer = csv.writer(f)\n",
    "writer.writerow([\"종목명\", \"종목코드\", \"PER\"])\n",
    "writer.writerow([\"삼성전자\", \"005930\", 15.79])\n",
    "writer.writerow([\"NAVER\", \"003542\", 55.82])\n",
    "f.close()"
   ]
  },
  {
   "cell_type": "code",
   "execution_count": 44,
   "id": "e7b98c36",
   "metadata": {},
   "outputs": [
    {
     "name": "stdout",
     "output_type": "stream",
     "text": [
      "['005930', '005380', '0035420']\n"
     ]
    }
   ],
   "source": [
    "# 294 파일읽기\n",
    "f = open(r\"C:\\Users\\tgkang\\Desktop\\매수종목1.txt\", encoding=\"utf-8\")\n",
    "lines = f. readlines() # 한줄한줄 읽기\n",
    "\n",
    "codes = []\n",
    "for line in lines:\n",
    "    code = line.strip()\n",
    "    codes.append(code)\n",
    "print(codes)\n",
    "f.close()"
   ]
  },
  {
   "cell_type": "code",
   "execution_count": 54,
   "id": "21b8fb11",
   "metadata": {},
   "outputs": [
    {
     "name": "stdout",
     "output_type": "stream",
     "text": [
      "{'005930': '삼성전자', '005380': '현대차', '003542': 'NAVER'}\n"
     ]
    }
   ],
   "source": [
    "# 295 파일읽기\n",
    "f = open(r\"C:\\Users\\tgkang\\Desktop\\매수종목2.txt\", encoding=\"utf-8\")\n",
    "lines = f.readlines()\n",
    "\n",
    "data = {}\n",
    "for line in lines:\n",
    "    line = line.strip()\n",
    "    k, v = line.split() # 두개의 변수로 받음\n",
    "    data[k] = v # 딕셔너리 키값, value값 지정\n",
    "print(data)\n",
    "f.close()"
   ]
  },
  {
   "cell_type": "code",
   "execution_count": 58,
   "id": "9df9c9af",
   "metadata": {},
   "outputs": [
    {
     "name": "stdout",
     "output_type": "stream",
     "text": [
      "10.31\n",
      "0\n",
      "8.0\n"
     ]
    }
   ],
   "source": [
    "# 296 예외처리\n",
    "\n",
    "per = [\"10.31\", \"\", \"8.00\"]\n",
    "\n",
    "for i in per:\n",
    "    try:\n",
    "        print(float(i))\n",
    "    except:\n",
    "        print(0)\n",
    "    "
   ]
  },
  {
   "cell_type": "code",
   "execution_count": 68,
   "id": "e43ed59b",
   "metadata": {},
   "outputs": [
    {
     "name": "stdout",
     "output_type": "stream",
     "text": [
      "0\n",
      "[10.31, 8.0]\n"
     ]
    }
   ],
   "source": [
    "# 297 예외처리 리스트에 저장\n",
    "per = [\"10.31\", \"\", \"8.00\"]\n",
    "\n",
    "f_data = []\n",
    "for i in per:\n",
    "    try:\n",
    "        f_data.append(float(i))\n",
    "    except:\n",
    "        i = \"\"\n",
    "print(f_data)    "
   ]
  },
  {
   "cell_type": "code",
   "execution_count": 95,
   "id": "3fc54ded",
   "metadata": {},
   "outputs": [
    {
     "name": "stdout",
     "output_type": "stream",
     "text": [
      "0으로 나누면 안되요\n",
      "[50.0, 25.0, 16.666666666666668]\n"
     ]
    }
   ],
   "source": [
    "# 298 특정 예외만 처리하기\n",
    "num1 = 50\n",
    "num2 = [1,2,0,3]\n",
    "num3 = []\n",
    "\n",
    "for _ in num2:\n",
    "    try:\n",
    "        num3.append(num1/_)\n",
    "#         print(num3)\n",
    "    except ZeroDivisionError:\n",
    "        print(\"0으로 나누면 안되요\")\n",
    "        #     e\n",
    "print(num3)"
   ]
  },
  {
   "cell_type": "code",
   "execution_count": 100,
   "id": "fba1514d",
   "metadata": {},
   "outputs": [
    {
     "name": "stdout",
     "output_type": "stream",
     "text": [
      "1\n",
      "2\n",
      "3\n",
      "list index out of range\n",
      "list index out of range\n"
     ]
    }
   ],
   "source": [
    "# 299 예외의 메세지 출력하기\n",
    "\n",
    "data = [1,2,3]\n",
    "for i in range(5):\n",
    "    try:\n",
    "        print(data[i])\n",
    "    except IndexError as e:\n",
    "        print(e) # index 에러가 발생한 부분은 따로 출력"
   ]
  },
  {
   "cell_type": "code",
   "execution_count": 101,
   "id": "186ca279",
   "metadata": {},
   "outputs": [
    {
     "name": "stdout",
     "output_type": "stream",
     "text": [
      "10.31\n",
      "clean data\n",
      "변환 완료\n",
      "0\n",
      "변환 완료\n",
      "8.0\n",
      "clean data\n",
      "변환 완료\n"
     ]
    }
   ],
   "source": [
    "# 300 try, except, else, finally 구조 사용해보기\n",
    "per = [ \"10.31\", \"\", \"8.00\"]\n",
    "\n",
    "for i in per:\n",
    "    try: # 실행코드\n",
    "        print(float(i))\n",
    "    except: # 예외 발생시 수행할 코드\n",
    "        print(0)\n",
    "    else: # 예외 발생 하지 않았을 때 수행할 코드\n",
    "        print(\"clean data\")\n",
    "    finally: # 예외 발생여부 없이 항상 수행할 코드\n",
    "        print(\"변환 완료\")\n",
    "        \n"
   ]
  },
  {
   "cell_type": "code",
   "execution_count": null,
   "id": "438de7af",
   "metadata": {},
   "outputs": [],
   "source": []
  }
 ],
 "metadata": {
  "kernelspec": {
   "display_name": "Python 3 (ipykernel)",
   "language": "python",
   "name": "python3"
  },
  "language_info": {
   "codemirror_mode": {
    "name": "ipython",
    "version": 3
   },
   "file_extension": ".py",
   "mimetype": "text/x-python",
   "name": "python",
   "nbconvert_exporter": "python",
   "pygments_lexer": "ipython3",
   "version": "3.9.7"
  },
  "toc": {
   "base_numbering": 1,
   "nav_menu": {},
   "number_sections": true,
   "sideBar": true,
   "skip_h1_title": false,
   "title_cell": "Table of Contents",
   "title_sidebar": "Contents",
   "toc_cell": false,
   "toc_position": {
    "height": "calc(100% - 180px)",
    "left": "10px",
    "top": "150px",
    "width": "227.628px"
   },
   "toc_section_display": true,
   "toc_window_display": false
  }
 },
 "nbformat": 4,
 "nbformat_minor": 5
}
