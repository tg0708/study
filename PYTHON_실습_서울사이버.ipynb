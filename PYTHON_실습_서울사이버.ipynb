{
 "cells": [
  {
   "cell_type": "markdown",
   "id": "71da12cf",
   "metadata": {},
   "source": [
    "# 09. 집합과 사전 자료형"
   ]
  },
  {
   "cell_type": "markdown",
   "id": "a92a7f6f",
   "metadata": {},
   "source": [
    "## 집합 생성"
   ]
  },
  {
   "cell_type": "code",
   "execution_count": 5,
   "id": "b9eac98a",
   "metadata": {
    "scrolled": true
   },
   "outputs": [
    {
     "data": {
      "text/plain": [
       "set"
      ]
     },
     "execution_count": 5,
     "metadata": {},
     "output_type": "execute_result"
    }
   ],
   "source": [
    "# 집합의 생성1\n",
    "set1 = set()\n",
    "type(set1)"
   ]
  },
  {
   "cell_type": "code",
   "execution_count": 3,
   "id": "2a429f3d",
   "metadata": {
    "scrolled": true
   },
   "outputs": [
    {
     "data": {
      "text/plain": [
       "set"
      ]
     },
     "execution_count": 3,
     "metadata": {},
     "output_type": "execute_result"
    }
   ],
   "source": [
    "# 집합의 생성2\n",
    "num = {1,2,3}\n",
    "type(num)"
   ]
  },
  {
   "cell_type": "markdown",
   "id": "43d1b2e9",
   "metadata": {},
   "source": [
    "## 원소 추가"
   ]
  },
  {
   "cell_type": "code",
   "execution_count": 9,
   "id": "62c454e0",
   "metadata": {},
   "outputs": [],
   "source": [
    "import numpy as np\n",
    "import random"
   ]
  },
  {
   "cell_type": "code",
   "execution_count": 17,
   "id": "86cbb774",
   "metadata": {},
   "outputs": [
    {
     "data": {
      "text/plain": [
       "{1, 2, 3, 4}"
      ]
     },
     "execution_count": 17,
     "metadata": {},
     "output_type": "execute_result"
    }
   ],
   "source": [
    "# 집합 원소의 추가(하나씩만 추가됨)\n",
    "num = {1,2,3}\n",
    "num.add(4)\n",
    "num"
   ]
  },
  {
   "cell_type": "markdown",
   "id": "5898019f",
   "metadata": {},
   "source": [
    "## 원소 제거"
   ]
  },
  {
   "cell_type": "code",
   "execution_count": 13,
   "id": "d627bdd1",
   "metadata": {},
   "outputs": [
    {
     "data": {
      "text/plain": [
       "{2, 3}"
      ]
     },
     "execution_count": 13,
     "metadata": {},
     "output_type": "execute_result"
    }
   ],
   "source": [
    "# 집합 원소의 제거(하나씩만 삭제됨)\n",
    "# 원소 없을 시 에러 발생(o)\n",
    "num = {1,2,3}\n",
    "num.remove(1)\n",
    "num"
   ]
  },
  {
   "cell_type": "code",
   "execution_count": 22,
   "id": "4672a767",
   "metadata": {},
   "outputs": [
    {
     "data": {
      "text/plain": [
       "{1, 2, 3}"
      ]
     },
     "execution_count": 22,
     "metadata": {},
     "output_type": "execute_result"
    }
   ],
   "source": [
    "# discard\n",
    "num = {1,2,3}\n",
    "num.discard(5)\n",
    "num"
   ]
  },
  {
   "cell_type": "code",
   "execution_count": 30,
   "id": "7787a625",
   "metadata": {},
   "outputs": [
    {
     "name": "stdout",
     "output_type": "stream",
     "text": [
      "{2, 3}\n",
      "1\n"
     ]
    }
   ],
   "source": [
    "# Pop\n",
    "num = {1,2,3}\n",
    "pop_item = num.pop()\n",
    "print(num)\n",
    "print(pop_item)"
   ]
  },
  {
   "cell_type": "code",
   "execution_count": 24,
   "id": "9978dbe7",
   "metadata": {},
   "outputs": [
    {
     "data": {
      "text/plain": [
       "set()"
      ]
     },
     "execution_count": 24,
     "metadata": {},
     "output_type": "execute_result"
    }
   ],
   "source": [
    "# Clear\n",
    "num = {1,2,3}\n",
    "num.clear()\n",
    "num"
   ]
  },
  {
   "cell_type": "markdown",
   "id": "1c76f807",
   "metadata": {},
   "source": [
    "## 집합 복사"
   ]
  },
  {
   "cell_type": "code",
   "execution_count": 23,
   "id": "25d5ef9b",
   "metadata": {},
   "outputs": [
    {
     "data": {
      "text/plain": [
       "{1, 2, 3}"
      ]
     },
     "execution_count": 23,
     "metadata": {},
     "output_type": "execute_result"
    }
   ],
   "source": [
    "num = {1,2,3}\n",
    "num2 = num.copy()\n",
    "num2"
   ]
  },
  {
   "cell_type": "markdown",
   "id": "65fbf9d6",
   "metadata": {},
   "source": [
    "## 집합의 포함관계"
   ]
  },
  {
   "cell_type": "code",
   "execution_count": 39,
   "id": "cb9331ea",
   "metadata": {},
   "outputs": [
    {
     "data": {
      "text/plain": [
       "True"
      ]
     },
     "execution_count": 39,
     "metadata": {},
     "output_type": "execute_result"
    }
   ],
   "source": [
    "union = {1,2,3,5,6}\n",
    "num = {1,2,3}\n",
    "num2 = {4,5,6}\n",
    "\n",
    "# 부분집합\n",
    "num.issubset(union)\n",
    "\n",
    "# 상위집합\n",
    "union.issuperset(num)\n"
   ]
  },
  {
   "cell_type": "markdown",
   "id": "17597514",
   "metadata": {},
   "source": [
    "## 집합의 연산"
   ]
  },
  {
   "cell_type": "code",
   "execution_count": 65,
   "id": "26eed0d7",
   "metadata": {},
   "outputs": [
    {
     "data": {
      "text/plain": [
       "{1, 2, 3, 4, 5, 6}"
      ]
     },
     "execution_count": 65,
     "metadata": {},
     "output_type": "execute_result"
    }
   ],
   "source": [
    "# 합집합\n",
    "num = {1,2,3}\n",
    "num2 = {4,5,6}\n",
    "num.union(num2)\n",
    "\n",
    "# 합집합2\n",
    "num | num2"
   ]
  },
  {
   "cell_type": "code",
   "execution_count": 47,
   "id": "49a53a9e",
   "metadata": {},
   "outputs": [
    {
     "data": {
      "text/plain": [
       "{1}"
      ]
     },
     "execution_count": 47,
     "metadata": {},
     "output_type": "execute_result"
    }
   ],
   "source": [
    "# 교집합\n",
    "num = {1,2,3}\n",
    "num2 = {1,5,6}\n",
    "num.intersection(num2)\n",
    "\n",
    "# 교집합2\n",
    "num & num2"
   ]
  },
  {
   "cell_type": "code",
   "execution_count": 54,
   "id": "65b6b99b",
   "metadata": {},
   "outputs": [
    {
     "data": {
      "text/plain": [
       "{2, 3}"
      ]
     },
     "execution_count": 54,
     "metadata": {},
     "output_type": "execute_result"
    }
   ],
   "source": [
    "# 여집합\n",
    "num = {1,2,3}\n",
    "num2 = {1,5,6}\n",
    "num.difference(num2)\n",
    "\n",
    "# 여집합2\n",
    "num - num2"
   ]
  },
  {
   "cell_type": "markdown",
   "id": "1316bf46",
   "metadata": {},
   "source": [
    "## 집합 메서드"
   ]
  },
  {
   "cell_type": "code",
   "execution_count": null,
   "id": "e6c32f78",
   "metadata": {},
   "outputs": [],
   "source": [
    "dir(set())"
   ]
  },
  {
   "cell_type": "markdown",
   "id": "e4422c2d",
   "metadata": {},
   "source": [
    "## 실습 예제1"
   ]
  },
  {
   "cell_type": "markdown",
   "id": "d0ae8e85",
   "metadata": {},
   "source": [
    "집합을 이용하여 1부터 100사이의 10개의 랜덤넘버 집합 2개를 생성하고, 두 집합의 합집합, 교집합, 차집합을 구하는 프로그램을 작성하시오."
   ]
  },
  {
   "cell_type": "code",
   "execution_count": 68,
   "id": "eca81c2e",
   "metadata": {},
   "outputs": [
    {
     "name": "stdout",
     "output_type": "stream",
     "text": [
      "set1의 난수 : {4, 72, 80, 84, 86, 24, 56, 88, 93, 94}\n",
      "set2의 난수 : {1, 2, 35, 42, 45, 15, 17, 53, 56, 92}\n",
      "합집합 : {1, 2, 4, 72, 15, 80, 17, 84, 86, 24, 88, 92, 93, 94, 35, 42, 45, 53, 56}\n",
      "차집합 : {4, 72, 80, 84, 86, 24, 88, 93, 94}\n",
      "교집합 : {56}\n"
     ]
    }
   ],
   "source": [
    "import random\n",
    "\n",
    "set1 = set()\n",
    "set2 = set()\n",
    "\n",
    "while True:\n",
    "    if len(set1) < 10:\n",
    "        set1.add(random.randint(1,100)) # set.add로 추가한 숫자는 문자로 인식됨\n",
    "    if len(set2) < 10:\n",
    "        set2.add(random.randint(1,100))\n",
    "    if len(set1) and len(set2) == 10:\n",
    "                 break\n",
    "print(\"set1의 난수 : {}\".format(set1))\n",
    "print(\"set2의 난수 : {}\".format(set2))\n",
    "print(\"합집합 : {}\". format(set1 | set2))\n",
    "print(\"차집합 : {}\". format(set1 - set2))\n",
    "print(\"교집합 : {}\". format(set1 & set2))"
   ]
  },
  {
   "cell_type": "markdown",
   "id": "6b6dfd50",
   "metadata": {},
   "source": [
    "## 실습 예제2"
   ]
  },
  {
   "cell_type": "markdown",
   "id": "8445d717",
   "metadata": {},
   "source": [
    "중복을 허용하지 않는 집합을 이용하여 로또 넘버(1~45 사이의 정수) 6개를 오름차순으로 정렬하여 출력하는 프로그램을 작성하시오.(난수를 사용하여야함)"
   ]
  },
  {
   "cell_type": "code",
   "execution_count": 80,
   "id": "681b0014",
   "metadata": {},
   "outputs": [
    {
     "name": "stdout",
     "output_type": "stream",
     "text": [
      "로또 넘버 : [12, 32, 33, 42, 44, 45]\n",
      "중복횟수 : 0\n"
     ]
    }
   ],
   "source": [
    "# 풀이1\n",
    "import random\n",
    "\n",
    "num = set()\n",
    "num2 = set()\n",
    "cnt = 0\n",
    "while True:\n",
    "    if len(num) == 6:\n",
    "        break\n",
    "    else:\n",
    "        num2 = random.randint(1,45)\n",
    "        if num2 in num: # in 사용\n",
    "            cnt += 1\n",
    "        num.add(num2)\n",
    "       \n",
    "print(\"로또 넘버 : {}\".format(sorted(num)))\n",
    "print(\"중복횟수 : {}\".format(cnt)) "
   ]
  },
  {
   "cell_type": "code",
   "execution_count": 81,
   "id": "ee79a8f5",
   "metadata": {},
   "outputs": [
    {
     "name": "stdout",
     "output_type": "stream",
     "text": [
      "이번주 로또 넘버:  [18, 19, 23, 25, 26, 30]\n",
      "중복된 숫자 :  1\n"
     ]
    }
   ],
   "source": [
    "# 풀이2\n",
    "\n",
    "import random\n",
    "lotto = set()\n",
    "i = 0\n",
    "while True:\n",
    "    lotto.add(random.randint(1,45))\n",
    "    i += 1\n",
    "    if len(lotto) == 6:\n",
    "        break\n",
    "        \n",
    "print(\"이번주 로또 넘버: \", sorted(lotto))\n",
    "print(\"중복된 숫자 : \", i-6)"
   ]
  },
  {
   "cell_type": "markdown",
   "id": "f40dc898",
   "metadata": {},
   "source": [
    "## 사전 생성"
   ]
  },
  {
   "cell_type": "code",
   "execution_count": 87,
   "id": "9857cb4d",
   "metadata": {},
   "outputs": [
    {
     "name": "stdout",
     "output_type": "stream",
     "text": [
      "{'a': 1, 'b': 2}\n",
      "{'f': 1, 'd': 6}\n"
     ]
    }
   ],
   "source": [
    "# 생성\n",
    "dict_info = {'a':1,'b':2}\n",
    "dict_info2 = {'f':1,'d':6}\n",
    "print(dict_info)\n",
    "print(dict_info2)"
   ]
  },
  {
   "cell_type": "markdown",
   "id": "ed0be284",
   "metadata": {},
   "source": [
    "## key, value값 추가"
   ]
  },
  {
   "cell_type": "code",
   "execution_count": 96,
   "id": "fc9ff1c0",
   "metadata": {},
   "outputs": [
    {
     "data": {
      "text/plain": [
       "{'a': 1, 'b': 2, 'c': 5}"
      ]
     },
     "execution_count": 96,
     "metadata": {},
     "output_type": "execute_result"
    }
   ],
   "source": [
    "# key, value추가1\n",
    "dict_info = {'a':1,'b':2}\n",
    "dict_info.setdefault('c', 5)\n",
    "dict_info"
   ]
  },
  {
   "cell_type": "code",
   "execution_count": 109,
   "id": "5a1b69e1",
   "metadata": {},
   "outputs": [
    {
     "data": {
      "text/plain": [
       "{'a': 1, 'b': 2, 'c': 5}"
      ]
     },
     "execution_count": 109,
     "metadata": {},
     "output_type": "execute_result"
    }
   ],
   "source": [
    "# key, value값 추가2\n",
    "dict_info = {'a':1,'b':2}\n",
    "dict_info['c'] = 5\n",
    "dict_info"
   ]
  },
  {
   "cell_type": "markdown",
   "id": "b1ae6a23",
   "metadata": {},
   "source": [
    "## 사전 결합"
   ]
  },
  {
   "cell_type": "code",
   "execution_count": 114,
   "id": "c8b7c334",
   "metadata": {},
   "outputs": [
    {
     "data": {
      "text/plain": [
       "{'a': 1, 'b': 2, 'f': 1, 'd': 6}"
      ]
     },
     "execution_count": 114,
     "metadata": {},
     "output_type": "execute_result"
    }
   ],
   "source": [
    "# 사전 결합1(update)\n",
    "dict_info = {'a':1,'b':2}\n",
    "dict_info2 = {'f':1,'d':6}\n",
    "\n",
    "dict_info.update(dict_info2)\n",
    "dict_info"
   ]
  },
  {
   "cell_type": "code",
   "execution_count": 113,
   "id": "453277e8",
   "metadata": {},
   "outputs": [
    {
     "data": {
      "text/plain": [
       "{'a': 1, 'b': 2, 'f': 1, 'd': 6}"
      ]
     },
     "execution_count": 113,
     "metadata": {},
     "output_type": "execute_result"
    }
   ],
   "source": [
    "# 사전 결합2(|)\n",
    "dict_info = {'a':1,'b':2}\n",
    "dict_info2 = {'f':1,'d':6}\n",
    "\n",
    "dict_info | dict_info2"
   ]
  },
  {
   "cell_type": "markdown",
   "id": "1caae407",
   "metadata": {},
   "source": [
    "## 사전 조회"
   ]
  },
  {
   "cell_type": "code",
   "execution_count": 117,
   "id": "9e9a0409",
   "metadata": {},
   "outputs": [
    {
     "data": {
      "text/plain": [
       "dict_keys(['a', 'b'])"
      ]
     },
     "execution_count": 117,
     "metadata": {},
     "output_type": "execute_result"
    }
   ],
   "source": [
    "# key 값 조회\n",
    "dict_info = {'a':1,'b':2}\n",
    "dict_info.keys()"
   ]
  },
  {
   "cell_type": "code",
   "execution_count": 118,
   "id": "0bd7d398",
   "metadata": {},
   "outputs": [
    {
     "data": {
      "text/plain": [
       "dict_values([1, 2])"
      ]
     },
     "execution_count": 118,
     "metadata": {},
     "output_type": "execute_result"
    }
   ],
   "source": [
    "# value 값 조회\n",
    "dict_info = {'a':1,'b':2}\n",
    "dict_info.values()"
   ]
  },
  {
   "cell_type": "code",
   "execution_count": 120,
   "id": "bf2693ef",
   "metadata": {},
   "outputs": [
    {
     "data": {
      "text/plain": [
       "dict_items([('a', 1), ('b', 2)])"
      ]
     },
     "execution_count": 120,
     "metadata": {},
     "output_type": "execute_result"
    }
   ],
   "source": [
    "# key, value 값 조회\n",
    "dict_info = {'a':1,'b':2}\n",
    "dict_info.items()"
   ]
  },
  {
   "cell_type": "markdown",
   "id": "77903ad3",
   "metadata": {},
   "source": [
    "## 사전 제거"
   ]
  },
  {
   "cell_type": "code",
   "execution_count": 89,
   "id": "fc1e22be",
   "metadata": {
    "collapsed": true
   },
   "outputs": [
    {
     "ename": "NameError",
     "evalue": "name 'dict_info' is not defined",
     "output_type": "error",
     "traceback": [
      "\u001b[1;31m---------------------------------------------------------------------------\u001b[0m",
      "\u001b[1;31mNameError\u001b[0m                                 Traceback (most recent call last)",
      "\u001b[1;32mC:\\Users\\Public\\Documents\\ESTsoft\\CreatorTemp/ipykernel_5288/4082318724.py\u001b[0m in \u001b[0;36m<module>\u001b[1;34m\u001b[0m\n\u001b[1;32m----> 1\u001b[1;33m \u001b[1;32mdel\u001b[0m \u001b[0mdict_info\u001b[0m\u001b[1;33m\u001b[0m\u001b[1;33m\u001b[0m\u001b[0m\n\u001b[0m\u001b[0;32m      2\u001b[0m \u001b[0mdict_info\u001b[0m\u001b[1;33m\u001b[0m\u001b[1;33m\u001b[0m\u001b[0m\n",
      "\u001b[1;31mNameError\u001b[0m: name 'dict_info' is not defined"
     ]
    }
   ],
   "source": [
    "# 제거\n",
    "del dict_info\n",
    "dict_info"
   ]
  },
  {
   "cell_type": "code",
   "execution_count": 108,
   "id": "f2390737",
   "metadata": {},
   "outputs": [
    {
     "data": {
      "text/plain": [
       "('a', 1)"
      ]
     },
     "execution_count": 108,
     "metadata": {},
     "output_type": "execute_result"
    }
   ],
   "source": [
    "# pop()\n",
    "dict_info.popitem()"
   ]
  },
  {
   "cell_type": "markdown",
   "id": "78095d1e",
   "metadata": {},
   "source": [
    "## 실습 예제1"
   ]
  },
  {
   "cell_type": "markdown",
   "id": "6c7fb9b7",
   "metadata": {},
   "source": [
    "5명의 학생의 학번과 전화번호를 사전 자료구조에 저장하고, 학번을 입력 받아 해당 학생의 전화번호를 출력하는 프로그램을 만들어 보자"
   ]
  },
  {
   "cell_type": "markdown",
   "id": "e682dc76",
   "metadata": {},
   "source": [
    "### 풀이"
   ]
  },
  {
   "cell_type": "code",
   "execution_count": 123,
   "id": "09b5b090",
   "metadata": {
    "collapsed": true
   },
   "outputs": [
    {
     "name": "stdout",
     "output_type": "stream",
     "text": [
      "1번째 학생 학번 입력 : 201113091\n",
      "1번째 학생 전화번호 : 01079252054\n",
      "2번째 학생 학번 입력 : 1\n",
      "2번째 학생 전화번호 : 1\n",
      "3번째 학생 학번 입력 : 1\n",
      "3번째 학생 전화번호 : 1\n",
      "4번째 학생 학번 입력 : 1\n",
      "4번째 학생 전화번호 : 1\n",
      "5번째 학생 학번 입력 : 1\n",
      "5번째 학생 전화번호 : 1\n",
      "학생 전화번호부가 완성되었습니다.\n",
      "검색을 원하는 학생의 학번 입력 : 201113091\n",
      "입력한 학생의 전화번호 : 01079252054\n"
     ]
    }
   ],
   "source": [
    "phone = {}\n",
    "for i in range(5):\n",
    "    id = (int(input(str(i+1) + \"번째 학생 학번 입력 : \")))\n",
    "    pnum = (input(str(i+1)+ \"번째 학생 전화번호 : \"))\n",
    "    phone[id] = pnum\n",
    "else:\n",
    "    print(\"학생 전화번호부가 완성되었습니다.\")\n",
    "id = int(input(\"검색을 원하는 학생의 학번 입력 : \"))\n",
    "\n",
    "if id in phone:\n",
    "    print(\"입력한 학생의 전화번호 : \" + phone[id])\n",
    "else:\n",
    "    print(\"입력한 학생의 전화번호가 없습니다.\")"
   ]
  },
  {
   "cell_type": "code",
   "execution_count": 124,
   "id": "2ac46c6a",
   "metadata": {},
   "outputs": [
    {
     "name": "stdout",
     "output_type": "stream",
     "text": [
      "1번째 학생 학번 입력 : 201113091\n",
      "1번째 학생 전화번호 : 01079252054\n",
      "2번째 학생 학번 입력 : ㅇ\n",
      "2번째 학생 전화번호 : ㅇ\n",
      "3번째 학생 학번 입력 : ㅇ\n",
      "3번째 학생 전화번호 : ㅇ\n",
      "4번째 학생 학번 입력 : ㅇ\n",
      "4번째 학생 전화번호 : ㅇ\n",
      "5번째 학생 학번 입력 : ㅇ\n",
      "5번째 학생 전화번호 : ㅇ\n",
      "학생 전화번호부가 완성되었습니다.\n",
      "검색을 원하는 학생의 학번 입력 : 201113091\n",
      "입력한 학생의 전화번호 : 01079252054\n"
     ]
    }
   ],
   "source": [
    "# 굳이 int 쓸필요 없어서 아래와 같이 다시 구성\n",
    "phone = {}\n",
    "for i in range(5):\n",
    "    id = input(str(i+1) + \"번째 학생 학번 입력 : \")\n",
    "    pnum = (input(str(i+1)+ \"번째 학생 전화번호 : \"))\n",
    "    phone[id] = pnum\n",
    "else:\n",
    "    print(\"학생 전화번호부가 완성되었습니다.\")\n",
    "id = input(\"검색을 원하는 학생의 학번 입력 : \")\n",
    "\n",
    "if id in phone:\n",
    "    print(\"입력한 학생의 전화번호 : \" + phone[id])\n",
    "else:\n",
    "    print(\"입력한 학생의 전화번호가 없습니다.\")"
   ]
  },
  {
   "cell_type": "markdown",
   "id": "56097a98",
   "metadata": {},
   "source": [
    "## 과제"
   ]
  },
  {
   "cell_type": "markdown",
   "id": "929814c2",
   "metadata": {},
   "source": [
    "1 ~ 100까지 사이의 정수 난수 10개를 발생시켜 중복을 허용하지 않은 집합에 저장하고, 집합에서 가장 큰 수와 가장 작은 수를 구하는 프로그램을 작성하시오.(단 max와 min 함수는 사용하지 말 것)"
   ]
  },
  {
   "cell_type": "code",
   "execution_count": 127,
   "id": "3a2eaf73",
   "metadata": {},
   "outputs": [
    {
     "name": "stdout",
     "output_type": "stream",
     "text": [
      "{41, 42, 14, 48, 82, 19, 55, 91, 62, 95}\n",
      "95\n",
      "14\n"
     ]
    }
   ],
   "source": [
    "import random \n",
    "\n",
    "array = set() \n",
    "temp_num = 0 \n",
    "max_num = 0 \n",
    "min_num = 100\n",
    "            \n",
    "while True: \n",
    "    temp_num = random.randint(1, 100) \n",
    "    array.add(temp_num) \n",
    "    if temp_num >= max_num: \n",
    "        max_num = temp_num  \n",
    "        \n",
    "    if temp_num <= min_num: \n",
    "        min_num = temp_num  \n",
    "    \n",
    "    if len(array) == 10: \n",
    "        break          \n",
    "\n",
    "print(array)            \n",
    "print(max_num)         \n",
    "print(min_num)         "
   ]
  },
  {
   "cell_type": "markdown",
   "id": "15253898",
   "metadata": {},
   "source": [
    "# 10. 파일의 입출력"
   ]
  },
  {
   "cell_type": "markdown",
   "id": "2abb22c3",
   "metadata": {},
   "source": [
    "## read & write"
   ]
  },
  {
   "cell_type": "code",
   "execution_count": 22,
   "id": "29c50b39",
   "metadata": {},
   "outputs": [
    {
     "name": "stdout",
     "output_type": "stream",
     "text": [
      "aaaa\n",
      "bbbb\n",
      "cccc\n",
      "\n"
     ]
    }
   ],
   "source": [
    "# 파일 읽기\n",
    "f = open(r'C:\\Users\\tgkang\\Desktop\\memo.txt', 'r')\n",
    "print(f.read())\n",
    "f.close()"
   ]
  },
  {
   "cell_type": "code",
   "execution_count": null,
   "id": "c02f3d1d",
   "metadata": {},
   "outputs": [],
   "source": [
    "# 파일 쓰기 - w\n",
    "f = open(r'C:\\Users\\tgkang\\Desktop\\memo.txt', 'w')\n",
    "f.write('피카츄 이브이가 곱게 포장 되있나~')\n",
    "f.close()"
   ]
  },
  {
   "cell_type": "code",
   "execution_count": 21,
   "id": "c974eaeb",
   "metadata": {},
   "outputs": [],
   "source": [
    "# 파일쓰기2 - 한줄한줄 쓰기\n",
    "f = open(r'C:\\Users\\tgkang\\Desktop\\memo.txt', 'w')\n",
    "print('aaaa', file=f)\n",
    "print('bbbb', file=f)\n",
    "print('cccc', file=f)\n",
    "f.close() "
   ]
  },
  {
   "cell_type": "code",
   "execution_count": null,
   "id": "3124d799",
   "metadata": {},
   "outputs": [],
   "source": [
    "# 파일 쓰기 - a (기존 내용에 추가)\n",
    "f = open(r'C:\\Users\\tgkang\\Desktop\\memo.txt', 'a')\n",
    "f.write('피카츄 이브이가 곱게 포장 되있나~')\n",
    "f.close()"
   ]
  },
  {
   "cell_type": "code",
   "execution_count": null,
   "id": "c25565d8",
   "metadata": {},
   "outputs": [],
   "source": [
    "# 파일 쓰기 - 반복문 \n",
    "f = open(r'C:\\Users\\tgkang\\Desktop\\테스트파일.txt', 'w')\n",
    "for i in range(1, 11):\n",
    "    f.write(\"%d번째 줄입니다.\\n\"%i)\n",
    "f.close()"
   ]
  },
  {
   "cell_type": "markdown",
   "id": "0ed33da3",
   "metadata": {},
   "source": [
    "## with open"
   ]
  },
  {
   "cell_type": "code",
   "execution_count": null,
   "id": "a6352b24",
   "metadata": {},
   "outputs": [],
   "source": [
    "# with open 읽기 - 변수 txts에 담아야만 출력가능\n",
    "source = r'C:\\Users\\tgkang\\Desktop\\테스트파일.csv'\n",
    "with open(source, 'r') as f:\n",
    "    txts = f.read()\n",
    "    print(txts)"
   ]
  },
  {
   "cell_type": "code",
   "execution_count": null,
   "id": "542bc256",
   "metadata": {},
   "outputs": [],
   "source": [
    "# with open 쓰기 - 변수 txts에 담아야만 출력가능\n",
    "target = r'C:\\Users\\tgkang\\Desktop\\테스트파일.csv'\n",
    "with open(target, 'w') as f:\n",
    "    f.write('피카츄 이브이가 곱게 포장 되있나?')\n",
    "    print(target + \"파일이 생성 되었습니다.\")\n"
   ]
  },
  {
   "cell_type": "markdown",
   "id": "c1fe8596",
   "metadata": {},
   "source": [
    "## read(int)"
   ]
  },
  {
   "cell_type": "code",
   "execution_count": 132,
   "id": "7d571fde",
   "metadata": {},
   "outputs": [
    {
     "name": "stdout",
     "output_type": "stream",
     "text": [
      "1번째 줄입니다.\n",
      "2번째 줄입니다.\n",
      "3번째 줄입니다.\n",
      "1번째 줄입니다.\n",
      "\n"
     ]
    }
   ],
   "source": [
    "# 파일 읽기 - read(int n) 글자 수 만큼 읽어 오기\n",
    "f = open(r'C:\\Users\\tgkang\\Desktop\\테스트파일.txt', 'r')\n",
    "print(f.read(10), end='')\n",
    "print(f.read(10), end='')\n",
    "print(f.read(10), end='')\n",
    "f.seek(0) # 다시 첫번째로 이동됨\n",
    "print(f.read(10))\n",
    "f.close()"
   ]
  },
  {
   "cell_type": "markdown",
   "id": "0df6fe5f",
   "metadata": {},
   "source": [
    "## readlines & writelines"
   ]
  },
  {
   "cell_type": "code",
   "execution_count": 18,
   "id": "2b408a0c",
   "metadata": {},
   "outputs": [
    {
     "name": "stdout",
     "output_type": "stream",
     "text": [
      "<class 'list'>\n",
      "['경기도\\n', '서울\\n', '전라도\\n', '경기도\\n', '서울\\n', '전라도\\n']\n"
     ]
    }
   ],
   "source": [
    "# Readlines - 리스트나 튜플과 같은 자료형을 파일로 저장\n",
    "with open(r'C:\\Users\\tgkang\\Desktop\\테스트파일.txt', 'r') as f:\n",
    "    textLists = f.readlines()\n",
    "    print(type(textLists))\n",
    "    print(textLists)"
   ]
  },
  {
   "cell_type": "code",
   "execution_count": 15,
   "id": "0ba25385",
   "metadata": {},
   "outputs": [
    {
     "name": "stdout",
     "output_type": "stream",
     "text": [
      "경기도\n",
      "서울\n",
      "전라도\n",
      "경기도\n",
      "서울\n",
      "전라도\n"
     ]
    }
   ],
   "source": [
    "# Readlines - for문\n",
    "f = open(r'C:\\Users\\tgkang\\Desktop\\테스트파일.txt', 'r')\n",
    "for line in f:\n",
    "    print(line, end='')\n",
    "f.close()"
   ]
  },
  {
   "cell_type": "code",
   "execution_count": 20,
   "id": "4f06d8c4",
   "metadata": {},
   "outputs": [
    {
     "name": "stdout",
     "output_type": "stream",
     "text": [
      "경기도\n",
      "서울\n",
      "전라도\n",
      "경기도\n",
      "서울\n",
      "전라도\n"
     ]
    }
   ],
   "source": [
    "# Readlines - for문2\n",
    "with open(r'C:\\Users\\tgkang\\Desktop\\테스트파일.txt', 'r') as f:\n",
    "    textLists = f.readlines()\n",
    "    for line in textLists:\n",
    "        print(line,end='')"
   ]
  },
  {
   "cell_type": "code",
   "execution_count": 43,
   "id": "3f97c861",
   "metadata": {},
   "outputs": [
    {
     "name": "stdout",
     "output_type": "stream",
     "text": [
      "경기도\n",
      "서울\n",
      "전라도\n"
     ]
    }
   ],
   "source": [
    "# Readlines - while 문\n",
    "with open(r'C:\\Users\\tgkang\\Desktop\\테스트파일.txt', 'r') as f:\n",
    "    while True:\n",
    "        line = f.readline()\n",
    "        print(line, end='')\n",
    "        if line == '':\n",
    "            break"
   ]
  },
  {
   "cell_type": "code",
   "execution_count": 42,
   "id": "62c5fdee",
   "metadata": {},
   "outputs": [
    {
     "name": "stdout",
     "output_type": "stream",
     "text": [
      "None\n"
     ]
    }
   ],
   "source": [
    "# Readlines - 리스트나 튜플과 같은 자료형을 파일로 저장\n",
    "# wirtelines는 문자열만 가능\n",
    "\n",
    "L1 = ['경기도\\n', '서울\\n', '전라도\\n']\n",
    "L2 = [1,2,3,4,5]\n",
    "\n",
    "f = open(r'C:\\Users\\tgkang\\Desktop\\테스트파일.txt', 'w')\n",
    "print(f.writelines(L1))\n",
    "f.close()"
   ]
  },
  {
   "cell_type": "markdown",
   "id": "793acd66",
   "metadata": {},
   "source": [
    "## 실습 예제1"
   ]
  },
  {
   "cell_type": "markdown",
   "id": "402e88ba",
   "metadata": {},
   "source": [
    "기존 파일을 복사하는 프로그램을 작성하시오.<p>\n",
    "사용자로부터 기존 파일의 이름과 새로운 파일의 이름을 입력받아 기존 파일의 내용을 새로운 파일로 복사하는 프로그램을 작성하시오.<p>\n",
    "기존 파일은 LineTest.txt를 사용하시오."
   ]
  },
  {
   "cell_type": "code",
   "execution_count": 28,
   "id": "bc2d89e9",
   "metadata": {},
   "outputs": [
    {
     "name": "stdout",
     "output_type": "stream",
     "text": [
      "source 파일 입력:C:\\Users\\tgkang\\Desktop\\테스트파일.txt\n",
      "target 파일 입력:C:\\Users\\tgkang\\Desktop\\target.txt\n",
      "C:\\Users\\tgkang\\Desktop\\target.txt파일이 생성되었습니다.\n"
     ]
    }
   ],
   "source": [
    "source = input(\"source 파일 입력:\")\n",
    "target = input(\"target 파일 입력:\")\n",
    "\n",
    "with open(source, 'r') as f:\n",
    "    txts = f.read()\n",
    "    \n",
    "with open(target, 'w') as f:\n",
    "    f.write(txts)\n",
    "    print(target + \"파일이 생성되었습니다.\")"
   ]
  },
  {
   "cell_type": "markdown",
   "id": "7a92f40e",
   "metadata": {},
   "source": [
    "## 실습 예제2"
   ]
  },
  {
   "cell_type": "markdown",
   "id": "ab9fae14",
   "metadata": {},
   "source": [
    "다음과 같이 동작하는 2개의 프로그램을 작성하시오.<p>\n",
    "사용자로부터 5명의 학생이름과 성적을 입력받아 stu.txt 파일에 저장하는 프로그램과 stu.txt 파일을 읽어 들여 각 학생의 평균 성적으로 계산하여 출력하는 프로그램을 작성하시오."
   ]
  },
  {
   "cell_type": "code",
   "execution_count": 60,
   "id": "27497788",
   "metadata": {},
   "outputs": [
    {
     "name": "stdout",
     "output_type": "stream",
     "text": [
      "1.성적을 입력하시오 : 100\n",
      "2.성적을 입력하시오 : 90\n",
      "3.성적을 입력하시오 : 85\n",
      "4.성적을 입력하시오 : 75\n",
      "5.성적을 입력하시오 : 80\n",
      "평균 : 86.0\n"
     ]
    }
   ],
   "source": [
    "# 풀이1\n",
    "with open(r'C:\\Users\\tgkang\\Desktop\\memo.txt', 'w') as f:\n",
    "    for i in range(5):\n",
    "        score_file = input(f'{i+1}.성적을 입력하시오 : ')\n",
    "        f.writelines(f'{score_file}\\n')\n",
    "    \n",
    "sum_line = 0\n",
    "with open(r'C:\\Users\\tgkang\\Desktop\\memo.txt', 'r') as f:\n",
    "    for line in f.readlines():\n",
    "        sum_line += int(line)\n",
    "    print(\"평균 :\",sum_line/5)\n",
    "    "
   ]
  },
  {
   "cell_type": "code",
   "execution_count": 68,
   "id": "835330ff",
   "metadata": {},
   "outputs": [
    {
     "name": "stdout",
     "output_type": "stream",
     "text": [
      "1번째 학생 이름과 3과목 성적입력(예:홍길동 80 90 70) : 강태규 100 80 90\n",
      "2번째 학생 이름과 3과목 성적입력(예:홍길동 80 90 70) : 박재호 75 60 40\n",
      "3번째 학생 이름과 3과목 성적입력(예:홍길동 80 90 70) : 강현선 80 95 80\n",
      "4번째 학생 이름과 3과목 성적입력(예:홍길동 80 90 70) : 박종찬 40 45 30\n",
      "5번째 학생 이름과 3과목 성적입력(예:홍길동 80 90 70) : 김영재 80 75 90\n",
      "강태규의 평균 성적은 : 90.0\n",
      "박재호의 평균 성적은 : 58.333333333333336\n",
      "강현선의 평균 성적은 : 85.0\n",
      "박종찬의 평균 성적은 : 38.333333333333336\n",
      "김영재의 평균 성적은 : 81.66666666666667\n"
     ]
    }
   ],
   "source": [
    "# 교수님 풀이\n",
    "f = open(r'C:\\Users\\tgkang\\Desktop\\stu.txt', 'w')\n",
    "i = 1\n",
    "while i <= 5:\n",
    "    score = input(\"%d번째 학생 이름과 3과목 성적입력(예:홍길동 80 90 70) : \"%i)\n",
    "    f.write(score+\"\\n\")\n",
    "    i += 1\n",
    "f.close()\n",
    "\n",
    "f = open(r'C:\\Users\\tgkang\\Desktop\\stu.txt', 'r')\n",
    "while True:\n",
    "    score = f.readline()\n",
    "    if score =='':\n",
    "        break\n",
    "    scorelist = score.split()\n",
    "    name = scorelist[0]\n",
    "    sum_score = 0\n",
    "    for i in range(1,4):\n",
    "        sum_score += int(scorelist[i])\n",
    "    print(name + \"의 평균 성적은 :\", sum_score/3)\n",
    "f.close()"
   ]
  },
  {
   "cell_type": "markdown",
   "id": "594643ed",
   "metadata": {},
   "source": [
    "## 실습 예제3"
   ]
  },
  {
   "cell_type": "markdown",
   "id": "5af497f3",
   "metadata": {},
   "source": [
    "실습 예제2에서 생성된 stu.txt 파일을 읽어들여 각 학생의 평균 성적을 계산하여 출력하는 프로그램을 readlines()메소드를 사용하여 작성하시오."
   ]
  },
  {
   "cell_type": "code",
   "execution_count": 109,
   "id": "fabeae6b",
   "metadata": {},
   "outputs": [
    {
     "name": "stdout",
     "output_type": "stream",
     "text": [
      "강태규 의 평균 : 90.0\n",
      "박재호 의 평균 : 58.333333333333336\n",
      "강현선 의 평균 : 85.0\n",
      "박종찬 의 평균 : 38.333333333333336\n",
      "김영재 의 평균 : 81.66666666666667\n"
     ]
    }
   ],
   "source": [
    "# 풀이1 \n",
    "f = open(r'C:\\Users\\tgkang\\Desktop\\stu.txt', 'r')\n",
    "stu_list = f.readlines()\n",
    "for stu in stu_list:\n",
    "    name, score1, score2, score3 = stu.split() # split() 괄호에 아무것도 넣지 않으면 탭, 스페이스, 줄바꿈 등으로 나눠줌\n",
    "    print(name,\"의 평균 :\", (int(score1) + int(score2) + int(score3)) /3)\n",
    "    \n",
    "f.close()"
   ]
  },
  {
   "cell_type": "code",
   "execution_count": 113,
   "id": "a6ff5c78",
   "metadata": {},
   "outputs": [
    {
     "name": "stdout",
     "output_type": "stream",
     "text": [
      "강태규의 평균 성적은: 90.0\n",
      "박재호의 평균 성적은: 58.333333333333336\n",
      "강현선의 평균 성적은: 85.0\n",
      "박종찬의 평균 성적은: 38.333333333333336\n",
      "김영재의 평균 성적은: 81.66666666666667\n"
     ]
    }
   ],
   "source": [
    "# 교수님 풀이\n",
    "f = open(r'C:\\Users\\tgkang\\Desktop\\stu.txt', 'r')\n",
    "stu_list = f.readlines()\n",
    "for stu in stu_list:\n",
    "    stu1 =stu.split()\n",
    "    name = stu1[0]\n",
    "    sum_score = 0\n",
    "    for i in range(1,4):\n",
    "        sum_score += int(stu1[i])\n",
    "    print(name+\"의 평균 성적은:\", sum_score/3)\n",
    "    \n",
    "f.close()"
   ]
  },
  {
   "cell_type": "markdown",
   "id": "8c72d235",
   "metadata": {},
   "source": [
    "## 실습 예제4"
   ]
  },
  {
   "cell_type": "markdown",
   "id": "77c61277",
   "metadata": {},
   "source": [
    "사용자로부터 여러 문장을 입력받아 out.txt 파일에 저장하는 프로그램을 작성하시오.<p>\n",
    "더 이상 입력이 없을 경우, 엔터키를 쳐서 종료하는 프로그램의 실행결과를 참조하여 작성하시오."
   ]
  },
  {
   "cell_type": "code",
   "execution_count": 137,
   "id": "6e039b47",
   "metadata": {},
   "outputs": [
    {
     "name": "stdout",
     "output_type": "stream",
     "text": [
      "저장할 문장입력(끝 : 엔터키) : 데이터과학\n",
      "저장할 문장입력(끝 : 엔터키) : 데이터베이스\n",
      "저장할 문장입력(끝 : 엔터키) : 기초공학\n",
      "저장할 문장입력(끝 : 엔터키) : \n",
      "입력될 리스트 : ['데이터과학\\n', '데이터베이스\\n', '기초공학\\n']\n",
      "C:\\Users\\tgkang\\Desktop\\out.txt파일이 생성 되었습니다.\n"
     ]
    }
   ],
   "source": [
    "# 풀이1\n",
    "input_list = []\n",
    "while True :\n",
    "    input_text = input(\"저장할 문장입력(끝 : 엔터키) : \")\n",
    "    if input_text == '':\n",
    "        break\n",
    "    input_list.append(input_text+'\\n')\n",
    "\n",
    "print('입력될 리스트 :', input_list)\n",
    "\n",
    "path = r'C:\\Users\\tgkang\\Desktop\\out.txt'\n",
    "f = open(path, 'w')\n",
    "f.writelines(input_list)\n",
    "print(path + '파일이 생성 되었습니다.')\n",
    "f.close()"
   ]
  },
  {
   "cell_type": "markdown",
   "id": "928abfe5",
   "metadata": {},
   "source": [
    "# 11. 함수와 모듈"
   ]
  },
  {
   "cell_type": "markdown",
   "id": "c302391a",
   "metadata": {},
   "source": [
    "## 매개변수와 전역변수"
   ]
  },
  {
   "cell_type": "code",
   "execution_count": 145,
   "id": "0ee487ec",
   "metadata": {},
   "outputs": [
    {
     "data": {
      "text/plain": [
       "2"
      ]
     },
     "execution_count": 145,
     "metadata": {},
     "output_type": "execute_result"
    }
   ],
   "source": [
    "# 가변 개수의 매개변수를 가진 함수\n",
    "def volumeBox(*args):\n",
    "    if len(args) == 3:\n",
    "        return args[0] * args[1] * args[2]\n",
    "    if len(args) == 2:\n",
    "        return args[0] * args[1]\n",
    "\n",
    "volumeBox(1,2)"
   ]
  },
  {
   "cell_type": "code",
   "execution_count": 153,
   "id": "fefb27c0",
   "metadata": {},
   "outputs": [
    {
     "name": "stdout",
     "output_type": "stream",
     "text": [
      "[10, 20, 30]\n",
      "[200, 20, 30]\n",
      "[200, 20, 30]\n"
     ]
    }
   ],
   "source": [
    "# 매개변수의 부작용 - 리스트\n",
    "def change_data(num):\n",
    "    num[0] = 200\n",
    "    print(num)\n",
    "\n",
    "list1 = [10,20,30]\n",
    "print(list1)\n",
    "change_data(list1)\n",
    "print(list1)   # 아에 list1값이 완전히 바뀌어버림 원래는[10,20,30] 그대로 나와야.."
   ]
  },
  {
   "cell_type": "code",
   "execution_count": 158,
   "id": "d32f807a",
   "metadata": {},
   "outputs": [
    {
     "name": "stdout",
     "output_type": "stream",
     "text": [
      "지역변수: 5\n",
      "전역변수: 4\n",
      "4\n"
     ]
    }
   ],
   "source": [
    "# 전역변수\n",
    "def func1(a,b) :\n",
    "    x = a + b\n",
    "    global y\n",
    "    y = a*b\n",
    "    print('지역변수:',x)\n",
    "    print('전역변수:',y)\n",
    "\n",
    "func1(1,4)\n",
    "print(y)"
   ]
  },
  {
   "cell_type": "markdown",
   "id": "03deb0d4",
   "metadata": {},
   "source": [
    "## 실습 예제1"
   ]
  },
  {
   "cell_type": "markdown",
   "id": "9db5b853",
   "metadata": {},
   "source": [
    "사용자로부터 3개의 숫자를 입력 받아 가장 큰 수를 구하는 프로그램을 작성하시오.<p>\n",
    "3개의 숫자를 매개변수로 받아서 가장 큰 수를 반환하는 findMax(a,b,c) 함수로 작성하시오."
   ]
  },
  {
   "cell_type": "code",
   "execution_count": 161,
   "id": "2662cc90",
   "metadata": {},
   "outputs": [
    {
     "name": "stdout",
     "output_type": "stream",
     "text": [
      "첫번째 숫자를 입력하세요 :-5\n",
      "두번째 숫자를 입력하세요 :-2\n",
      "세번째 숫자를 입력하세요 :3\n"
     ]
    },
    {
     "data": {
      "text/plain": [
       "3"
      ]
     },
     "execution_count": 161,
     "metadata": {},
     "output_type": "execute_result"
    }
   ],
   "source": [
    "# 풀이1\n",
    "def findMax(a, b, c):\n",
    "    temp = 0\n",
    "    if a >= temp:\n",
    "        temp = a\n",
    "    if b >= temp:\n",
    "        temp = b\n",
    "    if c >= temp:\n",
    "        temp = c\n",
    "    return temp\n",
    "\n",
    "num1 = int(input('첫번째 숫자를 입력하세요 :'))\n",
    "num2 = int(input('두번째 숫자를 입력하세요 :'))\n",
    "num3 = int(input('세번째 숫자를 입력하세요 :'))\n",
    "\n",
    "findMax(num1, num2, num3)"
   ]
  },
  {
   "cell_type": "markdown",
   "id": "af95d1aa",
   "metadata": {},
   "source": [
    "## 실습 예제2"
   ]
  },
  {
   "cell_type": "markdown",
   "id": "981931fa",
   "metadata": {},
   "source": [
    "사용자로부터 두개의 숫자를 입력 받아 두 숫자 사이(두 숫자 포함)의 소수(prime number)를 출력하는 프로그램을 작성하시오.<p>두 개의 숫자를 매개변수로 받아서 두 숫자 사이의 소수를 출력하고, 소수의 개수를 반환하는 부분을 findPrime(x,y) 함수로 작성하시오.\n",
    "\n"
   ]
  },
  {
   "cell_type": "code",
   "execution_count": 188,
   "id": "853b0d66",
   "metadata": {},
   "outputs": [
    {
     "name": "stdout",
     "output_type": "stream",
     "text": [
      "첫번째 숫자를 입력하세요 :2\n",
      "두번째 숫자를 입력하세요 :5\n",
      "2는 소수입니다.\n",
      "3는 소수입니다.\n",
      "4는 소수가 아닙니다.\n",
      "5는 소수입니다.\n",
      "소수의 개수는3개 입니다.\n"
     ]
    }
   ],
   "source": [
    "# 풀이1\n",
    "def findPrime(x, y):\n",
    "    d = 0\n",
    "    for i in range(num1, num2 + 1):\n",
    "        c = 0\n",
    "        for j in range(2, i): # 자기자신 포함 안함\n",
    "            if i % j == 0 : # 2부터 시작해서 나누어 보기\n",
    "                c = 1 # 나누어 떨어지는수 1개 => 약수가 1개 존재\n",
    "        if c==0: # 나누어 떨어지는 수가 없음 => 약수가 없음\n",
    "            d = d + 1\n",
    "            print(f\"{i}는 소수입니다.\")\n",
    "        else :\n",
    "            print(f\"{i}는 소수가 아닙니다.\")\n",
    "    print(f'소수의 개수는{d}개 입니다.')      \n",
    "\n",
    "num1 = int(input('첫번째 숫자를 입력하세요 :'))\n",
    "num2 = int(input('두번째 숫자를 입력하세요 :'))\n",
    "\n",
    "findPrime(num1, num2)"
   ]
  },
  {
   "cell_type": "code",
   "execution_count": 192,
   "id": "957f6ba9",
   "metadata": {},
   "outputs": [
    {
     "name": "stdout",
     "output_type": "stream",
     "text": [
      "첫번째 숫자를 입력하세요(1보다 큰 수 입력) :2\n",
      "두번째 숫자를 입력하세요(1보다 큰 수 입력) :5\n",
      "2,3,5,\n",
      "소수는 모두 3 개 입니다.\n"
     ]
    }
   ],
   "source": [
    "# 교수님 풀이 이거 이상함\n",
    "def findPrime2(x,y):\n",
    "    count = 0\n",
    "\n",
    "    for i in range(num1, num2 + 1):\n",
    "        for j in range(2, int(i/2)+1): # 이게 맞음 교수님 풀이 틀림\n",
    "            if i % j == 0:\n",
    "                break\n",
    "        else:\n",
    "            print(i, end=',')\n",
    "            count = count + 1\n",
    "    else :\n",
    "        print()\n",
    "    return count\n",
    "\n",
    "num1 = int(input('첫번째 숫자를 입력하세요(1보다 큰 수 입력) :'))\n",
    "num2 = int(input('두번째 숫자를 입력하세요(1보다 큰 수 입력) :'))\n",
    "\n",
    "count = findPrime2(num1, num2)\n",
    "print('소수는 모두', count,'개 입니다.')\n"
   ]
  },
  {
   "cell_type": "markdown",
   "id": "f0e4e36c",
   "metadata": {},
   "source": [
    "## 실습 예제3"
   ]
  },
  {
   "cell_type": "code",
   "execution_count": 221,
   "id": "39c6f672",
   "metadata": {},
   "outputs": [
    {
     "name": "stdout",
     "output_type": "stream",
     "text": [
      "10개의 정수를 스페이스로 구분하여 입력 :100 90 80 70 60 50 40 30 20 10\n",
      "최초의 리스트 : [100, 90, 80, 70, 60, 50, 40, 30, 20, 10]\n",
      "오름차순으로 정렬된 리스트 : [10, 20, 30, 40, 50, 60, 70, 80, 90, 100]\n",
      "리스트에 있는 정수의 합 : 550\n"
     ]
    }
   ],
   "source": [
    "# 풀이\n",
    "def sort_insertion(num_list):\n",
    "    \n",
    "    for i in range(1, len(num_list)):\n",
    "        for j in range(i, 0, -1):\n",
    "            if num_list[j] < num_list[j-1]: # 앞의 수가 더 클 때\n",
    "                temp = num_list[j]\n",
    "                num_list[j] = num_list[j-1]\n",
    "                num_list[j-1] = temp\n",
    "            else: break\n",
    "\n",
    "    return sum(num_list)\n",
    "\n",
    "input_data = input('10개의 정수를 스페이스로 구분하여 입력 :')\n",
    "splited_data = input_data.split()\n",
    "num_list = []\n",
    "for i in splited_data:\n",
    "    num_list.append(int(i))\n",
    "print(\"최초의 리스트 :\", num_list)\n",
    "\n",
    "sum_num = sort_insertion(num_list)\n",
    "print(\"오름차순으로 정렬된 리스트 :\", num_list)\n",
    "print(\"리스트에 있는 정수의 합 :\", sum_num)"
   ]
  },
  {
   "cell_type": "code",
   "execution_count": null,
   "id": "ed242828",
   "metadata": {},
   "outputs": [],
   "source": [
    "ii = [1,4]\n",
    "ii.append()"
   ]
  },
  {
   "cell_type": "markdown",
   "id": "afd8c54f",
   "metadata": {},
   "source": [
    "# 13. 객체지향과 클래스"
   ]
  },
  {
   "cell_type": "code",
   "execution_count": null,
   "id": "fe99ca9b",
   "metadata": {},
   "outputs": [],
   "source": []
  },
  {
   "cell_type": "markdown",
   "id": "0480af36",
   "metadata": {},
   "source": [
    "## 클래스 생성"
   ]
  },
  {
   "cell_type": "code",
   "execution_count": 129,
   "id": "2e9802f1",
   "metadata": {},
   "outputs": [
    {
     "name": "stdout",
     "output_type": "stream",
     "text": [
      "첫번째 숫자 입력 : 2\n",
      "첫번째 숫자 입력 : 5\n",
      "입력한 두 수의 합 :  7\n",
      "입력한 두 수의 차 :  -3\n"
     ]
    }
   ],
   "source": [
    "# 생성자 없이 클래스 생성\n",
    "class PlusMinus:\n",
    "    def plusminus(self, x ,y):\n",
    "        self.sum = x+y\n",
    "        self.minus = x-y\n",
    "        \n",
    "    def result(self):\n",
    "        return self.sum, self.minus\n",
    "\n",
    "x = int(input(\"첫번째 숫자 입력 : \"))\n",
    "y = int(input(\"첫번째 숫자 입력 : \"))\n",
    "\n",
    "pm = PlusMinus()\n",
    "pm.plusminus(x,y)\n",
    "\n",
    "a,b = pm.result()\n",
    "print('입력한 두 수의 합 : ', a)\n",
    "print('입력한 두 수의 차 : ', b)"
   ]
  },
  {
   "cell_type": "code",
   "execution_count": 8,
   "id": "d718407c",
   "metadata": {},
   "outputs": [
    {
     "name": "stdout",
     "output_type": "stream",
     "text": [
      "첫번째 숫자 입력 : 5\n",
      "첫번째 숫자 입력 : 1\n",
      "입력한 두 수의 합 :  6\n",
      "입력한 두 수의 차 :  4\n"
     ]
    }
   ],
   "source": [
    "# 생성자 사용\n",
    "class PlusMinus:\n",
    "    def __init__(self,x,y):\n",
    "        self.sum = x+y\n",
    "        self.minus = x-y\n",
    "\n",
    "    def result(self):\n",
    "        return self.sum, self.minus\n",
    "\n",
    "x = int(input(\"첫번째 숫자 입력 : \"))\n",
    "y = int(input(\"첫번째 숫자 입력 : \"))\n",
    "\n",
    "pm = PlusMinus(x,y)\n",
    "\n",
    "a,b = pm.result()\n",
    "print('입력한 두 수의 합 : ', a)\n",
    "print('입력한 두 수의 차 : ', b)"
   ]
  },
  {
   "cell_type": "markdown",
   "id": "de7ba609",
   "metadata": {},
   "source": [
    "## 실습 예제1 - PolyArea"
   ]
  },
  {
   "cell_type": "markdown",
   "id": "7efec192",
   "metadata": {},
   "source": [
    "사각형의 넓이, 삼각형의 넓이, 원의 넓이, 원의 둘레를 구하는 기능을 클래스 PolyArea로 구현하고, 사용 예를 보이시오."
   ]
  },
  {
   "cell_type": "code",
   "execution_count": 41,
   "id": "16844693",
   "metadata": {},
   "outputs": [],
   "source": [
    "class PolyArea :\n",
    "    def __init__(self):\n",
    "        self.pi = 3.141592\n",
    "        \n",
    "    def rectangleArea(self, width, depth):\n",
    "        return width * depth\n",
    "    \n",
    "    def triangleArea(self, base, height):\n",
    "        return (base * height)/2\n",
    "    \n",
    "    def circleArea(self, r):\n",
    "        return (r**2) * self.pi\n",
    "    \n",
    "    def circumference(self, r):\n",
    "        return 2*self.pi*r\n",
    "\n",
    "A = PolyArea()\n",
    "print(\"사각형의 넓이 : \", A.rectangleArea(4,5))\n",
    "print(\"삼각형의 넓이 : \", A.triangleArea(4,5))\n",
    "print(\"원의 넓이 : \", A.circleArea(5))\n",
    "print(\"원의 둘레 : \", A.circumference(5))"
   ]
  },
  {
   "cell_type": "markdown",
   "id": "153f264f",
   "metadata": {},
   "source": [
    "## 실습 예제2 - Box"
   ]
  },
  {
   "cell_type": "markdown",
   "id": "54b2393b",
   "metadata": {},
   "source": [
    "가로, 세로, 높이를 입력 받아 박스의 부피를 구하여 결과를 반환하는 Box() 클래스를 다음과 같이 사용할 수 있도록 작성하시오.<p>\n",
    "b1 = Box()<p>\n",
    "b1.volume()<p>\n",
    "b1.volume(10)<p>\n",
    "b1.volume(10,20)<p>\n",
    "b1.volume(10,20,30)"
   ]
  },
  {
   "cell_type": "code",
   "execution_count": 131,
   "id": "1858c4ce",
   "metadata": {},
   "outputs": [
    {
     "name": "stdout",
     "output_type": "stream",
     "text": [
      "가로 입력 : 10\n",
      "세로 입력 : 20\n",
      "높이 입력 : 30\n",
      "박스의 가로 : 10, 세로 : 20, 높이 : 30, 부피 : 6000\n"
     ]
    }
   ],
   "source": [
    "# 내 풀이\n",
    "class Volume :\n",
    "    def __init__ (self, x, y, z):\n",
    "        self.width = x\n",
    "        self.length = y\n",
    "        self.height = z\n",
    "        self.volume = x * y * z\n",
    "\n",
    "x = int(input(\"가로 입력 : \"))\n",
    "y = int(input(\"세로 입력 : \"))\n",
    "z = int(input(\"높이 입력 : \"))\n",
    "\n",
    "A = Volume(x,y,z)\n",
    "print(\"박스의 가로 : {}, 세로 : {}, 높이 : {}, 부피 : {}\".format(A.width, A.length, A.height, A.volume))"
   ]
  },
  {
   "cell_type": "code",
   "execution_count": 132,
   "id": "9782cb4e",
   "metadata": {},
   "outputs": [
    {
     "name": "stdout",
     "output_type": "stream",
     "text": [
      "(1, 1, 1, 1)\n",
      "(10, 1, 1, 10)\n",
      "(10, 20, 1, 200)\n",
      "(10, 20, 30, 6000)\n"
     ]
    }
   ],
   "source": [
    "# 교수님 풀이\n",
    "\n",
    "class Box():\n",
    "    def volume(self, x=1, y=1, z=1):\n",
    "        vol = x * y * z\n",
    "        return x, y, z , vol\n",
    "A = Box()\n",
    "\n",
    "print(A.volume())\n",
    "print(A.volume(10))\n",
    "print(A.volume(10,20))\n",
    "print(A.volume(10,20,30))"
   ]
  },
  {
   "cell_type": "markdown",
   "id": "9d3e38bd",
   "metadata": {},
   "source": [
    "## 평가하기"
   ]
  },
  {
   "attachments": {
    "image.png": {
     "image/png": "[encoded data removed]"
    }
   },
   "cell_type": "markdown",
   "id": "ac800d77",
   "metadata": {},
   "source": [
    "![image.png](attachment:image.png)"
   ]
  },
  {
   "cell_type": "code",
   "execution_count": 134,
   "id": "9365a7fa",
   "metadata": {
    "code_folding": [
     7
    ]
   },
   "outputs": [],
   "source": [
    "class Human():\n",
    "    def __init__(self, name=None, age=0, height=0, weight=0):\n",
    "        self.name = name\n",
    "        self.age = age\n",
    "        self.height = height\n",
    "        self.weight = weight\n",
    "    \n",
    "    def showMe(self):\n",
    "        return self.name, self.age, self.height, self.weight\n",
    "    \n",
    "A = Human(\"LST\", 34, 180,75)\n",
    "A.showMe()"
   ]
  },
  {
   "cell_type": "code",
   "execution_count": null,
   "id": "d85bb49f",
   "metadata": {},
   "outputs": [],
   "source": []
  }
 ],
 "metadata": {
  "kernelspec": {
   "display_name": "Python 3 (ipykernel)",
   "language": "python",
   "name": "python3"
  },
  "language_info": {
   "codemirror_mode": {
    "name": "ipython",
    "version": 3
   },
   "file_extension": ".py",
   "mimetype": "text/x-python",
   "name": "python",
   "nbconvert_exporter": "python",
   "pygments_lexer": "ipython3",
   "version": "3.9.7"
  },
  "toc": {
   "base_numbering": 1,
   "nav_menu": {},
   "number_sections": true,
   "sideBar": false,
   "skip_h1_title": false,
   "title_cell": "Table of Contents",
   "title_sidebar": "Contents",
   "toc_cell": false,
   "toc_position": {
    "height": "559.2px",
    "left": "33px",
    "top": "131.467px",
    "width": "201.317px"
   },
   "toc_section_display": true,
   "toc_window_display": false
  }
 },
 "nbformat": 4,
 "nbformat_minor": 5
}
